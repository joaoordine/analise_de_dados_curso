{
 "cells": [
  {
   "cell_type": "markdown",
   "id": "e4e8c9fe-d6d7-4efe-bafc-4f21a821a542",
   "metadata": {},
   "source": [
    "# Download MCF7-scWT5-TS (SRR6730014) WXS"
   ]
  },
  {
   "cell_type": "code",
   "execution_count": 2,
   "id": "6eeff651-a5e9-4414-a4a5-1eaac990d310",
   "metadata": {},
   "outputs": [
    {
     "name": "stdout",
     "output_type": "stream",
     "text": [
      "Defaulting to user installation because normal site-packages is not writeable\n",
      "Collecting pysradb\n",
      "  Downloading pysradb-2.2.2-py3-none-any.whl (171 kB)\n",
      "\u001b[2K     \u001b[38;2;114;156;31m━━━━━━━━━━━━━━━━━━━━━━━━━━━━━━━━━━━━━\u001b[0m \u001b[32m171.0/171.0 KB\u001b[0m \u001b[31m213.6 kB/s\u001b[0m eta \u001b[36m0:00:00\u001b[0m kB/s\u001b[0m eta \u001b[36m0:00:01\u001b[0m:01\u001b[0m\n",
      "\u001b[?25hCollecting lxml>=4.6.3\n",
      "  Downloading lxml-5.3.0-cp310-cp310-manylinux_2_28_x86_64.whl (5.0 MB)\n",
      "\u001b[2K     \u001b[38;2;114;156;31m━━━━━━━━━━━━━━━━━━━━━━━━━━━━━━━━━━━━━━━━\u001b[0m \u001b[32m5.0/5.0 MB\u001b[0m \u001b[31m2.5 MB/s\u001b[0m eta \u001b[36m0:00:00\u001b[0mm eta \u001b[36m0:00:01\u001b[0m0:01\u001b[0m:01\u001b[0m\n",
      "\u001b[?25hRequirement already satisfied: requests>=2.26.0 in /home/joao/.local/lib/python3.10/site-packages (from pysradb) (2.32.3)\n",
      "Collecting xmltodict>=0.12.0\n",
      "  Downloading xmltodict-0.14.1-py2.py3-none-any.whl (10.0 kB)\n",
      "Requirement already satisfied: tqdm>=4.62.1 in /home/joao/.local/lib/python3.10/site-packages (from pysradb) (4.65.0)\n",
      "Collecting pandas>=1.3.2\n",
      "  Downloading pandas-2.2.3-cp310-cp310-manylinux_2_17_x86_64.manylinux2014_x86_64.whl (13.1 MB)\n",
      "\u001b[2K     \u001b[38;2;114;156;31m━━━━━━━━━━━━━━━━━━━━━━━━━━━━━━━━━━━━━━━━\u001b[0m \u001b[32m13.1/13.1 MB\u001b[0m \u001b[31m3.6 MB/s\u001b[0m eta \u001b[36m0:00:00\u001b[0mm eta \u001b[36m0:00:01\u001b[0m[36m0:00:01\u001b[0m\n",
      "\u001b[?25hCollecting requests-ftp>=0.3.1\n",
      "  Downloading requests-ftp-0.3.1.tar.gz (7.8 kB)\n",
      "  Preparing metadata (setup.py) ... \u001b[?25ldone\n",
      "\u001b[?25hRequirement already satisfied: pytz>=2020.1 in /usr/lib/python3/dist-packages (from pandas>=1.3.2->pysradb) (2022.1)\n",
      "Collecting tzdata>=2022.7\n",
      "  Downloading tzdata-2024.2-py2.py3-none-any.whl (346 kB)\n",
      "\u001b[2K     \u001b[38;2;114;156;31m━━━━━━━━━━━━━━━━━━━━━━━━━━━━━━━━━━━━━━━\u001b[0m \u001b[32m346.6/346.6 KB\u001b[0m \u001b[31m2.4 MB/s\u001b[0m eta \u001b[36m0:00:00\u001b[0m[36m0:00:01\u001b[0m[36m0:00:01\u001b[0m\n",
      "\u001b[?25hRequirement already satisfied: python-dateutil>=2.8.2 in /home/joao/.local/lib/python3.10/site-packages (from pandas>=1.3.2->pysradb) (2.9.0.post0)\n",
      "Collecting numpy>=1.22.4\n",
      "  Downloading numpy-2.1.2-cp310-cp310-manylinux_2_17_x86_64.manylinux2014_x86_64.whl (16.3 MB)\n",
      "\u001b[2K     \u001b[38;2;114;156;31m━━━━━━━━━━━━━━━━━━━━━━━━━━━━━━━━━━━━━━━━\u001b[0m \u001b[32m16.3/16.3 MB\u001b[0m \u001b[31m3.5 MB/s\u001b[0m eta \u001b[36m0:00:00\u001b[0mm eta \u001b[36m0:00:01\u001b[0m[36m0:00:01\u001b[0m\n",
      "\u001b[?25hRequirement already satisfied: urllib3<3,>=1.21.1 in /usr/lib/python3/dist-packages (from requests>=2.26.0->pysradb) (1.26.5)\n",
      "Requirement already satisfied: charset-normalizer<4,>=2 in /home/joao/.local/lib/python3.10/site-packages (from requests>=2.26.0->pysradb) (3.4.0)\n",
      "Requirement already satisfied: certifi>=2017.4.17 in /usr/lib/python3/dist-packages (from requests>=2.26.0->pysradb) (2020.6.20)\n",
      "Requirement already satisfied: idna<4,>=2.5 in /usr/lib/python3/dist-packages (from requests>=2.26.0->pysradb) (3.3)\n",
      "Requirement already satisfied: six>=1.5 in /usr/lib/python3/dist-packages (from python-dateutil>=2.8.2->pandas>=1.3.2->pysradb) (1.16.0)\n",
      "Building wheels for collected packages: requests-ftp\n",
      "  Building wheel for requests-ftp (setup.py) ... \u001b[?25ldone\n",
      "\u001b[?25h  Created wheel for requests-ftp: filename=requests_ftp-0.3.1-py3-none-any.whl size=8183 sha256=2372b848f0c31bdb2f0a3f9241701868622196ece3f3bd0a85ec8c9d1595720c\n",
      "  Stored in directory: /home/joao/.cache/pip/wheels/3a/79/dc/f819d2c2e089c0d624dd14a08eccc74e3a7491469d328b72f1\n",
      "Successfully built requests-ftp\n",
      "Installing collected packages: xmltodict, tzdata, numpy, lxml, requests-ftp, pandas, pysradb\n",
      "Successfully installed lxml-5.3.0 numpy-2.1.2 pandas-2.2.3 pysradb-2.2.2 requests-ftp-0.3.1 tzdata-2024.2 xmltodict-0.14.1\n"
     ]
    }
   ],
   "source": [
    "## Install tool recquired to download\n",
    "! pip install pysradb  "
   ]
  },
  {
   "cell_type": "code",
   "execution_count": 9,
   "id": "3fc2cedb-2061-479d-96b0-daf56c19bdf4",
   "metadata": {},
   "outputs": [
    {
     "name": "stdout",
     "output_type": "stream",
     "text": [
      "Defaulting to user installation because normal site-packages is not writeable\n",
      "Requirement already satisfied: pysradb in /home/joao/.local/lib/python3.10/site-packages (2.2.2)\n",
      "Requirement already satisfied: requests>=2.26.0 in /home/joao/.local/lib/python3.10/site-packages (from pysradb) (2.32.3)\n",
      "Requirement already satisfied: requests-ftp>=0.3.1 in /home/joao/.local/lib/python3.10/site-packages (from pysradb) (0.3.1)\n",
      "Requirement already satisfied: lxml>=4.6.3 in /home/joao/.local/lib/python3.10/site-packages (from pysradb) (5.3.0)\n",
      "Requirement already satisfied: tqdm>=4.62.1 in /home/joao/.local/lib/python3.10/site-packages (from pysradb) (4.65.0)\n",
      "Requirement already satisfied: pandas>=1.3.2 in /home/joao/.local/lib/python3.10/site-packages (from pysradb) (2.2.3)\n",
      "Requirement already satisfied: xmltodict>=0.12.0 in /home/joao/.local/lib/python3.10/site-packages (from pysradb) (0.14.1)\n",
      "Requirement already satisfied: numpy>=1.22.4 in /home/joao/.local/lib/python3.10/site-packages (from pandas>=1.3.2->pysradb) (2.1.2)\n",
      "Requirement already satisfied: pytz>=2020.1 in /usr/lib/python3/dist-packages (from pandas>=1.3.2->pysradb) (2022.1)\n",
      "Requirement already satisfied: tzdata>=2022.7 in /home/joao/.local/lib/python3.10/site-packages (from pandas>=1.3.2->pysradb) (2024.2)\n",
      "Requirement already satisfied: python-dateutil>=2.8.2 in /home/joao/.local/lib/python3.10/site-packages (from pandas>=1.3.2->pysradb) (2.9.0.post0)\n",
      "Requirement already satisfied: certifi>=2017.4.17 in /usr/lib/python3/dist-packages (from requests>=2.26.0->pysradb) (2020.6.20)\n",
      "Requirement already satisfied: charset-normalizer<4,>=2 in /home/joao/.local/lib/python3.10/site-packages (from requests>=2.26.0->pysradb) (3.4.0)\n",
      "Requirement already satisfied: idna<4,>=2.5 in /usr/lib/python3/dist-packages (from requests>=2.26.0->pysradb) (3.3)\n",
      "Requirement already satisfied: urllib3<3,>=1.21.1 in /usr/lib/python3/dist-packages (from requests>=2.26.0->pysradb) (1.26.5)\n",
      "Requirement already satisfied: six>=1.5 in /usr/lib/python3/dist-packages (from python-dateutil>=2.8.2->pandas>=1.3.2->pysradb) (1.16.0)\n",
      "Note: you may need to restart the kernel to use updated packages.\n"
     ]
    }
   ],
   "source": [
    "pip install --upgrade pysradb"
   ]
  },
  {
   "cell_type": "code",
   "execution_count": 16,
   "id": "24e5c82d-61ba-489d-aaad-04a353b3e62c",
   "metadata": {},
   "outputs": [
    {
     "name": "stdout",
     "output_type": "stream",
     "text": [
      "Metadata saved as 'sra_metadata.tsv'\n"
     ]
    }
   ],
   "source": [
    "## Retrieve Metadata\n",
    "import pysradb \n",
    "import pandas as pd  \n",
    "\n",
    "db = pysradb.SRAweb() # Initialize the SRA database\n",
    "metadata = db.sra_metadata(\"SRR6730014\") # retrieve this project metadata \n",
    "metadata\n",
    "metadata.to_csv('sra_metadata.tsv', sep='\\t', index=False)\n",
    "print(\"Metadata saved as 'sra_metadata.tsv'\")"
   ]
  },
  {
   "cell_type": "code",
   "execution_count": 13,
   "id": "817cfc43-693c-4280-8ce3-0701ba06759e",
   "metadata": {},
   "outputs": [
    {
     "name": "stdout",
     "output_type": "stream",
     "text": [
      "Collecting package metadata (current_repodata.json): done\n",
      "Solving environment: done\n",
      "\n",
      "\n",
      "==> WARNING: A newer version of conda exists. <==\n",
      "  current version: 23.5.0\n",
      "  latest version: 24.9.1\n",
      "\n",
      "Please update conda by running\n",
      "\n",
      "    $ conda update -n base -c defaults conda\n",
      "\n",
      "Or to minimize the number of packages updated during conda update use\n",
      "\n",
      "     conda install conda=24.9.1\n",
      "\n",
      "\n",
      "\n",
      "# All requested packages already installed.\n",
      "\n"
     ]
    }
   ],
   "source": [
    "## Install sra-downloader  \n",
    "! conda install -y -c bioconda -c bioinf-mcb sra-downloader"
   ]
  },
  {
   "cell_type": "code",
   "execution_count": 24,
   "id": "d55399ec-6961-4e5f-85a1-65ae7f86eea4",
   "metadata": {},
   "outputs": [
    {
     "name": "stdout",
     "output_type": "stream",
     "text": [
      "Namespace(accessions=['SRR6730014'], cores=None, filename=None, save_directory='./downloaded', uncompressed=False)\n",
      "Processing: SRR6730014\n",
      "ERROR:2024-10-16T00:49:21 prefetch.2.9.6 sys: connection failed while opening file within cryptographic module - mbedtls_ssl_handshake returned -9984 ( X509 - Certificate verification failed, e.g. CRL, CA or signature check failed )\n",
      "2024-10-16T00:49:21 prefetch.2.9.6 sys: mbedtls_ssl_get_verify_result returned 0x4008 (  !! The certificate is not correctly signed by the trusted CA  !! The certificate is signed with an unacceptable hash.  )\n",
      "2024-10-16T00:49:21 prefetch.2.9.6 sys: connection failed while opening file within cryptographic module - ktls_handshake failed while accessing '130.14.29.113' from '192.168.0.19'\n",
      "2024-10-16T00:49:21 prefetch.2.9.6 sys: connection failed while opening file within cryptographic module - Failed to create TLS stream for 'trace.ncbi.nlm.nih.gov' (130.14.29.113) from '192.168.0.19'\n",
      "\n",
      "ERROR:2024-10-16T00:49:21 fasterq-dump.2.9.6 err: invalid accession './downloaded/SRR6730014.sra'\n",
      "\n",
      "WARNING:Accession SRR6730014 not found\n",
      "Traceback (most recent call last):\n",
      "  File \"/home/joao/miniconda3/envs/proteomics/bin/sra-downloader\", line 11, in <module>\n",
      "    sys.exit(main())\n",
      "  File \"/home/joao/miniconda3/envs/proteomics/lib/python3.8/site-packages/sra_downloader/__main__.py\", line 41, in main\n",
      "    download_accession(sra_id, args.cores, args.save_directory, not args.uncompressed)\n",
      "  File \"/home/joao/miniconda3/envs/proteomics/lib/python3.8/site-packages/sra_downloader/download.py\", line 65, in download_accession\n",
      "    raise FileNotFoundError \n",
      "FileNotFoundError\n"
     ]
    }
   ],
   "source": [
    "## Download raw data (fastq file) using SRA accession\n",
    "! sra-downloader SRR6730014"
   ]
  },
  {
   "cell_type": "code",
   "execution_count": null,
   "id": "84d8882d-7763-444d-87ba-7761d1b47d9e",
   "metadata": {},
   "outputs": [],
   "source": []
  }
 ],
 "metadata": {
  "kernelspec": {
   "display_name": "Python 3 (ipykernel)",
   "language": "python",
   "name": "python3"
  },
  "language_info": {
   "codemirror_mode": {
    "name": "ipython",
    "version": 3
   },
   "file_extension": ".py",
   "mimetype": "text/x-python",
   "name": "python",
   "nbconvert_exporter": "python",
   "pygments_lexer": "ipython3",
   "version": "3.10.12"
  }
 },
 "nbformat": 4,
 "nbformat_minor": 5
}
