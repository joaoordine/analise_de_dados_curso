{
 "cells": [
  {
   "cell_type": "markdown",
   "id": "e4e8c9fe-d6d7-4efe-bafc-4f21a821a542",
   "metadata": {},
   "source": [
    "# Download MCF7-scWT5-TS (SRR6730014) WXS"
   ]
  },
  {
   "cell_type": "code",
   "execution_count": 2,
   "id": "6eeff651-a5e9-4414-a4a5-1eaac990d310",
   "metadata": {},
   "outputs": [
    {
     "name": "stdout",
     "output_type": "stream",
     "text": [
      "Defaulting to user installation because normal site-packages is not writeable\n",
      "Collecting pysradb\n",
      "  Downloading pysradb-2.2.2-py3-none-any.whl (171 kB)\n",
      "\u001b[2K     \u001b[38;2;114;156;31m━━━━━━━━━━━━━━━━━━━━━━━━━━━━━━━━━━━━━\u001b[0m \u001b[32m171.0/171.0 KB\u001b[0m \u001b[31m213.6 kB/s\u001b[0m eta \u001b[36m0:00:00\u001b[0m kB/s\u001b[0m eta \u001b[36m0:00:01\u001b[0m:01\u001b[0m\n",
      "\u001b[?25hCollecting lxml>=4.6.3\n",
      "  Downloading lxml-5.3.0-cp310-cp310-manylinux_2_28_x86_64.whl (5.0 MB)\n",
      "\u001b[2K     \u001b[38;2;114;156;31m━━━━━━━━━━━━━━━━━━━━━━━━━━━━━━━━━━━━━━━━\u001b[0m \u001b[32m5.0/5.0 MB\u001b[0m \u001b[31m2.5 MB/s\u001b[0m eta \u001b[36m0:00:00\u001b[0mm eta \u001b[36m0:00:01\u001b[0m0:01\u001b[0m:01\u001b[0m\n",
      "\u001b[?25hRequirement already satisfied: requests>=2.26.0 in /home/joao/.local/lib/python3.10/site-packages (from pysradb) (2.32.3)\n",
      "Collecting xmltodict>=0.12.0\n",
      "  Downloading xmltodict-0.14.1-py2.py3-none-any.whl (10.0 kB)\n",
      "Requirement already satisfied: tqdm>=4.62.1 in /home/joao/.local/lib/python3.10/site-packages (from pysradb) (4.65.0)\n",
      "Collecting pandas>=1.3.2\n",
      "  Downloading pandas-2.2.3-cp310-cp310-manylinux_2_17_x86_64.manylinux2014_x86_64.whl (13.1 MB)\n",
      "\u001b[2K     \u001b[38;2;114;156;31m━━━━━━━━━━━━━━━━━━━━━━━━━━━━━━━━━━━━━━━━\u001b[0m \u001b[32m13.1/13.1 MB\u001b[0m \u001b[31m3.6 MB/s\u001b[0m eta \u001b[36m0:00:00\u001b[0mm eta \u001b[36m0:00:01\u001b[0m[36m0:00:01\u001b[0m\n",
      "\u001b[?25hCollecting requests-ftp>=0.3.1\n",
      "  Downloading requests-ftp-0.3.1.tar.gz (7.8 kB)\n",
      "  Preparing metadata (setup.py) ... \u001b[?25ldone\n",
      "\u001b[?25hRequirement already satisfied: pytz>=2020.1 in /usr/lib/python3/dist-packages (from pandas>=1.3.2->pysradb) (2022.1)\n",
      "Collecting tzdata>=2022.7\n",
      "  Downloading tzdata-2024.2-py2.py3-none-any.whl (346 kB)\n",
      "\u001b[2K     \u001b[38;2;114;156;31m━━━━━━━━━━━━━━━━━━━━━━━━━━━━━━━━━━━━━━━\u001b[0m \u001b[32m346.6/346.6 KB\u001b[0m \u001b[31m2.4 MB/s\u001b[0m eta \u001b[36m0:00:00\u001b[0m[36m0:00:01\u001b[0m[36m0:00:01\u001b[0m\n",
      "\u001b[?25hRequirement already satisfied: python-dateutil>=2.8.2 in /home/joao/.local/lib/python3.10/site-packages (from pandas>=1.3.2->pysradb) (2.9.0.post0)\n",
      "Collecting numpy>=1.22.4\n",
      "  Downloading numpy-2.1.2-cp310-cp310-manylinux_2_17_x86_64.manylinux2014_x86_64.whl (16.3 MB)\n",
      "\u001b[2K     \u001b[38;2;114;156;31m━━━━━━━━━━━━━━━━━━━━━━━━━━━━━━━━━━━━━━━━\u001b[0m \u001b[32m16.3/16.3 MB\u001b[0m \u001b[31m3.5 MB/s\u001b[0m eta \u001b[36m0:00:00\u001b[0mm eta \u001b[36m0:00:01\u001b[0m[36m0:00:01\u001b[0m\n",
      "\u001b[?25hRequirement already satisfied: urllib3<3,>=1.21.1 in /usr/lib/python3/dist-packages (from requests>=2.26.0->pysradb) (1.26.5)\n",
      "Requirement already satisfied: charset-normalizer<4,>=2 in /home/joao/.local/lib/python3.10/site-packages (from requests>=2.26.0->pysradb) (3.4.0)\n",
      "Requirement already satisfied: certifi>=2017.4.17 in /usr/lib/python3/dist-packages (from requests>=2.26.0->pysradb) (2020.6.20)\n",
      "Requirement already satisfied: idna<4,>=2.5 in /usr/lib/python3/dist-packages (from requests>=2.26.0->pysradb) (3.3)\n",
      "Requirement already satisfied: six>=1.5 in /usr/lib/python3/dist-packages (from python-dateutil>=2.8.2->pandas>=1.3.2->pysradb) (1.16.0)\n",
      "Building wheels for collected packages: requests-ftp\n",
      "  Building wheel for requests-ftp (setup.py) ... \u001b[?25ldone\n",
      "\u001b[?25h  Created wheel for requests-ftp: filename=requests_ftp-0.3.1-py3-none-any.whl size=8183 sha256=2372b848f0c31bdb2f0a3f9241701868622196ece3f3bd0a85ec8c9d1595720c\n",
      "  Stored in directory: /home/joao/.cache/pip/wheels/3a/79/dc/f819d2c2e089c0d624dd14a08eccc74e3a7491469d328b72f1\n",
      "Successfully built requests-ftp\n",
      "Installing collected packages: xmltodict, tzdata, numpy, lxml, requests-ftp, pandas, pysradb\n",
      "Successfully installed lxml-5.3.0 numpy-2.1.2 pandas-2.2.3 pysradb-2.2.2 requests-ftp-0.3.1 tzdata-2024.2 xmltodict-0.14.1\n"
     ]
    }
   ],
   "source": [
    "## Install tool recquired to download\n",
    "! pip install pysradb  "
   ]
  },
  {
   "cell_type": "code",
   "execution_count": 9,
   "id": "3fc2cedb-2061-479d-96b0-daf56c19bdf4",
   "metadata": {},
   "outputs": [
    {
     "name": "stdout",
     "output_type": "stream",
     "text": [
      "Defaulting to user installation because normal site-packages is not writeable\n",
      "Requirement already satisfied: pysradb in /home/joao/.local/lib/python3.10/site-packages (2.2.2)\n",
      "Requirement already satisfied: requests>=2.26.0 in /home/joao/.local/lib/python3.10/site-packages (from pysradb) (2.32.3)\n",
      "Requirement already satisfied: requests-ftp>=0.3.1 in /home/joao/.local/lib/python3.10/site-packages (from pysradb) (0.3.1)\n",
      "Requirement already satisfied: lxml>=4.6.3 in /home/joao/.local/lib/python3.10/site-packages (from pysradb) (5.3.0)\n",
      "Requirement already satisfied: tqdm>=4.62.1 in /home/joao/.local/lib/python3.10/site-packages (from pysradb) (4.65.0)\n",
      "Requirement already satisfied: pandas>=1.3.2 in /home/joao/.local/lib/python3.10/site-packages (from pysradb) (2.2.3)\n",
      "Requirement already satisfied: xmltodict>=0.12.0 in /home/joao/.local/lib/python3.10/site-packages (from pysradb) (0.14.1)\n",
      "Requirement already satisfied: numpy>=1.22.4 in /home/joao/.local/lib/python3.10/site-packages (from pandas>=1.3.2->pysradb) (2.1.2)\n",
      "Requirement already satisfied: pytz>=2020.1 in /usr/lib/python3/dist-packages (from pandas>=1.3.2->pysradb) (2022.1)\n",
      "Requirement already satisfied: tzdata>=2022.7 in /home/joao/.local/lib/python3.10/site-packages (from pandas>=1.3.2->pysradb) (2024.2)\n",
      "Requirement already satisfied: python-dateutil>=2.8.2 in /home/joao/.local/lib/python3.10/site-packages (from pandas>=1.3.2->pysradb) (2.9.0.post0)\n",
      "Requirement already satisfied: certifi>=2017.4.17 in /usr/lib/python3/dist-packages (from requests>=2.26.0->pysradb) (2020.6.20)\n",
      "Requirement already satisfied: charset-normalizer<4,>=2 in /home/joao/.local/lib/python3.10/site-packages (from requests>=2.26.0->pysradb) (3.4.0)\n",
      "Requirement already satisfied: idna<4,>=2.5 in /usr/lib/python3/dist-packages (from requests>=2.26.0->pysradb) (3.3)\n",
      "Requirement already satisfied: urllib3<3,>=1.21.1 in /usr/lib/python3/dist-packages (from requests>=2.26.0->pysradb) (1.26.5)\n",
      "Requirement already satisfied: six>=1.5 in /usr/lib/python3/dist-packages (from python-dateutil>=2.8.2->pandas>=1.3.2->pysradb) (1.16.0)\n",
      "Note: you may need to restart the kernel to use updated packages.\n"
     ]
    }
   ],
   "source": [
    "pip install --upgrade pysradb"
   ]
  },
  {
   "cell_type": "code",
   "execution_count": 37,
   "id": "24e5c82d-61ba-489d-aaad-04a353b3e62c",
   "metadata": {},
   "outputs": [
    {
     "name": "stderr",
     "output_type": "stream",
     "text": [
      "/home/joao/.local/lib/python3.10/site-packages/pysradb/utils.py:14: TqdmWarning: IProgress not found. Please update jupyter and ipywidgets. See https://ipywidgets.readthedocs.io/en/stable/user_install.html\n",
      "  from tqdm.autonotebook import tqdm\n"
     ]
    },
    {
     "name": "stdout",
     "output_type": "stream",
     "text": [
      "Metadata saved as 'sra_metadata.tsv'\n"
     ]
    },
    {
     "data": {
      "text/html": [
       "<div>\n",
       "<style scoped>\n",
       "    .dataframe tbody tr th:only-of-type {\n",
       "        vertical-align: middle;\n",
       "    }\n",
       "\n",
       "    .dataframe tbody tr th {\n",
       "        vertical-align: top;\n",
       "    }\n",
       "\n",
       "    .dataframe thead th {\n",
       "        text-align: right;\n",
       "    }\n",
       "</style>\n",
       "<table border=\"1\" class=\"dataframe\">\n",
       "  <thead>\n",
       "    <tr style=\"text-align: right;\">\n",
       "      <th></th>\n",
       "      <th>study_accession</th>\n",
       "      <th>study_title</th>\n",
       "      <th>experiment_accession</th>\n",
       "      <th>experiment_title</th>\n",
       "      <th>experiment_desc</th>\n",
       "      <th>organism_taxid</th>\n",
       "      <th>organism_name</th>\n",
       "      <th>library_name</th>\n",
       "      <th>library_strategy</th>\n",
       "      <th>library_source</th>\n",
       "      <th>...</th>\n",
       "      <th>biosample</th>\n",
       "      <th>bioproject</th>\n",
       "      <th>instrument</th>\n",
       "      <th>instrument_model</th>\n",
       "      <th>instrument_model_desc</th>\n",
       "      <th>total_spots</th>\n",
       "      <th>total_size</th>\n",
       "      <th>run_accession</th>\n",
       "      <th>run_total_spots</th>\n",
       "      <th>run_total_bases</th>\n",
       "    </tr>\n",
       "  </thead>\n",
       "  <tbody>\n",
       "    <tr>\n",
       "      <th>0</th>\n",
       "      <td>SRP115699</td>\n",
       "      <td>Genetic, transcriptomic, and drug response con...</td>\n",
       "      <td>SRX3703011</td>\n",
       "      <td>MCF7-scWT5-TS</td>\n",
       "      <td>MCF7-scWT5-TS</td>\n",
       "      <td>9606</td>\n",
       "      <td>Homo sapiens</td>\n",
       "      <td>155969</td>\n",
       "      <td>OTHER</td>\n",
       "      <td>GENOMIC</td>\n",
       "      <td>...</td>\n",
       "      <td>SAMN08536601</td>\n",
       "      <td>PRJNA398960</td>\n",
       "      <td>Illumina HiSeq 3000</td>\n",
       "      <td>Illumina HiSeq 3000</td>\n",
       "      <td>ILLUMINA</td>\n",
       "      <td>13806095</td>\n",
       "      <td>1337194470</td>\n",
       "      <td>SRR6730014</td>\n",
       "      <td>13806095</td>\n",
       "      <td>2788831190</td>\n",
       "    </tr>\n",
       "  </tbody>\n",
       "</table>\n",
       "<p>1 rows × 24 columns</p>\n",
       "</div>"
      ],
      "text/plain": [
       "  study_accession                                        study_title  \\\n",
       "0       SRP115699  Genetic, transcriptomic, and drug response con...   \n",
       "\n",
       "  experiment_accession experiment_title experiment_desc organism_taxid  \\\n",
       "0           SRX3703011    MCF7-scWT5-TS   MCF7-scWT5-TS           9606   \n",
       "\n",
       "  organism_name library_name library_strategy library_source  ...  \\\n",
       "0  Homo sapiens       155969            OTHER        GENOMIC  ...   \n",
       "\n",
       "      biosample   bioproject           instrument     instrument_model  \\\n",
       "0  SAMN08536601  PRJNA398960  Illumina HiSeq 3000  Illumina HiSeq 3000   \n",
       "\n",
       "  instrument_model_desc total_spots  total_size run_accession run_total_spots  \\\n",
       "0              ILLUMINA    13806095  1337194470    SRR6730014        13806095   \n",
       "\n",
       "  run_total_bases  \n",
       "0      2788831190  \n",
       "\n",
       "[1 rows x 24 columns]"
      ]
     },
     "execution_count": 37,
     "metadata": {},
     "output_type": "execute_result"
    }
   ],
   "source": [
    "## Retrieve Metadata\n",
    "import pysradb \n",
    "import pandas as pd  \n",
    "\n",
    "db = pysradb.SRAweb() # Initialize the SRA database\n",
    "metadata = db.sra_metadata(\"SRR6730014\") # retrieve this project metadata \n",
    "metadata.to_csv('sra_metadata.tsv', sep='\\t', index=False)\n",
    "print(\"Metadata saved as 'sra_metadata.tsv'\")\n",
    "metadata"
   ]
  },
  {
   "cell_type": "code",
   "execution_count": 44,
   "id": "dfc439be-326d-4abb-889d-bc9247039fc7",
   "metadata": {},
   "outputs": [
    {
     "name": "stdout",
     "output_type": "stream",
     "text": [
      "Requirement already satisfied: bio in /home/joao/miniconda3/envs/proteomics/lib/python3.8/site-packages (1.6.2)\n",
      "Requirement already satisfied: biopython>=1.80 in /home/joao/miniconda3/envs/proteomics/lib/python3.8/site-packages (from bio) (1.83)\n",
      "Requirement already satisfied: requests in /home/joao/miniconda3/envs/proteomics/lib/python3.8/site-packages (from bio) (2.32.3)\n",
      "Requirement already satisfied: tqdm in /home/joao/miniconda3/envs/proteomics/lib/python3.8/site-packages (from bio) (4.66.5)\n",
      "Requirement already satisfied: mygene in /home/joao/miniconda3/envs/proteomics/lib/python3.8/site-packages (from bio) (3.2.2)\n",
      "Requirement already satisfied: pandas in /home/joao/miniconda3/envs/proteomics/lib/python3.8/site-packages (from bio) (2.0.3)\n",
      "Requirement already satisfied: pooch in /home/joao/miniconda3/envs/proteomics/lib/python3.8/site-packages (from bio) (1.8.2)\n",
      "Requirement already satisfied: gprofiler-official in /home/joao/miniconda3/envs/proteomics/lib/python3.8/site-packages (from bio) (1.0.0)\n",
      "Requirement already satisfied: numpy in /home/joao/miniconda3/envs/proteomics/lib/python3.8/site-packages (from biopython>=1.80->bio) (1.24.4)\n",
      "Requirement already satisfied: biothings-client>=0.2.6 in /home/joao/miniconda3/envs/proteomics/lib/python3.8/site-packages (from mygene->bio) (0.3.1)\n",
      "Requirement already satisfied: python-dateutil>=2.8.2 in /home/joao/miniconda3/envs/proteomics/lib/python3.8/site-packages (from pandas->bio) (2.9.0.post0)\n",
      "Requirement already satisfied: pytz>=2020.1 in /home/joao/miniconda3/envs/proteomics/lib/python3.8/site-packages (from pandas->bio) (2024.2)\n",
      "Requirement already satisfied: tzdata>=2022.1 in /home/joao/miniconda3/envs/proteomics/lib/python3.8/site-packages (from pandas->bio) (2024.2)\n",
      "Requirement already satisfied: platformdirs>=2.5.0 in /home/joao/miniconda3/envs/proteomics/lib/python3.8/site-packages (from pooch->bio) (4.3.6)\n",
      "Requirement already satisfied: packaging>=20.0 in /home/joao/miniconda3/envs/proteomics/lib/python3.8/site-packages (from pooch->bio) (24.1)\n",
      "Requirement already satisfied: charset-normalizer<4,>=2 in /home/joao/miniconda3/envs/proteomics/lib/python3.8/site-packages (from requests->bio) (3.4.0)\n",
      "Requirement already satisfied: idna<4,>=2.5 in /home/joao/miniconda3/envs/proteomics/lib/python3.8/site-packages (from requests->bio) (3.10)\n",
      "Requirement already satisfied: urllib3<3,>=1.21.1 in /home/joao/miniconda3/envs/proteomics/lib/python3.8/site-packages (from requests->bio) (2.2.3)\n",
      "Requirement already satisfied: certifi>=2017.4.17 in /home/joao/miniconda3/envs/proteomics/lib/python3.8/site-packages (from requests->bio) (2024.8.30)\n",
      "Requirement already satisfied: six>=1.5 in /home/joao/miniconda3/envs/proteomics/lib/python3.8/site-packages (from python-dateutil>=2.8.2->pandas->bio) (1.16.0)\n",
      "https://ftp.sra.ebi.ac.uk/vol1/fastq/SRR673/004/SRR6730014/SRR6730014_1.fastq.gz\n",
      "https://ftp.sra.ebi.ac.uk/vol1/fastq/SRR673/004/SRR6730014/SRR6730014_2.fastq.gz\n"
     ]
    }
   ],
   "source": [
    "## Install bio tool and fetch data \n",
    "! pip install bio --upgrade\n",
    "! bio fetch SRR6730014 "
   ]
  },
  {
   "cell_type": "code",
   "execution_count": 45,
   "id": "341cc754-9e18-41f0-aca6-6e0adab1dbd5",
   "metadata": {},
   "outputs": [
    {
     "data": {
      "text/plain": [
       "('SRR6730014_2.fastq.gz', <http.client.HTTPMessage at 0x72b563aaace0>)"
      ]
     },
     "execution_count": 45,
     "metadata": {},
     "output_type": "execute_result"
    }
   ],
   "source": [
    "## Import data\n",
    "import urllib.request\n",
    "url = \"https://ftp.sra.ebi.ac.uk/vol1/fastq/SRR673/004/SRR6730014/SRR6730014_2.fastq.gz\" \n",
    "urllib.request.urlretrieve(url, \"SRR6730014_2.fastq.gz\")"
   ]
  }
 ],
 "metadata": {
  "kernelspec": {
   "display_name": "Python 3 (ipykernel)",
   "language": "python",
   "name": "python3"
  },
  "language_info": {
   "codemirror_mode": {
    "name": "ipython",
    "version": 3
   },
   "file_extension": ".py",
   "mimetype": "text/x-python",
   "name": "python",
   "nbconvert_exporter": "python",
   "pygments_lexer": "ipython3",
   "version": "3.10.12"
  }
 },
 "nbformat": 4,
 "nbformat_minor": 5
}
