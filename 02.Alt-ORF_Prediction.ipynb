{
 "cells": [
  {
   "cell_type": "markdown",
   "id": "9a5bec2a-8b86-43a8-926e-a562d4242569",
   "metadata": {},
   "source": [
    "# Predict Alt-ORFs within MCF7 WXS"
   ]
  },
  {
   "cell_type": "code",
   "execution_count": 1,
   "id": "492b59f6-ac66-453a-9f8b-c328a185e8fb",
   "metadata": {},
   "outputs": [
    {
     "name": "stdout",
     "output_type": "stream",
     "text": [
      "Requirement already satisfied: orfipy in /home/strawberry/miniconda3/envs/proteomics/lib/python3.12/site-packages (0.0.4)\n",
      "Collecting cython (from orfipy)\n",
      "  Downloading Cython-3.0.11-cp312-cp312-manylinux_2_17_x86_64.manylinux2014_x86_64.whl.metadata (3.2 kB)\n",
      "Requirement already satisfied: psutil in /home/strawberry/miniconda3/envs/proteomics/lib/python3.12/site-packages (from orfipy) (6.0.0)\n",
      "Requirement already satisfied: pyfastx in /home/strawberry/miniconda3/envs/proteomics/lib/python3.12/site-packages (from orfipy) (2.1.0)\n",
      "Requirement already satisfied: pyahocorasick in /home/strawberry/miniconda3/envs/proteomics/lib/python3.12/site-packages (from orfipy) (2.1.0)\n",
      "Requirement already satisfied: colorama in /home/strawberry/miniconda3/envs/proteomics/lib/python3.12/site-packages (from orfipy) (0.4.6)\n",
      "Downloading Cython-3.0.11-cp312-cp312-manylinux_2_17_x86_64.manylinux2014_x86_64.whl (3.5 MB)\n",
      "\u001b[2K   \u001b[38;2;114;156;31m━━━━━━━━━━━━━━━━━━━━━━━━━━━━━━━━━━━━━━━━\u001b[0m \u001b[32m3.5/3.5 MB\u001b[0m \u001b[31m38.4 MB/s\u001b[0m eta \u001b[36m0:00:00\u001b[0m\n",
      "\u001b[?25hInstalling collected packages: cython\n",
      "Successfully installed cython-3.0.11\n"
     ]
    }
   ],
   "source": [
    "## Install orfipy\n",
    "! pip install orfipy"
   ]
  },
  {
   "cell_type": "code",
   "execution_count": 2,
   "id": "88ef3bf4-3448-4bce-9a34-ada830817af4",
   "metadata": {},
   "outputs": [
    {
     "name": "stdout",
     "output_type": "stream",
     "text": [
      "usage: \n",
      "    orfipy [<options>] <infile>\n",
      "    By default orfipy reports ORFs as sequences between start and stop codons. See ORF searching options to change this behaviour.\n",
      "    If no output type, i.e. dna, rna, pep, bed or bed12, is specified, default output is bed format to stdout.\n",
      "    \n",
      "\n",
      "orfipy: extract Open Reading Frames (version 0.0.4)\n",
      "\n",
      "positional arguments:\n",
      "  infile                The input file, in plain Fasta/Fastq or gzipped\n",
      "                        format, containing Nucletide sequences\n",
      "\n",
      "options:\n",
      "  -h, --help            show this help message and exit\n",
      "  --procs PROCS         Num processor cores to use Default:mp.cpu_count()\n",
      "  --single-mode         Run in single mode i.e. no parallel processing\n",
      "                        (SLOWER). If supplied with procs, this is ignored.\n",
      "                        Default: False\n",
      "  --table TABLE         The codon table number to use or path to .json file\n",
      "                        with codon table. Use --show-tables to see available\n",
      "                        tables compiled from: https://www.ncbi.nlm.nih.gov/Tax\n",
      "                        onomy/Utils/wprintgc.cgi?chapter=cgencodes Default: 1\n",
      "  --start START         Comma-separated list of start-codons. This will\n",
      "                        override start codons described in translation table.\n",
      "                        E.g. \"--start ATG,ATT\" Default: Derived from the\n",
      "                        translation table selected\n",
      "  --stop STOP           Comma-separated list of stop codons. This will\n",
      "                        override stop codons described in translation table.\n",
      "                        E.g. \"--start TAG,TTT\" Default: Derived from the\n",
      "                        translation table selected\n",
      "  --outdir OUTDIR       Path to outdir default: orfipy_<infasta>_out\n",
      "  --bed12 BED12         bed12 out file Default: None\n",
      "  --bed BED             bed out file Default: None\n",
      "  --dna DNA             fasta (DNA) out file Default: None\n",
      "  --rna RNA             fasta (RNA) out file Default: None\n",
      "  --pep PEP             fasta (peptide) out file Default: None\n",
      "  --min MIN             Minimum length of ORF, excluding stop codon\n",
      "                        (nucleotide) Default: 30\n",
      "  --max MAX             Maximum length of ORF, excluding stop codon\n",
      "                        (nucleotide) Default: 1,000,000,000\n",
      "  --strand {f,r,b}      Strands to find ORFs [(f)orward,(r)everse,(b)oth]\n",
      "                        Default: b\n",
      "  --ignore-case         Ignore case and find ORFs in lower case sequences too.\n",
      "                        Useful for soft-masked sequences. Default: False\n",
      "  --partial-3           Output ORFs with a start codon but lacking an inframe\n",
      "                        stop codon. E.g. \"ATG TTT AAA\" Default: False\n",
      "  --partial-5           Output ORFs with an inframe stop codon lacking an\n",
      "                        inframe start codon. E.g. \"TTT AAA TAG\" Default: False\n",
      "  --between-stops       Output ORFs defined as regions between stop codons\n",
      "                        (regions free of stop codon). This will set\n",
      "                        --partial-3 and --partial-5 true. Default: False\n",
      "  --include-stop        Include stop codon in the results, if a stop codon\n",
      "                        exists. This output format is compatible with\n",
      "                        TransDecoder's which includes stop codon coordinates\n",
      "                        Default: False\n",
      "  --longest             Output a separate BED file for longest ORFs per\n",
      "                        sequence. Requires bed option. Default: False\n",
      "  --by-frame            Output separate BED files for ORFs by frame. Can be\n",
      "                        combined with \"--longest\" to output longest ORFs in\n",
      "                        each frame. Requires bed option. Default: False\n",
      "  --chunk-size CHUNK_SIZE\n",
      "                        Max chunk size in MB. This is useful for limiting\n",
      "                        memory usage when processing large fasta files using\n",
      "                        multiple processes The files are processed in chunks\n",
      "                        if file size is greater than chunk-size. By default\n",
      "                        orfipy computes the chunk size based on available\n",
      "                        memory and cpu cores. Providing a smaller chunk-size\n",
      "                        will lower the memory usage but, actual memory used by\n",
      "                        orfipy can be more than the chunk-size. Providing a\n",
      "                        very high chunk-size can lead to memory issues for\n",
      "                        larger sequences such as large chromosomes. It is best\n",
      "                        to let orfipy decide on the chunk-size. Default:\n",
      "                        estimated by orfipy based on system memory and cpu\n",
      "  --show-tables         Print translation tables and exit. Default: False\n",
      "  --version             Print version information and exit\n"
     ]
    }
   ],
   "source": [
    "! orfipy -h # check if it installed properly"
   ]
  },
  {
   "cell_type": "code",
   "execution_count": 5,
   "id": "3ee73141-6416-4273-ad07-c39302f133cd",
   "metadata": {},
   "outputs": [
    {
     "name": "stdout",
     "output_type": "stream",
     "text": [
      "\u001b[96morfipy version 0.0.4\u001b[0m\n",
      "\u001b[96mUsing translation table: Standard (transl_table=1) start: ['TTG', 'CTG', 'ATG'] stop: ['TAA', 'TAG', 'TGA']\u001b[0m\n",
      "\u001b[96mSetting chunk size 530 MB. Procs 15\u001b[0m\n",
      "\u001b[93mLogs will be saved to: orfipy_SRR6730014_2.fastq.gz_out/orfipy_2024_10_18_17_22_05.688783.log\u001b[0m\n",
      "Processing 2788831190 bytes\n",
      "\u001b[92mProcessed 13806095 sequences in 59.13 seconds\u001b[0m\n"
     ]
    }
   ],
   "source": [
    "! orfipy --dna MCF7_ORFs_min18.fasta --min 18 \"data/SRR6730014_2.fastq.gz\" "
   ]
  },
  {
   "cell_type": "code",
   "execution_count": 6,
   "id": "52594227-7691-40dc-93d2-54fe3a672875",
   "metadata": {},
   "outputs": [],
   "source": [
    "# Move output file to data folder \n",
    "! mv orfipy_SRR6730014_2.fastq.gz_out/MCF7_ORFs_min18.fasta data/MCF7_ORFs_min18.fasta # replace it accordingly "
   ]
  }
 ],
 "metadata": {
  "kernelspec": {
   "display_name": "Python 3 (ipykernel)",
   "language": "python",
   "name": "python3"
  },
  "language_info": {
   "codemirror_mode": {
    "name": "ipython",
    "version": 3
   },
   "file_extension": ".py",
   "mimetype": "text/x-python",
   "name": "python",
   "nbconvert_exporter": "python",
   "pygments_lexer": "ipython3",
   "version": "3.10.12"
  }
 },
 "nbformat": 4,
 "nbformat_minor": 5
}
