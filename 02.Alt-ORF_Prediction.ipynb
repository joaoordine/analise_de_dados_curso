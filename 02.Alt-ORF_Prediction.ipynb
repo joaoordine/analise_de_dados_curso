{
 "cells": [
  {
   "cell_type": "markdown",
   "id": "9a5bec2a-8b86-43a8-926e-a562d4242569",
   "metadata": {},
   "source": [
    "# Predict Alt-ORFs within MCF7 WXS"
   ]
  },
  {
   "cell_type": "code",
   "execution_count": 5,
   "id": "492b59f6-ac66-453a-9f8b-c328a185e8fb",
   "metadata": {},
   "outputs": [
    {
     "name": "stdout",
     "output_type": "stream",
     "text": [
      "Collecting orfipy\n",
      "  Downloading orfipy-0.0.4.tar.gz (104 kB)\n",
      "  Installing build dependencies ... \u001b[?25ldone\n",
      "\u001b[?25h  Getting requirements to build wheel ... \u001b[?25ldone\n",
      "\u001b[?25h  Preparing metadata (pyproject.toml) ... \u001b[?25ldone\n",
      "\u001b[?25hCollecting cython (from orfipy)\n",
      "  Using cached Cython-3.0.11-cp38-cp38-manylinux_2_17_x86_64.manylinux2014_x86_64.whl.metadata (3.2 kB)\n",
      "Collecting psutil (from orfipy)\n",
      "  Downloading psutil-6.0.0-cp36-abi3-manylinux_2_12_x86_64.manylinux2010_x86_64.manylinux_2_17_x86_64.manylinux2014_x86_64.whl.metadata (21 kB)\n",
      "Collecting pyfastx (from orfipy)\n",
      "  Downloading pyfastx-2.1.0-cp38-cp38-manylinux_2_17_x86_64.manylinux2014_x86_64.whl.metadata (30 kB)\n",
      "Collecting pyahocorasick (from orfipy)\n",
      "  Downloading pyahocorasick-2.1.0-cp38-cp38-manylinux_2_5_x86_64.manylinux1_x86_64.whl.metadata (13 kB)\n",
      "Collecting colorama (from orfipy)\n",
      "  Downloading colorama-0.4.6-py2.py3-none-any.whl.metadata (17 kB)\n",
      "Downloading colorama-0.4.6-py2.py3-none-any.whl (25 kB)\n",
      "Using cached Cython-3.0.11-cp38-cp38-manylinux_2_17_x86_64.manylinux2014_x86_64.whl (3.6 MB)\n",
      "Downloading psutil-6.0.0-cp36-abi3-manylinux_2_12_x86_64.manylinux2010_x86_64.manylinux_2_17_x86_64.manylinux2014_x86_64.whl (290 kB)\n",
      "Downloading pyahocorasick-2.1.0-cp38-cp38-manylinux_2_5_x86_64.manylinux1_x86_64.whl (104 kB)\n",
      "Downloading pyfastx-2.1.0-cp38-cp38-manylinux_2_17_x86_64.manylinux2014_x86_64.whl (1.1 MB)\n",
      "\u001b[2K   \u001b[38;2;114;156;31m━━━━━━━━━━━━━━━━━━━━━━━━━━━━━━━━━━━━━━━━\u001b[0m \u001b[32m1.1/1.1 MB\u001b[0m \u001b[31m2.6 MB/s\u001b[0m eta \u001b[36m0:00:00\u001b[0m[31m5.9 MB/s\u001b[0m eta \u001b[36m0:00:01\u001b[0m\n",
      "\u001b[?25hBuilding wheels for collected packages: orfipy\n",
      "  Building wheel for orfipy (pyproject.toml) ... \u001b[?25ldone\n",
      "\u001b[?25h  Created wheel for orfipy: filename=orfipy-0.0.4-cp38-cp38-linux_x86_64.whl size=661619 sha256=ba66d1980f5861b3d9bdb5ba19aac4f8ce2080614e817ebe51e3579175a6b42e\n",
      "  Stored in directory: /home/joao/.cache/pip/wheels/78/ed/a4/736e44c22b9d6b9db979435d4469533836bba40066ed926f65\n",
      "Successfully built orfipy\n",
      "Installing collected packages: pyfastx, pyahocorasick, psutil, cython, colorama, orfipy\n",
      "Successfully installed colorama-0.4.6 cython-3.0.11 orfipy-0.0.4 psutil-6.0.0 pyahocorasick-2.1.0 pyfastx-2.1.0\n"
     ]
    }
   ],
   "source": [
    "## Install orfipy\n",
    "! pip install orfipy"
   ]
  },
  {
   "cell_type": "code",
   "execution_count": 6,
   "id": "88ef3bf4-3448-4bce-9a34-ada830817af4",
   "metadata": {},
   "outputs": [
    {
     "name": "stdout",
     "output_type": "stream",
     "text": [
      "usage: \n",
      "    orfipy [<options>] <infile>\n",
      "    By default orfipy reports ORFs as sequences between start and stop codons. See ORF searching options to change this behaviour.\n",
      "    If no output type, i.e. dna, rna, pep, bed or bed12, is specified, default output is bed format to stdout.\n",
      "    \n",
      "\n",
      "orfipy: extract Open Reading Frames (version 0.0.4)\n",
      "\n",
      "positional arguments:\n",
      "  infile                The input file, in plain Fasta/Fastq or gzipped\n",
      "                        format, containing Nucletide sequences\n",
      "\n",
      "optional arguments:\n",
      "  -h, --help            show this help message and exit\n",
      "  --procs PROCS         Num processor cores to use Default:mp.cpu_count()\n",
      "  --single-mode         Run in single mode i.e. no parallel processing\n",
      "                        (SLOWER). If supplied with procs, this is ignored.\n",
      "                        Default: False\n",
      "  --table TABLE         The codon table number to use or path to .json file\n",
      "                        with codon table. Use --show-tables to see available\n",
      "                        tables compiled from: https://www.ncbi.nlm.nih.gov/Tax\n",
      "                        onomy/Utils/wprintgc.cgi?chapter=cgencodes Default: 1\n",
      "  --start START         Comma-separated list of start-codons. This will\n",
      "                        override start codons described in translation table.\n",
      "                        E.g. \"--start ATG,ATT\" Default: Derived from the\n",
      "                        translation table selected\n",
      "  --stop STOP           Comma-separated list of stop codons. This will\n",
      "                        override stop codons described in translation table.\n",
      "                        E.g. \"--start TAG,TTT\" Default: Derived from the\n",
      "                        translation table selected\n",
      "  --outdir OUTDIR       Path to outdir default: orfipy_<infasta>_out\n",
      "  --bed12 BED12         bed12 out file Default: None\n",
      "  --bed BED             bed out file Default: None\n",
      "  --dna DNA             fasta (DNA) out file Default: None\n",
      "  --rna RNA             fasta (RNA) out file Default: None\n",
      "  --pep PEP             fasta (peptide) out file Default: None\n",
      "  --min MIN             Minimum length of ORF, excluding stop codon\n",
      "                        (nucleotide) Default: 30\n",
      "  --max MAX             Maximum length of ORF, excluding stop codon\n",
      "                        (nucleotide) Default: 1,000,000,000\n",
      "  --strand {f,r,b}      Strands to find ORFs [(f)orward,(r)everse,(b)oth]\n",
      "                        Default: b\n",
      "  --ignore-case         Ignore case and find ORFs in lower case sequences too.\n",
      "                        Useful for soft-masked sequences. Default: False\n",
      "  --partial-3           Output ORFs with a start codon but lacking an inframe\n",
      "                        stop codon. E.g. \"ATG TTT AAA\" Default: False\n",
      "  --partial-5           Output ORFs with an inframe stop codon lacking an\n",
      "                        inframe start codon. E.g. \"TTT AAA TAG\" Default: False\n",
      "  --between-stops       Output ORFs defined as regions between stop codons\n",
      "                        (regions free of stop codon). This will set\n",
      "                        --partial-3 and --partial-5 true. Default: False\n",
      "  --include-stop        Include stop codon in the results, if a stop codon\n",
      "                        exists. This output format is compatible with\n",
      "                        TransDecoder's which includes stop codon coordinates\n",
      "                        Default: False\n",
      "  --longest             Output a separate BED file for longest ORFs per\n",
      "                        sequence. Requires bed option. Default: False\n",
      "  --by-frame            Output separate BED files for ORFs by frame. Can be\n",
      "                        combined with \"--longest\" to output longest ORFs in\n",
      "                        each frame. Requires bed option. Default: False\n",
      "  --chunk-size CHUNK_SIZE\n",
      "                        Max chunk size in MB. This is useful for limiting\n",
      "                        memory usage when processing large fasta files using\n",
      "                        multiple processes The files are processed in chunks\n",
      "                        if file size is greater than chunk-size. By default\n",
      "                        orfipy computes the chunk size based on available\n",
      "                        memory and cpu cores. Providing a smaller chunk-size\n",
      "                        will lower the memory usage but, actual memory used by\n",
      "                        orfipy can be more than the chunk-size. Providing a\n",
      "                        very high chunk-size can lead to memory issues for\n",
      "                        larger sequences such as large chromosomes. It is best\n",
      "                        to let orfipy decide on the chunk-size. Default:\n",
      "                        estimated by orfipy based on system memory and cpu\n",
      "  --show-tables         Print translation tables and exit. Default: False\n",
      "  --version             Print version information and exit\n"
     ]
    }
   ],
   "source": [
    "! orfipy -h # check if it installed properly"
   ]
  },
  {
   "cell_type": "code",
   "execution_count": 11,
   "id": "3ee73141-6416-4273-ad07-c39302f133cd",
   "metadata": {},
   "outputs": [
    {
     "name": "stdout",
     "output_type": "stream",
     "text": [
      "\u001b[96morfipy version 0.0.4\u001b[0m\n",
      "\u001b[96mUsing translation table: Standard (transl_table=1) start: ['TTG', 'CTG', 'ATG'] stop: ['TAA', 'TAG', 'TGA']\u001b[0m\n",
      "\u001b[96mSetting chunk size 325 MB. Procs 6\u001b[0m\n",
      "\u001b[93mLogs will be saved to: orfipy_SRR6730014_2.fastq.gz_out/orfipy_2024_10_16_10_16_50.539074.log\u001b[0m\n",
      "Processing 2788831190 bytes\n",
      "\u001b[92mProcessed 13806095 sequences in 393.09 seconds\u001b[0m\n"
     ]
    }
   ],
   "source": [
    "! orfipy --dna MCF7_ORFs_min18.fasta --min 18 SRR6730014_2.fastq.gz "
   ]
  }
 ],
 "metadata": {
  "kernelspec": {
   "display_name": "Python 3 (ipykernel)",
   "language": "python",
   "name": "python3"
  },
  "language_info": {
   "codemirror_mode": {
    "name": "ipython",
    "version": 3
   },
   "file_extension": ".py",
   "mimetype": "text/x-python",
   "name": "python",
   "nbconvert_exporter": "python",
   "pygments_lexer": "ipython3",
   "version": "3.10.12"
  }
 },
 "nbformat": 4,
 "nbformat_minor": 5
}
