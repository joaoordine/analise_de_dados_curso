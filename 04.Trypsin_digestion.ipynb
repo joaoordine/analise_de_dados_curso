{
 "cells": [
  {
   "cell_type": "markdown",
   "id": "eeef67f7-66ae-4c58-9628-a10003db9944",
   "metadata": {},
   "source": [
    "# In silico Trypsin digestion program"
   ]
  },
  {
   "cell_type": "markdown",
   "id": "7e12e63a-e872-4e9c-a911-d81605af9001",
   "metadata": {},
   "source": [
    "This is an in silico trypsin digestion program. The input is a fasta file that contains a protein sequence to be digested; the output is a Txt file that contains all trypsin-digested peptides and corresponding protein accessions.\n",
    "Adapted from Yafeng Zhu and Yafeng Zhu (https://github.com/yafeng/trypsin/tree/master)"
   ]
  },
  {
   "cell_type": "code",
   "execution_count": 11,
   "id": "34af1058-8b5d-46f7-971f-7935876517fa",
   "metadata": {},
   "outputs": [
    {
     "name": "stdout",
     "output_type": "stream",
     "text": [
      "3.10.12 (main, Sep 11 2024, 15:47:36) [GCC 11.4.0]\n"
     ]
    }
   ],
   "source": [
    "# Check python version\n",
    "import sys\n",
    "print(sys.version)"
   ]
  },
  {
   "cell_type": "code",
   "execution_count": 12,
   "id": "f5920f91-abaf-4f9c-901e-acb525f84554",
   "metadata": {},
   "outputs": [],
   "source": [
    "# Define function for trypsin digestion \n",
    "def TRYPSIN(proseq,miss_cleavage):\n",
    "    peptides=[]\n",
    "    cut_sites=[0]\n",
    "    for i in range(0,len(proseq)-1):\n",
    "        if proseq[i]=='K' and proseq[i+1]!='P':\n",
    "            cut_sites.append(i+1)\n",
    "        elif proseq[i]=='R' and proseq[i+1]!='P':\n",
    "            cut_sites.append(i+1)\n",
    "    \n",
    "    if cut_sites[-1]!=len(proseq):\n",
    "        cut_sites.append(len(proseq))\n",
    "\n",
    "    if len(cut_sites)>2:\n",
    "        if  miss_cleavage==0:\n",
    "            for j in range(0,len(cut_sites)-1):\n",
    "                peptides.append(proseq[cut_sites[j]:cut_sites[j+1]])\n",
    "\n",
    "        elif miss_cleavage==1:\n",
    "            for j in range(0,len(cut_sites)-2):\n",
    "                peptides.append(proseq[cut_sites[j]:cut_sites[j+1]])\n",
    "                peptides.append(proseq[cut_sites[j]:cut_sites[j+2]])\n",
    "            \n",
    "            peptides.append(proseq[cut_sites[-2]:cut_sites[-1]])\n",
    "\n",
    "        elif miss_cleavage==2:\n",
    "            for j in range(0,len(cut_sites)-3):\n",
    "                peptides.append(proseq[cut_sites[j]:cut_sites[j+1]])\n",
    "                peptides.append(proseq[cut_sites[j]:cut_sites[j+2]])\n",
    "                peptides.append(proseq[cut_sites[j]:cut_sites[j+3]])\n",
    "            \n",
    "            peptides.append(proseq[cut_sites[-3]:cut_sites[-2]])\n",
    "            peptides.append(proseq[cut_sites[-3]:cut_sites[-1]])\n",
    "            peptides.append(proseq[cut_sites[-2]:cut_sites[-1]])\n",
    "    else: #there is no trypsin site in the protein sequence\n",
    "        peptides.append(proseq)\n",
    "    return peptides"
   ]
  },
  {
   "cell_type": "code",
   "execution_count": 13,
   "id": "2109cc4a-6eee-42bf-8e47-85654f2048e7",
   "metadata": {},
   "outputs": [],
   "source": [
    "# Set the variables \n",
    "input_file = 'data/MCF7_altORFs_proteins.fasta'  # Update with your actual file name\n",
    "output_file = 'data/MCF7_altORFs_Tryp_digest.fasta'  # Update with your desired output file name\n",
    "miss_cleavage = 1  # Set the number of allowed missed cleavages (e.g., 1)"
   ]
  },
  {
   "cell_type": "code",
   "execution_count": 14,
   "id": "6342e901-e57a-4f63-a2a4-88d37a983e0c",
   "metadata": {},
   "outputs": [],
   "source": [
    "# Import package\n",
    "from Bio import SeqIO"
   ]
  },
  {
   "cell_type": "code",
   "execution_count": 15,
   "id": "43428bdf-4c92-42de-aed8-e600d8f9d2e4",
   "metadata": {},
   "outputs": [
    {
     "name": "stdout",
     "output_type": "stream",
     "text": [
      "Peptide digestion completed. Results saved in data/MCF7_altORFs_Tryp_digest.fasta.\n"
     ]
    }
   ],
   "source": [
    "# Open the input FASTA file and the output file\n",
    "with open(output_file, 'w') as output:\n",
    "    for record in SeqIO.parse(input_file, 'fasta'):\n",
    "        proseq = str(record.seq)\n",
    "        peptide_list = TRYPSIN(proseq, miss_cleavage)\n",
    "        for peptide in peptide_list:\n",
    "            output.write(f\"{record.id}\\t{peptide}\\n\")\n",
    "\n",
    "print(f\"Peptide digestion completed. Results saved in {output_file}.\")"
   ]
  }
 ],
 "metadata": {
  "kernelspec": {
   "display_name": "Python 3 (ipykernel)",
   "language": "python",
   "name": "python3"
  },
  "language_info": {
   "codemirror_mode": {
    "name": "ipython",
    "version": 3
   },
   "file_extension": ".py",
   "mimetype": "text/x-python",
   "name": "python",
   "nbconvert_exporter": "python",
   "pygments_lexer": "ipython3",
   "version": "3.10.12"
  }
 },
 "nbformat": 4,
 "nbformat_minor": 5
}
