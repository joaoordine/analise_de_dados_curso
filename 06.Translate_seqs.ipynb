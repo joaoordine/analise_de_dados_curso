{
 "cells": [
  {
   "cell_type": "markdown",
   "id": "3fd78cc8-7f3a-4fba-bed0-eb9a7012b2ba",
   "metadata": {},
   "source": [
    "# In silico translation of DNA sequences to amino acid sequences "
   ]
  },
  {
   "cell_type": "code",
   "execution_count": 15,
   "id": "b75499fe-0375-4e79-a2c2-fd022e5991ae",
   "metadata": {},
   "outputs": [
    {
     "name": "stdout",
     "output_type": "stream",
     "text": [
      "Defaulting to user installation because normal site-packages is not writeable\n",
      "Collecting biopython\n",
      "  Downloading biopython-1.84-cp310-cp310-manylinux_2_17_x86_64.manylinux2014_x86_64.whl (3.2 MB)\n",
      "\u001b[2K     \u001b[38;2;114;156;31m━━━━━━━━━━━━━━━━━━━━━━━━━━━━━━━━━━━━━━━━\u001b[0m \u001b[32m3.2/3.2 MB\u001b[0m \u001b[31m11.4 MB/s\u001b[0m eta \u001b[36m0:00:00\u001b[0mm eta \u001b[36m0:00:01\u001b[0m0:01\u001b[0m:01\u001b[0m\n",
      "\u001b[?25hRequirement already satisfied: numpy in /usr/lib/python3/dist-packages (from biopython) (1.21.5)\n",
      "Installing collected packages: biopython\n",
      "Successfully installed biopython-1.84\n",
      "Note: you may need to restart the kernel to use updated packages.\n"
     ]
    }
   ],
   "source": [
    "pip install biopython"
   ]
  },
  {
   "cell_type": "code",
   "execution_count": 1,
   "id": "87e5dcc4-1c8a-4b96-81c7-d72b87376abd",
   "metadata": {},
   "outputs": [],
   "source": [
    "# Load packages \n",
    "from Bio import SeqIO\n",
    "from Bio.Seq import Seq\n",
    "import os\n",
    "\n",
    "# Input and output file names\n",
    "input_file = \"data/MCF7_ORFs_min18.fasta\"\n",
    "output_file = \"data/MCF7_altORFs_proteins.fasta\""
   ]
  },
  {
   "cell_type": "code",
   "execution_count": 2,
   "id": "c1f89b49-1446-4431-9ddc-b359589b789c",
   "metadata": {},
   "outputs": [
    {
     "name": "stdout",
     "output_type": "stream",
     "text": [
      "Error: The file data/MCF7_altORFs_proteins.fasta doesn't exist. Creating the file...\n",
      "Translation completed. Protein sequences saved in data/MCF7_altORFs_proteins.fasta\n"
     ]
    }
   ],
   "source": [
    "# Check if output file exists; if not, raise an error\n",
    "if not os.path.exists(output_file):\n",
    "    print(f\"Error: The file {output_file} doesn't exist. Creating the file...\")\n",
    "    # Create an empty file\n",
    "    with open(output_file, 'w') as f:\n",
    "        pass\n",
    "\n",
    "# Open the output file for writing translated sequences\n",
    "with open(output_file, \"w\") as output_handle:\n",
    "    for record in SeqIO.parse(input_file, \"fasta\"):\n",
    "        nucleotide_seq = record.seq\n",
    "        protein_seq = nucleotide_seq.translate(to_stop=True)\n",
    "        output_handle.write(f\">{record.id}\\n{protein_seq}\\n\")\n",
    "\n",
    "print(f\"Translation completed. Protein sequences saved in {output_file}\")"
   ]
  },
  {
   "cell_type": "code",
   "execution_count": 3,
   "id": "d319ae42-32b1-41d6-8b3c-0497e05266b6",
   "metadata": {},
   "outputs": [
    {
     "name": "stdout",
     "output_type": "stream",
     "text": [
      "Nucleic acid Sequences\n",
      "Record ID: SRR6730014.4_ORF.1\n",
      "DNA Sequence: CTGCGCGTGCACGGCGCCACCCTCCCCCCGCCCCAGCCCGGCGCCGTGCGACTTTGCTCCTGCAACACACGCCCCCCCAACCCCCGCCCG\n",
      "\n",
      "Record ID: SRR6730014.5_ORF.1\n",
      "DNA Sequence: CTGCGCGTGCACGGCGCCTCCCTCCCCCCGCCCCAGCCCGGCGCCGTGCGACTTTGCTCCTGCACCACTCGCCCCCCCACCCCCCGCCCG\n",
      "\n",
      "Record ID: SRR6730014.6_ORF.1\n",
      "DNA Sequence: TTGCGCAGTCATTTTCAACACCGGCAATGCAGCAAAATCATCAGTGGAAATGTAAAAAAATACACATGGCCAGGCCCCAGCCCAAATCAC\n",
      "\n",
      "Record ID: SRR6730014.6_ORF.2\n",
      "DNA Sequence: CTGGGGCCTGGCCATGTGTATTTTTTTACATTTCCACTGATGATTTTGCTGCATTGCCGGTGT\n",
      "\n",
      "Record ID: SRR6730014.6_ORF.3\n",
      "DNA Sequence: TTGGGCTGGGGCCTGGCCATGTGTATTTTTTTACATTTCCAC\n",
      "\n",
      "Amino acid Sequences\n",
      "Record ID: SRR6730014.4_ORF.1\n",
      "Protein Sequence: LRVHGATLPPPQPGAVRLCSCNTRPPNPRP\n",
      "\n",
      "Record ID: SRR6730014.5_ORF.1\n",
      "Protein Sequence: LRVHGASLPPPQPGAVRLCSCTTRPPTPRP\n",
      "\n",
      "Record ID: SRR6730014.6_ORF.1\n",
      "Protein Sequence: LRSHFQHRQCSKIISGNVKKYTWPGPSPNH\n",
      "\n",
      "Record ID: SRR6730014.6_ORF.2\n",
      "Protein Sequence: LGPGHVYFFTFPLMILLHCRC\n",
      "\n",
      "Record ID: SRR6730014.6_ORF.3\n",
      "Protein Sequence: LGWGLAMCIFLHFH\n",
      "\n"
     ]
    }
   ],
   "source": [
    "# Check the first few sequences from the input and output file for visual inspection\n",
    "## Set of sequences (rows) to display\n",
    "num_sequences_to_display = 5  # Adjust this as needed\n",
    "\n",
    "## Read and print \n",
    "with open(input_file, \"r\") as input_handle:\n",
    "    records = SeqIO.parse(input_handle, \"fasta\")\n",
    "    print(f\"Nucleic acid Sequences\")\n",
    "    for i, record in enumerate(records):\n",
    "        if i >= num_sequences_to_display:\n",
    "            break\n",
    "        print(f\"Record ID: {record.id}\")\n",
    "        print(f\"DNA Sequence: {record.seq}\\n\")\n",
    "        \n",
    "with open(output_file, \"r\") as output_handle:\n",
    "    records = SeqIO.parse(output_handle, \"fasta\")\n",
    "    print(f\"Amino acid Sequences\")\n",
    "    for i, record in enumerate(records):\n",
    "        if i >= num_sequences_to_display:\n",
    "            break\n",
    "        print(f\"Record ID: {record.id}\")\n",
    "        print(f\"Protein Sequence: {record.seq}\\n\")"
   ]
  }
 ],
 "metadata": {
  "kernelspec": {
   "display_name": "Python 3 (ipykernel)",
   "language": "python",
   "name": "python3"
  },
  "language_info": {
   "codemirror_mode": {
    "name": "ipython",
    "version": 3
   },
   "file_extension": ".py",
   "mimetype": "text/x-python",
   "name": "python",
   "nbconvert_exporter": "python",
   "pygments_lexer": "ipython3",
   "version": "3.10.11"
  }
 },
 "nbformat": 4,
 "nbformat_minor": 5
}
