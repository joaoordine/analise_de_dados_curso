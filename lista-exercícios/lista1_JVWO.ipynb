{
 "cells": [
  {
   "cell_type": "markdown",
   "metadata": {
    "id": "06s6ViQTg8g3"
   },
   "source": [
    "### Exercício-001\n",
    "Faça um programa que leia o nome de uma pessoa e mostre uma mensagem de boas-vindas."
   ]
  },
  {
   "cell_type": "code",
   "execution_count": 3,
   "metadata": {},
   "outputs": [
    {
     "name": "stdin",
     "output_type": "stream",
     "text": [
      "Please enter your name:  eu sei lá\n"
     ]
    },
    {
     "name": "stdout",
     "output_type": "stream",
     "text": [
      "Welcome, eu sei lá, good to have you here!\n"
     ]
    }
   ],
   "source": [
    "# Read the user's name\n",
    "name = input(\"Please enter your name: \")\n",
    "\n",
    "# Display the welcome message\n",
    "print(f\"Welcome, {name}, good to have you here!\")\n"
   ]
  },
  {
   "cell_type": "markdown",
   "metadata": {
    "id": "8KxK1hQ0js7x"
   },
   "source": [
    "### Exercício-002\n",
    "Crie um programa que leia dois números e mostre a soma entre eles."
   ]
  },
  {
   "cell_type": "markdown",
   "metadata": {},
   "source": [
    "#### Option 1 - Reads two numbers from the user and displays the sum."
   ]
  },
  {
   "cell_type": "code",
   "execution_count": 5,
   "metadata": {},
   "outputs": [
    {
     "name": "stdin",
     "output_type": "stream",
     "text": [
      "Enter the first number:  10\n",
      "Enter the second number:  85\n"
     ]
    },
    {
     "name": "stdout",
     "output_type": "stream",
     "text": [
      "The sum of 10.0 and 85.0 is 95.0\n"
     ]
    }
   ],
   "source": [
    "num1 = float(input(\"Enter the first number: \"))\n",
    "num2 = float(input(\"Enter the second number: \"))\n",
    "print(f\"The sum of {num1} and {num2} is {num1 + num2}\")"
   ]
  },
  {
   "cell_type": "markdown",
   "metadata": {},
   "source": [
    "#### Option 2 - The sum of two randomly selected numbers will be displayed"
   ]
  },
  {
   "cell_type": "code",
   "execution_count": 10,
   "metadata": {},
   "outputs": [
    {
     "name": "stdout",
     "output_type": "stream",
     "text": [
      "Vector a: [100, 57, 15, 1, 12, 75, 5, 86, 89, 11]\n",
      "Vector b: [13, 99, 46, 31, 3, 4, 3, 45, 83, 80]\n"
     ]
    }
   ],
   "source": [
    "## Create two lists, 'a' and 'b' with random numbers between 1 and 100\n",
    "import random  # Import the random module\n",
    "random.seed(1234) # Set a seed number for reproducibility \n",
    "vector_length = 10  # Define the length of the vectors\n",
    "a = [random.randint(1, 100) for _ in range(vector_length)]\n",
    "b = [random.randint(1, 100) for _ in range(vector_length)]\n",
    "\n",
    "## Display the vectors\n",
    "print(f\"Vector a: {a}\")\n",
    "print(f\"Vector b: {b}\")"
   ]
  },
  {
   "cell_type": "code",
   "execution_count": 22,
   "metadata": {},
   "outputs": [
    {
     "name": "stdout",
     "output_type": "stream",
     "text": [
      "Randomly selected numbers are 86 from vector a and 99 from vector b.\n",
      "The sum of the selected numbers is 185\n"
     ]
    }
   ],
   "source": [
    "## Randomly select one number from each vector and display their sum\n",
    "random.seed(1234) # Set a seed number for reproducibility \n",
    "random_num_a = random.choice(a)\n",
    "random_num_b = random.choice(b)\n",
    "print(f\"Randomly selected numbers are {random_num_a} from vector a and {random_num_b} from vector b.\")\n",
    "print(f\"The sum of the selected numbers is {random_num_a + random_num_b}\")"
   ]
  },
  {
   "cell_type": "markdown",
   "metadata": {
    "id": "nEnaOG6Vh3Bs"
   },
   "source": [
    "### Exercício-003\n",
    "Faça um programa que leia algo pelo teclado e mostre na tela o seu tipo primitivo e todas as informações possíveis sobre ele. _\n",
    "Dica: crie uma variável e use `var.<TAB>` para ver as opções começadas com `is`_:"
   ]
  },
  {
   "cell_type": "code",
   "execution_count": 55,
   "metadata": {},
   "outputs": [
    {
     "name": "stdin",
     "output_type": "stream",
     "text": [
      "Enter something:  macaco\n"
     ]
    }
   ],
   "source": [
    "# Read something from the keyboard\n",
    "user_input = input(\"Enter something: \")"
   ]
  },
  {
   "cell_type": "code",
   "execution_count": 56,
   "metadata": {},
   "outputs": [
    {
     "name": "stdout",
     "output_type": "stream",
     "text": [
      "Primitive type: str\n"
     ]
    }
   ],
   "source": [
    "# Try to determine the primitive type\n",
    "try:\n",
    "    # Try converting to an integer\n",
    "    converted_input = int(user_input)\n",
    "    input_type = \"int\"\n",
    "except ValueError:\n",
    "    try:\n",
    "        # Try converting to a float\n",
    "        converted_input = float(user_input)\n",
    "        input_type = \"float\"\n",
    "    except ValueError:\n",
    "        # Check if it's a boolean (True/False) considering all variations\n",
    "        if user_input.lower() == 'true':\n",
    "            converted_input = True\n",
    "            input_type = \"bool\"\n",
    "        elif user_input.lower() == 'false':\n",
    "            converted_input = False\n",
    "            input_type = \"bool\"\n",
    "        else:\n",
    "            # If all else fails, it's a string\n",
    "            converted_input = user_input\n",
    "            input_type = \"str\"\n",
    "\n",
    "print(f\"Primitive type: {input_type}\")"
   ]
  },
  {
   "cell_type": "code",
   "execution_count": 58,
   "metadata": {},
   "outputs": [
    {
     "name": "stdout",
     "output_type": "stream",
     "text": [
      "Is it alphabetic? (alpha): True\n",
      "Is it alphanumeric? (alnum): True\n",
      "Is it all lowercase? (lower): True\n",
      "Is it an identifier? (identifier): True\n",
      "Is it printable? (printable): True\n",
      "Is it a number? (numeric): False\n",
      "Is it all uppercase? (upper): False\n",
      "Is it a space? (space): False\n",
      "Is it a digit? (digit): False\n",
      "Is it a decimal? (decimal): False\n",
      "Is it a title-cased string? (title): False\n"
     ]
    }
   ],
   "source": [
    "# Display all possible information using isX() methods only if the user input is a text\n",
    "if input_type == \"str\":\n",
    "    checks = {\n",
    "        \"Is it a number? (numeric)\": user_input.isnumeric(),\n",
    "        \"Is it alphabetic? (alpha)\": user_input.isalpha(),\n",
    "        \"Is it alphanumeric? (alnum)\": user_input.isalnum(),\n",
    "        \"Is it all uppercase? (upper)\": user_input.isupper(),\n",
    "        \"Is it all lowercase? (lower)\": user_input.islower(),\n",
    "        \"Is it a space? (space)\": user_input.isspace(),\n",
    "        \"Is it a digit? (digit)\": user_input.isdigit(),\n",
    "        \"Is it a decimal? (decimal)\": user_input.isdecimal(),\n",
    "        \"Is it an identifier? (identifier)\": user_input.isidentifier(),\n",
    "        \"Is it printable? (printable)\": user_input.isprintable(),\n",
    "        \"Is it a title-cased string? (title)\": user_input.istitle(),\n",
    "    }\n",
    "\n",
    "    true_checks = [desc for desc, result in checks.items() if result]\n",
    "    false_checks = [desc for desc, result in checks.items() if not result]\n",
    "\n",
    "    # Summarize the results\n",
    "    print(\"\\n\".join([f\"{desc}: True\" for desc in true_checks]))\n",
    "    print(\"\\n\".join([f\"{desc}: False\" for desc in false_checks]))\n",
    "elif input_type == \"bool\":\n",
    "    print(\"It is a boolean value:\", converted_input)\n",
    "elif input_type in [\"int\", \"float\"]:\n",
    "    print(f\"It is a {input_type} value:\", converted_input)"
   ]
  },
  {
   "cell_type": "markdown",
   "metadata": {
    "id": "TCOQQ56Y5WqF"
   },
   "source": [
    "### Exercício-004\n",
    "Desenvolva um programa que leia as duas notas de um aluno, calcule e mostre a sua média."
   ]
  },
  {
   "cell_type": "code",
   "execution_count": 63,
   "metadata": {},
   "outputs": [
    {
     "name": "stdin",
     "output_type": "stream",
     "text": [
      "Digite o nome do aluno:  Leandro\n",
      "Digite a primeira nota:  5\n",
      "Digite a segunda nota:  6\n"
     ]
    }
   ],
   "source": [
    "# Ler o nome do aluno\n",
    "nome_aluno = input(\"Digite o nome do aluno: \")\n",
    "\n",
    "# Ler as duas notas do aluno\n",
    "nota1 = float(input(\"Digite a primeira nota: \"))\n",
    "nota2 = float(input(\"Digite a segunda nota: \"))"
   ]
  },
  {
   "cell_type": "code",
   "execution_count": 65,
   "metadata": {},
   "outputs": [
    {
     "name": "stdout",
     "output_type": "stream",
     "text": [
      "A média de Leandro é: 5.50\n"
     ]
    }
   ],
   "source": [
    "# Calcular e exibir a média\n",
    "media = (nota1 + nota2) / 2\n",
    "\n",
    "print(f\"A média de {nome_aluno} é: {media:.2f}\")"
   ]
  },
  {
   "cell_type": "markdown",
   "metadata": {
    "id": "awABBN_97UMu"
   },
   "source": [
    "### Exercício-005\n",
    "Crie um programa que leia quanto dinheiro uma pessoa tem na carteira\n",
    "e mostre quantos Dólares ela pode comprar.\n",
    "Considere U\\$ 1,00 = R\\$ 3,27"
   ]
  },
  {
   "cell_type": "code",
   "execution_count": 66,
   "metadata": {},
   "outputs": [],
   "source": [
    "# Taxa de câmbio\n",
    "cotacao_dolar = 3.27"
   ]
  },
  {
   "cell_type": "code",
   "execution_count": 67,
   "metadata": {},
   "outputs": [
    {
     "name": "stdin",
     "output_type": "stream",
     "text": [
      "Digite o valor que você tem na carteira (em R$):  100\n"
     ]
    }
   ],
   "source": [
    "# Ler o valor em reais que a pessoa tem na carteira\n",
    "valor_reais = float(input(\"Digite o valor que você tem na carteira (em R$): \"))"
   ]
  },
  {
   "cell_type": "code",
   "execution_count": 69,
   "metadata": {},
   "outputs": [
    {
     "name": "stdout",
     "output_type": "stream",
     "text": [
      "Com R$100.00, você pode comprar US$30.58.\n"
     ]
    }
   ],
   "source": [
    "# Calcular quantos dólares a pessoa pode comprar e exibir o resultado\n",
    "quantidade_dolares = valor_reais / cotacao_dolar\n",
    "\n",
    "print(f\"Com R${valor_reais:.2f}, você pode comprar US${quantidade_dolares:.2f}.\")"
   ]
  },
  {
   "cell_type": "markdown",
   "metadata": {
    "id": "HTaF8y_BAF7w"
   },
   "source": [
    "### Exercício-006\n",
    "Um professor quer sortear um dos seus quatros alunos para apagar o quadro.\n",
    "Faça um programa que ajude ele, lendo o nome deles e escrevendo o nome do escolhido."
   ]
  },
  {
   "cell_type": "code",
   "execution_count": 70,
   "metadata": {},
   "outputs": [
    {
     "name": "stdin",
     "output_type": "stream",
     "text": [
      "Digite o nome do primeiro aluno:  felipe\n",
      "Digite o nome do segundo aluno:  maria\n",
      "Digite o nome do terceiro aluno:  fernando\n",
      "Digite o nome do quarto aluno:  claudia\n"
     ]
    }
   ],
   "source": [
    "import random  # Importa o módulo para gerar números aleatórios\n",
    "\n",
    "# Ler os nomes dos quatro alunos\n",
    "aluno1 = input(\"Digite o nome do primeiro aluno: \")\n",
    "aluno2 = input(\"Digite o nome do segundo aluno: \")\n",
    "aluno3 = input(\"Digite o nome do terceiro aluno: \")\n",
    "aluno4 = input(\"Digite o nome do quarto aluno: \")"
   ]
  },
  {
   "cell_type": "code",
   "execution_count": 71,
   "metadata": {},
   "outputs": [],
   "source": [
    "# Lista com os nomes dos alunos\n",
    "alunos = [aluno1, aluno2, aluno3, aluno4]"
   ]
  },
  {
   "cell_type": "code",
   "execution_count": 76,
   "metadata": {},
   "outputs": [],
   "source": [
    "# Sortear um aluno\n",
    "random.seed(1234) # set seed for reproducitibility\n",
    "aluno_escolhido = random.choice(alunos)"
   ]
  },
  {
   "cell_type": "code",
   "execution_count": 77,
   "metadata": {},
   "outputs": [
    {
     "name": "stdout",
     "output_type": "stream",
     "text": [
      "O aluno escolhido para apagar o quadro é: claudia\n"
     ]
    }
   ],
   "source": [
    "# Exibir o nome do aluno escolhido\n",
    "print(f\"O aluno escolhido para apagar o quadro é: {aluno_escolhido}\")"
   ]
  },
  {
   "cell_type": "markdown",
   "metadata": {
    "id": "pOeLvi5opLLW"
   },
   "source": [
    "### Exercício-007\n",
    "Escreva uma programa que checa se um dicionário possui uma chave. "
   ]
  },
  {
   "cell_type": "code",
   "execution_count": 85,
   "metadata": {},
   "outputs": [],
   "source": [
    "# Definir um dicionário de exemplo\n",
    "dicionario = {\n",
    "    \"João\": {\n",
    "        \"idade\": 25,\n",
    "        \"cidade\": \"São Paulo\"\n",
    "    },\n",
    "    \"Maria\": {\n",
    "        \"idade\": 30,\n",
    "        \"cidade\": \"Rio de Janeiro\"\n",
    "    },\n",
    "    \"Pedro\": {\n",
    "        \"idade\": 22,\n",
    "        \"cidade\": \"Belo Horizonte\"\n",
    "    },\n",
    "    \"Ana\": {\n",
    "        \"idade\": 28,\n",
    "        \"cidade\": \"Curitiba\"\n",
    "    },\n",
    "    \"Lucas\": {\n",
    "        \"idade\": 35,\n",
    "        \"cidade\": \"Porto Alegre\"\n",
    "    },\n",
    "    \"Beatriz\": {\n",
    "        \"idade\": 27,\n",
    "        \"cidade\": \"Salvador\"\n",
    "    },\n",
    "    \"Carlos\": {\n",
    "        \"idade\": 40,\n",
    "        \"cidade\": \"Fortaleza\"\n",
    "    },\n",
    "    \"Juliana\": {\n",
    "        \"idade\": 33,\n",
    "        \"cidade\": \"Recife\"\n",
    "    }\n",
    "}"
   ]
  },
  {
   "cell_type": "code",
   "execution_count": 98,
   "metadata": {},
   "outputs": [
    {
     "name": "stdin",
     "output_type": "stream",
     "text": [
      "Digite a chave que você quer verificar:  felipe\n"
     ]
    }
   ],
   "source": [
    "# Ler a chave que deseja verificar\n",
    "chave = input(\"Digite a chave que você quer verificar: \")"
   ]
  },
  {
   "cell_type": "code",
   "execution_count": 99,
   "metadata": {},
   "outputs": [
    {
     "name": "stdout",
     "output_type": "stream",
     "text": [
      "A chave 'felipe' não está presente no dicionário.\n"
     ]
    }
   ],
   "source": [
    "# Verificar se a chave é um nome\n",
    "if chave in dicionario:\n",
    "    info = dicionario[chave]\n",
    "    print(f\"O nome '{chave}' está presente no dicionário.\")\n",
    "    print(f\"Idade: {info['idade']}\")\n",
    "    print(f\"Cidade: {info['cidade']}\")\n",
    "else:\n",
    "    # Verificar se a chave é uma idade ou cidade\n",
    "    encontrado = False\n",
    "    for pessoa, info in dicionario.items():\n",
    "        if chave == str(info[\"idade\"]):\n",
    "            print(f\"A idade '{chave}' está associada à pessoa '{pessoa}'.\")\n",
    "            print(f\"Nome: {pessoa}\")\n",
    "            print(f\"Cidade: {info['cidade']}\")\n",
    "            encontrado = True\n",
    "            break\n",
    "        elif chave.lower() == info[\"cidade\"].lower():\n",
    "            print(f\"A cidade '{chave}' está associada à pessoa '{pessoa}'.\")\n",
    "            print(f\"Nome: {pessoa}\")\n",
    "            print(f\"Idade: {info['idade']}\")\n",
    "            encontrado = True\n",
    "            break\n",
    "\n",
    "    if not encontrado:\n",
    "        print(f\"A chave '{chave}' não está presente no dicionário.\")\n"
   ]
  },
  {
   "cell_type": "markdown",
   "metadata": {
    "id": "RqaFzlHqBQ0m"
   },
   "source": [
    "### Exercício-008\n",
    "O mesmo professor do exercício anterior quer sortear a ordem de apresentação de trabalhos dos alunos.\n",
    "Faça um programa que leia o nome dos quatro alunos e mostre a ordem sorteada."
   ]
  },
  {
   "cell_type": "code",
   "execution_count": 105,
   "metadata": {},
   "outputs": [
    {
     "name": "stdin",
     "output_type": "stream",
     "text": [
      "Digite o nome do primeiro aluno:  felipe\n",
      "Digite o nome do segundo aluno:  carlos\n",
      "Digite o nome do terceiro aluno:  duda\n",
      "Digite o nome do quarto aluno:  maria\n"
     ]
    }
   ],
   "source": [
    "import random\n",
    "\n",
    "# Ler os nomes dos quatro alunos\n",
    "aluno1 = input(\"Digite o nome do primeiro aluno: \")\n",
    "aluno2 = input(\"Digite o nome do segundo aluno: \")\n",
    "aluno3 = input(\"Digite o nome do terceiro aluno: \")\n",
    "aluno4 = input(\"Digite o nome do quarto aluno: \")"
   ]
  },
  {
   "cell_type": "code",
   "execution_count": 108,
   "metadata": {},
   "outputs": [
    {
     "name": "stdout",
     "output_type": "stream",
     "text": [
      "['felipe', 'carlos', 'duda', 'maria']\n"
     ]
    }
   ],
   "source": [
    "# Criar uma lista com os nomes dos alunos\n",
    "alunos = [aluno1, aluno2, aluno3, aluno4]\n",
    "print(alunos)\n",
    "\n",
    "# Embaralhar a lista para sortear a ordem de apresentação\n",
    "random.seed(1234) # Definir seed para reprodutibilidade\n",
    "\n",
    "random.shuffle(alunos)"
   ]
  },
  {
   "cell_type": "code",
   "execution_count": 109,
   "metadata": {},
   "outputs": [
    {
     "name": "stdout",
     "output_type": "stream",
     "text": [
      "A ordem sorteada para apresentação dos trabalhos é:\n",
      "1. carlos\n",
      "2. duda\n",
      "3. felipe\n",
      "4. maria\n"
     ]
    }
   ],
   "source": [
    "# Exibir a ordem sorteada\n",
    "print(\"A ordem sorteada para apresentação dos trabalhos é:\")\n",
    "for i, aluno in enumerate(alunos, start=1):\n",
    "    print(f\"{i}. {aluno}\")"
   ]
  },
  {
   "cell_type": "markdown",
   "metadata": {
    "id": "iaHgzjvfnqKm"
   },
   "source": [
    "### Exercício-009\n",
    "Escreva um programa que receba uma chave e um valor e os adicione ao dicionário `d = {0:10, 1:20}`"
   ]
  },
  {
   "cell_type": "code",
   "execution_count": 115,
   "metadata": {},
   "outputs": [
    {
     "name": "stdout",
     "output_type": "stream",
     "text": [
      "{0: 10, 1: 20}\n"
     ]
    }
   ],
   "source": [
    "# Definir o dicionário inicial\n",
    "d = {0: 10, 1: 20}\n",
    "print(d)"
   ]
  },
  {
   "cell_type": "code",
   "execution_count": 116,
   "metadata": {},
   "outputs": [],
   "source": [
    "# Função para verificar se o valor é numérico\n",
    "def is_numeric(value):\n",
    "    try:\n",
    "        float(value)\n",
    "        return True\n",
    "    except ValueError:\n",
    "        return False"
   ]
  },
  {
   "cell_type": "code",
   "execution_count": 119,
   "metadata": {},
   "outputs": [
    {
     "name": "stdin",
     "output_type": "stream",
     "text": [
      "Digite a chave (deve ser uma string):  moeda\n"
     ]
    }
   ],
   "source": [
    "# Receber a chave e o valor do usuário\n",
    "chave = input(\"Digite a chave (deve ser uma string): \")"
   ]
  },
  {
   "cell_type": "code",
   "execution_count": 120,
   "metadata": {},
   "outputs": [
    {
     "name": "stdin",
     "output_type": "stream",
     "text": [
      "Digite o valor (deve ser um número):  8.75\n"
     ]
    },
    {
     "name": "stdout",
     "output_type": "stream",
     "text": [
      "Dicionário atualizado:\n",
      "{0: 10, 1: 20, 'moeda': 8.75}\n"
     ]
    }
   ],
   "source": [
    "# Verificar se a chave é uma string\n",
    "if not isinstance(chave, str):\n",
    "    print(\"Erro: A chave deve ser uma string.\")\n",
    "else:\n",
    "    valor = input(\"Digite o valor (deve ser um número): \").strip()  # Adiciona um espaço para o valor\n",
    "\n",
    "    # Verificar se o valor é numérico\n",
    "    if not is_numeric(valor):\n",
    "        print(\"Erro: O valor deve ser um número (int ou float).\")\n",
    "    else:\n",
    "        # Converter o valor para int ou float\n",
    "        valor = float(valor) if '.' in valor else int(valor)\n",
    "        \n",
    "        # Adicionar a nova chave e valor ao dicionário\n",
    "        d[chave] = valor\n",
    "        \n",
    "        # Exibir o dicionário atualizado\n",
    "        print(\"Dicionário atualizado:\")\n",
    "        print(d)"
   ]
  },
  {
   "cell_type": "markdown",
   "metadata": {
    "id": "yoT-1VB-zrZU"
   },
   "source": [
    "### Exercício-010\n",
    "Escreva um programa que recebe dois números correspondentes aos índices de uma lista das cores `vermelho, verde, branco, preto, rosa e amarelo` e imprime as cores dos índices indicados.\n"
   ]
  },
  {
   "cell_type": "code",
   "execution_count": null,
   "metadata": {},
   "outputs": [],
   "source": []
  },
  {
   "cell_type": "markdown",
   "metadata": {
    "id": "Wjx6KtrWEHEc"
   },
   "source": [
    "### Exercício-011\n",
    "Escreva um programa que faça o computador \"pensar\" em um número inteiro entre 0 e 5\n",
    "e peça para o usuário tentar descobrir qual foi o número escolhido pelo computador.\n",
    "O programa deverá escrever na tela se o usuário venceu ou perdeu."
   ]
  },
  {
   "cell_type": "code",
   "execution_count": 5,
   "metadata": {},
   "outputs": [],
   "source": [
    "import random\n",
    "\n",
    "random.seed(42)  # Opcional, use se quiser resultados previsíveis"
   ]
  },
  {
   "cell_type": "code",
   "execution_count": 9,
   "metadata": {},
   "outputs": [],
   "source": [
    "# Computador \"pensa\" em um número entre 0 e 5\n",
    "numero_computador = random.randint(0, 5)"
   ]
  },
  {
   "cell_type": "code",
   "execution_count": 10,
   "metadata": {},
   "outputs": [
    {
     "name": "stdin",
     "output_type": "stream",
     "text": [
      "Tente adivinhar o número que estou pensando, entre 0 e 5:  4.5\n"
     ]
    },
    {
     "name": "stdout",
     "output_type": "stream",
     "text": [
      "Erro: Entrada inválida. Por favor, insira um número inteiro entre 0 e 5.\n"
     ]
    },
    {
     "name": "stdin",
     "output_type": "stream",
     "text": [
      "Tente adivinhar o número que estou pensando, entre 0 e 5:  lal5\n"
     ]
    },
    {
     "name": "stdout",
     "output_type": "stream",
     "text": [
      "Erro: Entrada inválida. Por favor, insira um número inteiro entre 0 e 5.\n"
     ]
    },
    {
     "name": "stdin",
     "output_type": "stream",
     "text": [
      "Tente adivinhar o número que estou pensando, entre 0 e 5:  5\n"
     ]
    }
   ],
   "source": [
    "while True:\n",
    "    # Solicitar ao usuário para tentar adivinhar o número\n",
    "    entrada_usuario = input(\"Tente adivinhar o número que estou pensando, entre 0 e 5: \")\n",
    "\n",
    "    # Verificar se a entrada é um número inteiro\n",
    "    if entrada_usuario.isdigit():\n",
    "        numero_usuario = int(entrada_usuario)\n",
    "        # Verificar se o número está dentro do intervalo permitido\n",
    "        if 0 <= numero_usuario <= 5:\n",
    "            break\n",
    "        else:\n",
    "            print(\"Erro: Por favor, insira um número inteiro entre 0 e 5.\")\n",
    "    else:\n",
    "        print(\"Erro: Entrada inválida. Por favor, insira um número inteiro entre 0 e 5.\")"
   ]
  },
  {
   "cell_type": "code",
   "execution_count": 11,
   "metadata": {},
   "outputs": [
    {
     "name": "stdout",
     "output_type": "stream",
     "text": [
      "Você errou, mais sorte na próxima hahaha! Eu estava pensando no número 0.\n"
     ]
    }
   ],
   "source": [
    "# Verificar se o usuário acertou ou errou\n",
    "if numero_usuario == numero_computador:\n",
    "    print(f\"Parabéns! Você acertou. Eu realmente estava pensando no número {numero_computador}.\")\n",
    "else:\n",
    "    print(f\"Você errou, mais sorte na próxima hahaha! Eu estava pensando no número {numero_computador}.\")"
   ]
  },
  {
   "cell_type": "markdown",
   "metadata": {
    "id": "1r7kE9wLEv37"
   },
   "source": [
    "### Exercício-012\n",
    "Escreva um programa que leia a velocidade de um carro. Se ele ultrapassar 80 km/h, mostre uma\n",
    "mensagem dizendo que ele foi multado. A multa vai custar R$ 7,00 por cada km acima do limite."
   ]
  },
  {
   "cell_type": "code",
   "execution_count": 20,
   "metadata": {},
   "outputs": [],
   "source": [
    "# Função para solicitar a velocidade do carro e garantir que a entrada seja numérica\n",
    "def ler_velocidade():\n",
    "    while True:\n",
    "        entrada = input(\"Digite a velocidade do carro em km/h: \")\n",
    "        \n",
    "        # Verificar se a entrada pode ser convertida para float\n",
    "        try:\n",
    "            velocidade = float(entrada)\n",
    "            return velocidade\n",
    "        except ValueError:\n",
    "            print(\"Erro: Por favor, insira um número válido.\")"
   ]
  },
  {
   "cell_type": "code",
   "execution_count": 21,
   "metadata": {},
   "outputs": [
    {
     "name": "stdin",
     "output_type": "stream",
     "text": [
      "Digite a velocidade do carro em km/h:  carro\n"
     ]
    },
    {
     "name": "stdout",
     "output_type": "stream",
     "text": [
      "Erro: Por favor, insira um número válido.\n"
     ]
    },
    {
     "name": "stdin",
     "output_type": "stream",
     "text": [
      "Digite a velocidade do carro em km/h:  81\n"
     ]
    }
   ],
   "source": [
    "# Ler a velocidade do carro\n",
    "velocidade = ler_velocidade()"
   ]
  },
  {
   "cell_type": "code",
   "execution_count": 22,
   "metadata": {},
   "outputs": [],
   "source": [
    "# Definir o limite de velocidade\n",
    "limite_velocidade = 80\n",
    "valor_multa_por_km = 7.00"
   ]
  },
  {
   "cell_type": "code",
   "execution_count": 23,
   "metadata": {},
   "outputs": [
    {
     "name": "stdout",
     "output_type": "stream",
     "text": [
      "Você foi multado vacilão! Excedeu o limite de 80 km/h. Você estava a 1.0 km/h acima do permitido.\n",
      "A multa é de R$ 7.00.\n"
     ]
    }
   ],
   "source": [
    "# Verificar se a velocidade ultrapassou o limite\n",
    "if velocidade > limite_velocidade:\n",
    "    # Calcular a multa\n",
    "    km_acima = velocidade - limite_velocidade\n",
    "    valor_multa = km_acima * valor_multa_por_km\n",
    "    print(f\"Você foi multado vacilão! Excedeu o limite de {limite_velocidade} km/h. Você estava a {km_acima} km/h acima do permitido.\")\n",
    "    print(f\"A multa é de R$ {valor_multa:.2f}.\")\n",
    "else:\n",
    "    print(\"Velocidade dentro do limite permitido. Tenha um bom dia!\")"
   ]
  },
  {
   "cell_type": "markdown",
   "metadata": {
    "id": "JPSBWmo2FEh-"
   },
   "source": [
    "### Exercício-013\n",
    "Crie um programa que leia um número inteiro e mostre na tela se ele é PAR ou ÍMPAR."
   ]
  },
  {
   "cell_type": "code",
   "execution_count": 25,
   "metadata": {},
   "outputs": [],
   "source": [
    "# Função para solicitar um número inteiro do usuário\n",
    "def ler_numero_inteiro():\n",
    "    while True:\n",
    "        entrada = input(\"Digite um número inteiro: \")\n",
    "        \n",
    "        # Verificar se a entrada pode ser convertida para int\n",
    "        try:\n",
    "            numero = int(entrada)\n",
    "            return numero\n",
    "        except ValueError:\n",
    "            print(\"Erro: Por favor, insira um número inteiro válido.\")"
   ]
  },
  {
   "cell_type": "code",
   "execution_count": 28,
   "metadata": {},
   "outputs": [
    {
     "name": "stdin",
     "output_type": "stream",
     "text": [
      "Digite um número inteiro:  87.9\n"
     ]
    },
    {
     "name": "stdout",
     "output_type": "stream",
     "text": [
      "Erro: Por favor, insira um número inteiro válido.\n"
     ]
    },
    {
     "name": "stdin",
     "output_type": "stream",
     "text": [
      "Digite um número inteiro:  82\n"
     ]
    }
   ],
   "source": [
    "# Ler o número inteiro do usuário\n",
    "numero = ler_numero_inteiro()"
   ]
  },
  {
   "cell_type": "code",
   "execution_count": 29,
   "metadata": {},
   "outputs": [
    {
     "name": "stdout",
     "output_type": "stream",
     "text": [
      "O número 82 é PAR.\n"
     ]
    }
   ],
   "source": [
    "# Verificar se o número é par ou ímpar\n",
    "if numero % 2 == 0:\n",
    "    print(f\"O número {numero} é PAR.\")\n",
    "else:\n",
    "    print(f\"O número {numero} é ÍMPAR.\")"
   ]
  },
  {
   "cell_type": "markdown",
   "metadata": {
    "id": "BDk5ypYtGLBb"
   },
   "source": [
    "### Exercício-014\n",
    "Desenvolva um programa que pergunte a distância de uma viagem em km. Calcule o preço da passagem,\n",
    "cobrando R$ 0,50 por km para viagens de até 200 km e R$ 0,45 para viagens mais longas."
   ]
  },
  {
   "cell_type": "code",
   "execution_count": 30,
   "metadata": {},
   "outputs": [],
   "source": [
    "# Função para solicitar a distância da viagem em km\n",
    "def ler_distancia():\n",
    "    while True:\n",
    "        entrada = input(\"Digite a distância da viagem em km: \")\n",
    "        \n",
    "        # Verificar se a entrada pode ser convertida para float\n",
    "        try:\n",
    "            distancia = float(entrada)\n",
    "            if distancia < 0:\n",
    "                print(\"Erro: A distância não pode ser negativa. Tente novamente.\")\n",
    "            else:\n",
    "                return distancia\n",
    "        except ValueError:\n",
    "            print(\"Erro: Por favor, insira um número válido para a distância.\")"
   ]
  },
  {
   "cell_type": "code",
   "execution_count": 35,
   "metadata": {},
   "outputs": [
    {
     "name": "stdin",
     "output_type": "stream",
     "text": [
      "Digite a distância da viagem em km:  okk854h\n"
     ]
    },
    {
     "name": "stdout",
     "output_type": "stream",
     "text": [
      "Erro: Por favor, insira um número válido para a distância.\n"
     ]
    },
    {
     "name": "stdin",
     "output_type": "stream",
     "text": [
      "Digite a distância da viagem em km:  85746\n"
     ]
    }
   ],
   "source": [
    "# Ler a distância da viagem\n",
    "distancia = ler_distancia()"
   ]
  },
  {
   "cell_type": "code",
   "execution_count": 36,
   "metadata": {},
   "outputs": [],
   "source": [
    "# Calcular o preço da passagem\n",
    "if distancia <= 200:\n",
    "    preco = distancia * 0.50\n",
    "else:\n",
    "    preco = distancia * 0.45"
   ]
  },
  {
   "cell_type": "code",
   "execution_count": 37,
   "metadata": {},
   "outputs": [
    {
     "name": "stdout",
     "output_type": "stream",
     "text": [
      "O preço da passagem para uma viagem de 85746.0 km é de R$ 38585.70.\n"
     ]
    }
   ],
   "source": [
    "# Exibir o preço da passagem\n",
    "print(f\"O preço da passagem para uma viagem de {distancia} km é de R$ {preco:.2f}.\")"
   ]
  },
  {
   "cell_type": "markdown",
   "metadata": {
    "id": "kgnNKYZmGdZD"
   },
   "source": [
    "### Exercício-015\n",
    "Faça um programa que leia um ano qualquer e mostre se ele é BISSEXTO."
   ]
  },
  {
   "cell_type": "code",
   "execution_count": 46,
   "metadata": {},
   "outputs": [],
   "source": [
    "# Função para verificar se o ano é bissexto\n",
    "def verificar_bissexto(ano):\n",
    "    if (ano % 4 == 0 and ano % 100 != 0) or (ano % 400 == 0):\n",
    "        return True\n",
    "    else:\n",
    "        return False"
   ]
  },
  {
   "cell_type": "code",
   "execution_count": 51,
   "metadata": {},
   "outputs": [
    {
     "name": "stdout",
     "output_type": "stream",
     "text": [
      "2800\n"
     ]
    }
   ],
   "source": [
    "# Escolher um ano aleatório entre 1 e 3000\n",
    "import random\n",
    "random.seed(1234) # Definir o seed para reprodutibilidade\n",
    "ano = random.randint(1, 3000)\n",
    "# ano = 2800 # OBS.: como 'controle positivo' tire o hashtag desta linha e insira na de cima para ver se o código funciona corretamente\n",
    "print(ano)"
   ]
  },
  {
   "cell_type": "code",
   "execution_count": 52,
   "metadata": {},
   "outputs": [
    {
     "name": "stdout",
     "output_type": "stream",
     "text": [
      "O ano 2800 é BISSEXTO.\n"
     ]
    }
   ],
   "source": [
    "# Verificar se o ano é bissexto\n",
    "if verificar_bissexto(ano):\n",
    "    print(f\"O ano {ano} é BISSEXTO.\")\n",
    "else:\n",
    "    print(f\"O ano {ano} NÃO é BISSEXTO.\")"
   ]
  },
  {
   "cell_type": "markdown",
   "metadata": {
    "id": "SnSc5iyTTU_e"
   },
   "source": [
    "### Exercício-016\n",
    "Faça um programa que leia o sexo de uma pessoa, mas só aceite os valores 'M' ou 'F'.\n",
    "Caso esteja errado, peça a digitação novamente até ter um valor correto."
   ]
  },
  {
   "cell_type": "code",
   "execution_count": 53,
   "metadata": {},
   "outputs": [],
   "source": [
    "# Função para ler o sexo da pessoa\n",
    "def ler_sexo():\n",
    "    while True:\n",
    "        sexo = input(\"Digite o sexo da pessoa (M/F): \").strip().upper()\n",
    "        \n",
    "        # Verificar se a entrada é válida ('M' ou 'F')\n",
    "        if sexo in ['M', 'F']:\n",
    "            return sexo\n",
    "        else:\n",
    "            print(\"Entrada inválida. Por favor, digite 'M' para masculino ou 'F' para feminino.\")"
   ]
  },
  {
   "cell_type": "code",
   "execution_count": 54,
   "metadata": {},
   "outputs": [
    {
     "name": "stdin",
     "output_type": "stream",
     "text": [
      "Digite o sexo da pessoa (M/F):  k\n"
     ]
    },
    {
     "name": "stdout",
     "output_type": "stream",
     "text": [
      "Entrada inválida. Por favor, digite 'M' para masculino ou 'F' para feminino.\n"
     ]
    },
    {
     "name": "stdin",
     "output_type": "stream",
     "text": [
      "Digite o sexo da pessoa (M/F):  m\n"
     ]
    }
   ],
   "source": [
    "# Ler o sexo da pessoa\n",
    "sexo = ler_sexo()"
   ]
  },
  {
   "cell_type": "code",
   "execution_count": 55,
   "metadata": {},
   "outputs": [
    {
     "name": "stdout",
     "output_type": "stream",
     "text": [
      "Sexo masculino selecionado.\n"
     ]
    }
   ],
   "source": [
    "# Exibir o resultado\n",
    "if sexo == 'M':\n",
    "    print(\"Sexo masculino selecionado.\")\n",
    "else:\n",
    "    print(\"Sexo feminino selecionado.\")"
   ]
  },
  {
   "cell_type": "markdown",
   "metadata": {
    "id": "CyP7CbmCUGhH"
   },
   "source": [
    "### Exercício-017\n",
    "Crie um programa que leia dois valores e mostre um menu como o abaixo na tela:\n",
    "\n",
    "[ 1 ] Somar\n",
    "\n",
    "[ 2 ] Multiplicar\n",
    "\n",
    "[ 3 ] Maior\n",
    "\n",
    "[ 4 ] Novos Números\n",
    "\n",
    "[ 5 ] Sair do Programa\n",
    "\n",
    "Seu programa deverá realizar a operação solicitada em cada caso."
   ]
  },
  {
   "cell_type": "code",
   "execution_count": 56,
   "metadata": {},
   "outputs": [],
   "source": [
    "def menu():\n",
    "    print(\"\\n[ 1 ] Somar\")\n",
    "    print(\"[ 2 ] Multiplicar\")\n",
    "    print(\"[ 3 ] Maior\")\n",
    "    print(\"[ 4 ] Novos Números\")\n",
    "    print(\"[ 5 ] Sair do Programa\")"
   ]
  },
  {
   "cell_type": "code",
   "execution_count": 57,
   "metadata": {},
   "outputs": [],
   "source": [
    "def ler_numeros():\n",
    "    while True:\n",
    "        entrada1 = input(\"Digite o primeiro valor: \")\n",
    "        entrada2 = input(\"Digite o segundo valor: \")\n",
    "        \n",
    "        try:\n",
    "            num1 = float(entrada1)\n",
    "            num2 = float(entrada2)\n",
    "            return num1, num2\n",
    "        except ValueError:\n",
    "            print(\"Erro: Por favor, insira números válidos.\")\n",
    "            "
   ]
  },
  {
   "cell_type": "code",
   "execution_count": 58,
   "metadata": {},
   "outputs": [
    {
     "name": "stdin",
     "output_type": "stream",
     "text": [
      "Digite o primeiro valor:  carro\n",
      "Digite o segundo valor:  carro2\n"
     ]
    },
    {
     "name": "stdout",
     "output_type": "stream",
     "text": [
      "Erro: Por favor, insira números válidos.\n"
     ]
    },
    {
     "name": "stdin",
     "output_type": "stream",
     "text": [
      "Digite o primeiro valor:  5\n",
      "Digite o segundo valor:  98755.5\n"
     ]
    }
   ],
   "source": [
    "# Inicializa os números com valores iniciais\n",
    "num1, num2 = ler_numeros()"
   ]
  },
  {
   "cell_type": "code",
   "execution_count": 60,
   "metadata": {},
   "outputs": [
    {
     "name": "stdout",
     "output_type": "stream",
     "text": [
      "\n",
      "[ 1 ] Somar\n",
      "[ 2 ] Multiplicar\n",
      "[ 3 ] Maior\n",
      "[ 4 ] Novos Números\n",
      "[ 5 ] Sair do Programa\n"
     ]
    },
    {
     "name": "stdin",
     "output_type": "stream",
     "text": [
      "Escolha uma opção:  854.8554\n"
     ]
    },
    {
     "name": "stdout",
     "output_type": "stream",
     "text": [
      "Opção inválida. Por favor, escolha uma opção entre 1 e 5.\n",
      "\n",
      "[ 1 ] Somar\n",
      "[ 2 ] Multiplicar\n",
      "[ 3 ] Maior\n",
      "[ 4 ] Novos Números\n",
      "[ 5 ] Sair do Programa\n"
     ]
    },
    {
     "name": "stdin",
     "output_type": "stream",
     "text": [
      "Escolha uma opção:  2\n"
     ]
    },
    {
     "name": "stdout",
     "output_type": "stream",
     "text": [
      "A multiplicação de 85454.0 e 9.757 é 833774.678.\n",
      "\n",
      "[ 1 ] Somar\n",
      "[ 2 ] Multiplicar\n",
      "[ 3 ] Maior\n",
      "[ 4 ] Novos Números\n",
      "[ 5 ] Sair do Programa\n"
     ]
    },
    {
     "name": "stdin",
     "output_type": "stream",
     "text": [
      "Escolha uma opção:  5\n"
     ]
    },
    {
     "name": "stdout",
     "output_type": "stream",
     "text": [
      "Saindo do programa, see you later aligator!...\n"
     ]
    }
   ],
   "source": [
    "while True:\n",
    "    # Exibir o menu e ler a opção do usuário\n",
    "    menu()\n",
    "    opcao = input(\"Escolha uma opção: \").strip()\n",
    "\n",
    "    if opcao == '1':\n",
    "        # Somar\n",
    "        resultado = num1 + num2\n",
    "        print(f\"A soma de {num1} e {num2} é {resultado}.\")\n",
    "    elif opcao == '2':\n",
    "        # Multiplicar\n",
    "        resultado = num1 * num2\n",
    "        print(f\"A multiplicação de {num1} e {num2} é {resultado}.\")\n",
    "    elif opcao == '3':\n",
    "        # Maior\n",
    "        maior = max(num1, num2)\n",
    "        print(f\"O maior número entre {num1} e {num2} é {maior}.\")\n",
    "    elif opcao == '4':\n",
    "        # Novos Números\n",
    "        num1, num2 = ler_numeros()\n",
    "    elif opcao == '5':\n",
    "        # Sair\n",
    "        print(\"Saindo do programa, see you later aligator!...\")\n",
    "        break\n",
    "    else:\n",
    "        print(\"Opção inválida. Por favor, escolha uma opção entre 1 e 5.\")"
   ]
  },
  {
   "cell_type": "markdown",
   "metadata": {
    "id": "WwY91EJmSBoh"
   },
   "source": [
    "### Exercício-018\n",
    "Crie um programa que leia o ano de nascimento de sete pessoas. No final, mostre\n",
    "quantas pessoas ainda não atingiram a maioridade e quantas já são maiores."
   ]
  },
  {
   "cell_type": "code",
   "execution_count": 61,
   "metadata": {},
   "outputs": [],
   "source": [
    "from datetime import datetime\n",
    "\n",
    "def verificar_maioridade(ano_nascimento):\n",
    "    \"\"\"Verifica se a pessoa atingiu a maioridade (18 anos).\"\"\"\n",
    "    ano_atual = datetime.now().year\n",
    "    idade = ano_atual - ano_nascimento\n",
    "    return idade >= 18\n",
    "\n",
    "def obter_ano_nascimento(index):\n",
    "    \"\"\"Solicita ao usuário o ano de nascimento e valida a entrada.\"\"\"\n",
    "    while True:\n",
    "        entrada = input(f\"Digite o ano de nascimento da pessoa {index + 1}: \").strip()\n",
    "        try:\n",
    "            ano = int(entrada)\n",
    "            if ano > 1900 and ano <= datetime.now().year:\n",
    "                return ano\n",
    "            else:\n",
    "                print(\"Ano inválido. Digite um ano entre 1900 e o ano atual.\")\n",
    "        except ValueError:\n",
    "            print(\"Entrada inválida. Por favor, insira um número inteiro.\")"
   ]
  },
  {
   "cell_type": "code",
   "execution_count": null,
   "metadata": {},
   "outputs": [],
   "source": [
    "# Lista para armazenar os anos de nascimento\n",
    "anos_nascimento = []"
   ]
  },
  {
   "cell_type": "code",
   "execution_count": 63,
   "metadata": {},
   "outputs": [
    {
     "name": "stdin",
     "output_type": "stream",
     "text": [
      "Digite o ano de nascimento da pessoa 1:  1989\n",
      "Digite o ano de nascimento da pessoa 2:  1987\n",
      "Digite o ano de nascimento da pessoa 3:  1902\n",
      "Digite o ano de nascimento da pessoa 4:  2000\n",
      "Digite o ano de nascimento da pessoa 5:  2005\n",
      "Digite o ano de nascimento da pessoa 6:  2004\n",
      "Digite o ano de nascimento da pessoa 7:  2009\n"
     ]
    }
   ],
   "source": [
    "# Ler o ano de nascimento de sete pessoas\n",
    "for i in range(7):\n",
    "    ano = obter_ano_nascimento(i)\n",
    "    anos_nascimento.append(ano)"
   ]
  },
  {
   "cell_type": "code",
   "execution_count": 64,
   "metadata": {},
   "outputs": [],
   "source": [
    "# Contadores para maioridade\n",
    "pessoas_maiores = 0\n",
    "pessoas_menores = 0"
   ]
  },
  {
   "cell_type": "code",
   "execution_count": 65,
   "metadata": {},
   "outputs": [],
   "source": [
    "# Verificar maioridade para cada ano de nascimento\n",
    "for ano in anos_nascimento:\n",
    "    if verificar_maioridade(ano):\n",
    "        pessoas_maiores += 1\n",
    "    else:\n",
    "        pessoas_menores += 1"
   ]
  },
  {
   "cell_type": "code",
   "execution_count": 66,
   "metadata": {},
   "outputs": [
    {
     "name": "stdout",
     "output_type": "stream",
     "text": [
      "\n",
      "Número de pessoas que já atingiram a maioridade: 6\n",
      "Número de pessoas que ainda não atingiram a maioridade: 1\n"
     ]
    }
   ],
   "source": [
    "# Exibir resultados\n",
    "print(f\"\\nNúmero de pessoas que já atingiram a maioridade: {pessoas_maiores}\")\n",
    "print(f\"Número de pessoas que ainda não atingiram a maioridade: {pessoas_menores}\")"
   ]
  },
  {
   "cell_type": "markdown",
   "metadata": {
    "id": "TRtqiVKuSh4F"
   },
   "source": [
    "### Exercício-019\n",
    "Faça um programa que leia o peso de cinco pessoas.\n",
    "No final, mostre qual foi o maior e o menor peso lidos."
   ]
  },
  {
   "cell_type": "code",
   "execution_count": 67,
   "metadata": {},
   "outputs": [],
   "source": [
    "def obter_peso(index):\n",
    "    \"\"\"Solicita ao usuário o peso e valida a entrada.\"\"\"\n",
    "    while True:\n",
    "        entrada = input(f\"Digite o peso da pessoa {index + 1} em kg: \").strip()\n",
    "        try:\n",
    "            peso = float(entrada)\n",
    "            if peso > 0:\n",
    "                return peso\n",
    "            else:\n",
    "                print(\"Peso inválido. O peso deve ser um número positivo.\")\n",
    "        except ValueError:\n",
    "            print(\"Entrada inválida. Por favor, insira um número válido.\")"
   ]
  },
  {
   "cell_type": "code",
   "execution_count": 68,
   "metadata": {},
   "outputs": [],
   "source": [
    "# Listas para armazenar os pesos\n",
    "pesos = []"
   ]
  },
  {
   "cell_type": "code",
   "execution_count": 71,
   "metadata": {},
   "outputs": [
    {
     "name": "stdin",
     "output_type": "stream",
     "text": [
      "Digite o peso da pessoa 1 em kg:  ol\n"
     ]
    },
    {
     "name": "stdout",
     "output_type": "stream",
     "text": [
      "Entrada inválida. Por favor, insira um número válido.\n"
     ]
    },
    {
     "name": "stdin",
     "output_type": "stream",
     "text": [
      "Digite o peso da pessoa 1 em kg:  85\n",
      "Digite o peso da pessoa 2 em kg:  107\n",
      "Digite o peso da pessoa 3 em kg:  500\n",
      "Digite o peso da pessoa 4 em kg:  65\n",
      "Digite o peso da pessoa 5 em kg:  45\n"
     ]
    }
   ],
   "source": [
    "# Ler o peso de cinco pessoas\n",
    "for i in range(5):\n",
    "    peso = obter_peso(i)\n",
    "    pesos.append(peso)"
   ]
  },
  {
   "cell_type": "code",
   "execution_count": 72,
   "metadata": {},
   "outputs": [
    {
     "name": "stdout",
     "output_type": "stream",
     "text": [
      "\n",
      "O maior peso registrado foi: 500.0 kg\n",
      "O menor peso registrado foi: 45.0 kg\n"
     ]
    }
   ],
   "source": [
    "# Determinar o maior e o menor peso\n",
    "peso_maior = max(pesos)\n",
    "peso_menor = min(pesos)\n",
    "\n",
    "# Exibir resultados\n",
    "print(f\"\\nO maior peso registrado foi: {peso_maior} kg\")\n",
    "print(f\"O menor peso registrado foi: {peso_menor} kg\")"
   ]
  },
  {
   "cell_type": "markdown",
   "metadata": {
    "id": "RRAw_WY9S-G3"
   },
   "source": [
    "### Exercício-020\n",
    "Desenvolva um programa que leia o nome, idade e sexo de 4 pessoas. No final do programa, mostre:\n",
    "- A média de idade do grupo.\n",
    "- Qual é o nome do homem mais velho.\n",
    "- Quantas mulheres têm menos de 20 anos."
   ]
  },
  {
   "cell_type": "code",
   "execution_count": 73,
   "metadata": {},
   "outputs": [],
   "source": [
    "def obter_nome(index):\n",
    "    \"\"\"Solicita ao usuário o nome e valida a entrada, aceitando apenas caracteres.\"\"\"\n",
    "    while True:\n",
    "        nome = input(f\"Digite o nome da pessoa {index + 1}: \").strip()\n",
    "        if nome.isalpha():\n",
    "            return nome\n",
    "        else:\n",
    "            print(\"Nome inválido. O nome deve conter apenas caracteres.\")\n",
    "\n",
    "def obter_idade(index):\n",
    "    \"\"\"Solicita ao usuário a idade e valida a entrada, aceitando apenas números inteiros positivos.\"\"\"\n",
    "    while True:\n",
    "        entrada = input(f\"Digite a idade da pessoa {index + 1}: \").strip()\n",
    "        try:\n",
    "            idade = int(entrada)\n",
    "            if idade > 0:\n",
    "                return idade\n",
    "            else:\n",
    "                print(\"Idade inválida. A idade deve ser um número inteiro positivo.\")\n",
    "        except ValueError:\n",
    "            print(\"Entrada inválida. Por favor, insira um número inteiro.\")\n",
    "\n",
    "def obter_sexo(index):\n",
    "    \"\"\"Solicita ao usuário o sexo e valida a entrada, aceitando apenas 'M' ou 'F'.\"\"\"\n",
    "    while True:\n",
    "        sexo = input(f\"Digite o sexo da pessoa {index + 1} (M/F): \").strip().upper()\n",
    "        if sexo in ['M', 'F']:\n",
    "            return sexo\n",
    "        else:\n",
    "            print(\"Sexo inválido. Por favor, insira 'M' para masculino ou 'F' para feminino.\")"
   ]
  },
  {
   "cell_type": "code",
   "execution_count": 74,
   "metadata": {},
   "outputs": [],
   "source": [
    "# Listas para armazenar os dados\n",
    "nomes = []\n",
    "idades = []\n",
    "sexos = []"
   ]
  },
  {
   "cell_type": "code",
   "execution_count": 75,
   "metadata": {},
   "outputs": [
    {
     "name": "stdin",
     "output_type": "stream",
     "text": [
      "Digite o nome da pessoa 1:  8\n"
     ]
    },
    {
     "name": "stdout",
     "output_type": "stream",
     "text": [
      "Nome inválido. O nome deve conter apenas caracteres.\n"
     ]
    },
    {
     "name": "stdin",
     "output_type": "stream",
     "text": [
      "Digite o nome da pessoa 1:  fernando\n",
      "Digite a idade da pessoa 1:  claudia\n"
     ]
    },
    {
     "name": "stdout",
     "output_type": "stream",
     "text": [
      "Entrada inválida. Por favor, insira um número inteiro.\n"
     ]
    },
    {
     "name": "stdin",
     "output_type": "stream",
     "text": [
      "Digite a idade da pessoa 1:  85\n",
      "Digite o sexo da pessoa 1 (M/F):  m\n",
      "Digite o nome da pessoa 2:  fernando\n",
      "Digite a idade da pessoa 2:  78\n",
      "Digite o sexo da pessoa 2 (M/F):  m\n",
      "Digite o nome da pessoa 3:  usurp\n",
      "Digite a idade da pessoa 3:  7\n",
      "Digite o sexo da pessoa 3 (M/F):  f\n",
      "Digite o nome da pessoa 4:  fabinha\n",
      "Digite a idade da pessoa 4:  21\n",
      "Digite o sexo da pessoa 4 (M/F):  f\n"
     ]
    }
   ],
   "source": [
    "# Ler dados de 4 pessoas\n",
    "for i in range(4):\n",
    "    nome = obter_nome(i)\n",
    "    idade = obter_idade(i)\n",
    "    sexo = obter_sexo(i)\n",
    "    nomes.append(nome)\n",
    "    idades.append(idade)\n",
    "    sexos.append(sexo)"
   ]
  },
  {
   "cell_type": "code",
   "execution_count": 76,
   "metadata": {},
   "outputs": [],
   "source": [
    "# Cálculo da média de idade\n",
    "media_idade = sum(idades) / len(idades)"
   ]
  },
  {
   "cell_type": "code",
   "execution_count": 77,
   "metadata": {},
   "outputs": [],
   "source": [
    "# Determinar o nome do homem mais velho\n",
    "homem_mais_velho = None\n",
    "idade_homem_mais_velho = -1\n",
    "\n",
    "for i in range(4):\n",
    "    if sexos[i] == 'M' and idades[i] > idade_homem_mais_velho:\n",
    "        idade_homem_mais_velho = idades[i]\n",
    "        homem_mais_velho = nomes[i]"
   ]
  },
  {
   "cell_type": "code",
   "execution_count": 78,
   "metadata": {},
   "outputs": [],
   "source": [
    "# Contar mulheres com menos de 20 anos\n",
    "num_mulheres_menores_20 = sum(1 for i in range(4) if sexos[i] == 'F' and idades[i] < 20)"
   ]
  },
  {
   "cell_type": "code",
   "execution_count": 79,
   "metadata": {},
   "outputs": [
    {
     "name": "stdout",
     "output_type": "stream",
     "text": [
      "\n",
      "Média de idade do grupo: 47.75\n",
      "Nome do homem mais velho: fernando\n",
      "Quantidade de mulheres com menos de 20 anos: 1\n"
     ]
    }
   ],
   "source": [
    "# Exibir resultados\n",
    "print(f\"\\nMédia de idade do grupo: {media_idade:.2f}\")\n",
    "if homem_mais_velho:\n",
    "    print(f\"Nome do homem mais velho: {homem_mais_velho}\")\n",
    "else:\n",
    "    print(\"Não há homens no grupo.\")\n",
    "print(f\"Quantidade de mulheres com menos de 20 anos: {num_mulheres_menores_20}\")"
   ]
  },
  {
   "cell_type": "markdown",
   "metadata": {
    "id": "bsY-uxxVqloF"
   },
   "source": [
    "### Exercício-021\n",
    "Escreva uma função em python que recebe 3 números e encontra o maior valor. Execute a função com um exemplo:"
   ]
  },
  {
   "cell_type": "code",
   "execution_count": 85,
   "metadata": {},
   "outputs": [],
   "source": [
    "def obter_entrada_numerica(mensagem):\n",
    "    \"\"\"\n",
    "    Solicita ao usuário uma entrada numérica e valida a entrada.\n",
    "    \n",
    "    :param mensagem: Mensagem a ser exibida ao usuário\n",
    "    :return: Número float inserido pelo usuário\n",
    "    \"\"\"\n",
    "    while True:\n",
    "        entrada = input(mensagem).strip()\n",
    "        try:\n",
    "            numero = float(entrada)\n",
    "            return numero\n",
    "        except ValueError:\n",
    "            print(\"Entrada inválida. Por favor, insira um número válido.\")\n",
    "\n",
    "def obter_entrada_textual(mensagem):\n",
    "    \"\"\"\n",
    "    Solicita ao usuário uma entrada textual e valida a entrada.\n",
    "    \n",
    "    :param mensagem: Mensagem a ser exibida ao usuário\n",
    "    :return: Texto inserido pelo usuário\n",
    "    \"\"\"\n",
    "    while True:\n",
    "        texto = input(mensagem).strip()\n",
    "        if texto.isalpha():\n",
    "            return texto\n",
    "        else:\n",
    "            print(\"Entrada inválida. Por favor, insira apenas caracteres.\")\n",
    "\n",
    "def encontrar_maior(numero1, numero2, numero3):\n",
    "    \"\"\"\n",
    "    Encontra o maior valor entre três números fornecidos.\n",
    "    \n",
    "    :param numero1: Primeiro número\n",
    "    :param numero2: Segundo número\n",
    "    :param numero3: Terceiro número\n",
    "    :return: O maior valor entre os três números\n",
    "    \"\"\"\n",
    "    return max(numero1, numero2, numero3)"
   ]
  },
  {
   "cell_type": "code",
   "execution_count": 86,
   "metadata": {},
   "outputs": [
    {
     "name": "stdin",
     "output_type": "stream",
     "text": [
      "Digite o nome da planta 1:  rosa\n",
      "Digite o nome da planta 2:  coqueiro\n",
      "Digite o nome da planta 3:  orquidea\n"
     ]
    }
   ],
   "source": [
    "# Solicitar nomes das plantas\n",
    "nome_planta1 = obter_entrada_textual(\"Digite o nome da planta 1: \")\n",
    "nome_planta2 = obter_entrada_textual(\"Digite o nome da planta 2: \")\n",
    "nome_planta3 = obter_entrada_textual(\"Digite o nome da planta 3: \")"
   ]
  },
  {
   "cell_type": "code",
   "execution_count": 87,
   "metadata": {},
   "outputs": [
    {
     "name": "stdin",
     "output_type": "stream",
     "text": [
      "Digite a altura da rosa em cm:  85\n",
      "Digite a altura da coqueiro em cm:  9878\n",
      "Digite a altura da orquidea em cm:  50\n"
     ]
    }
   ],
   "source": [
    "# Solicitar alturas das plantas\n",
    "altura_planta1 = obter_entrada_numerica(f\"Digite a altura da {nome_planta1} em cm: \")\n",
    "altura_planta2 = obter_entrada_numerica(f\"Digite a altura da {nome_planta2} em cm: \")\n",
    "altura_planta3 = obter_entrada_numerica(f\"Digite a altura da {nome_planta3} em cm: \")"
   ]
  },
  {
   "cell_type": "code",
   "execution_count": 88,
   "metadata": {},
   "outputs": [],
   "source": [
    "# Encontrar a maior altura\n",
    "altura_maxima = encontrar_maior(altura_planta1, altura_planta2, altura_planta3)"
   ]
  },
  {
   "cell_type": "code",
   "execution_count": 89,
   "metadata": {},
   "outputs": [],
   "source": [
    "# Determinar qual planta é a mais alta\n",
    "if altura_maxima == altura_planta1:\n",
    "    planta_mais_alta = nome_planta1\n",
    "elif altura_maxima == altura_planta2:\n",
    "    planta_mais_alta = nome_planta2\n",
    "else:\n",
    "    planta_mais_alta = nome_planta3"
   ]
  },
  {
   "cell_type": "code",
   "execution_count": 90,
   "metadata": {},
   "outputs": [
    {
     "name": "stdout",
     "output_type": "stream",
     "text": [
      "\n",
      "A maior altura registrada é: 9878.0 cm, pertencente à planta coqueiro\n"
     ]
    }
   ],
   "source": [
    "# Exibir resultados\n",
    "print(f\"\\nA maior altura registrada é: {altura_maxima} cm, pertencente à planta {planta_mais_alta}\")"
   ]
  },
  {
   "cell_type": "markdown",
   "metadata": {
    "id": "OkKN4-Qdrh2X"
   },
   "source": [
    "### Exerício-022\n",
    "Escreve uma funão que recebe uma lista e retorna os elementos únicos da lista."
   ]
  },
  {
   "cell_type": "code",
   "execution_count": 94,
   "metadata": {},
   "outputs": [],
   "source": [
    "import random\n",
    "\n",
    "def gerar_lista_aleatoria(tamanho, min_valor, max_valor):\n",
    "    \"\"\"\n",
    "    Gera uma lista de números aleatórios dentro do intervalo especificado.\n",
    "    \n",
    "    :param tamanho: Número de elementos na lista\n",
    "    :param min_valor: Valor mínimo que pode ser gerado (inclusive)\n",
    "    :param max_valor: Valor máximo que pode ser gerado (inclusive)\n",
    "    :return: Lista de números aleatórios\n",
    "    \"\"\"\n",
    "    return [random.randint(min_valor, max_valor) for _ in range(tamanho)]\n",
    "\n",
    "def encontrar_elementos_unicos(lista):\n",
    "    \"\"\"\n",
    "    Encontra e retorna uma lista de elementos únicos da lista fornecida.\n",
    "    \n",
    "    :param lista: Lista de elementos que podem conter duplicatas\n",
    "    :return: Lista com elementos únicos\n",
    "    \"\"\"\n",
    "    return list(set(lista))"
   ]
  },
  {
   "cell_type": "code",
   "execution_count": 95,
   "metadata": {},
   "outputs": [],
   "source": [
    "# Exemplo de uso da função\n",
    "tamanho_lista = 10  # Definia o tamanho da lista desejada\n",
    "min_valor = 0 # Definia o valor mínimo da lista desejada\n",
    "max_valor = 100 # Definia o valor máximo da lista desejada"
   ]
  },
  {
   "cell_type": "code",
   "execution_count": 97,
   "metadata": {},
   "outputs": [
    {
     "name": "stdout",
     "output_type": "stream",
     "text": [
      "A lista aleatória gerada foi: [79, 61, 78, 59, 19, 11, 23, 91, 14, 1]\n",
      "Os valores únicos na lista acima são: [1, 91, 11, 78, 79, 14, 19, 23, 59, 61]\n"
     ]
    }
   ],
   "source": [
    "# Gerar e imprimir a lista aleatória\n",
    "lista_aleatoria = gerar_lista_aleatoria(tamanho_lista, min_valor, max_valor)\n",
    "print(f\"A lista aleatória gerada foi: {lista_aleatoria}\")\n",
    "\n",
    "# Encontrar e imprimir os valores únicos\n",
    "lista_unica = encontrar_elementos_unicos(lista_aleatoria)\n",
    "print(f\"Os valores únicos na lista acima são: {lista_unica}\")\n"
   ]
  },
  {
   "cell_type": "markdown",
   "metadata": {
    "id": "l22vUPfusTph"
   },
   "source": [
    "### Exercício-023\n",
    "Esceva uma função em python que recebe uma cadeia de caracteres separada por hifens e retorna uma cadeida de caracteres em ordem alfabética concatenada por hifens."
   ]
  },
  {
   "cell_type": "code",
   "execution_count": 104,
   "metadata": {},
   "outputs": [],
   "source": [
    "def ordenar_cadeia(cadeia):\n",
    "    \"\"\"\n",
    "    Recebe uma cadeia de caracteres separada por hífens e retorna uma cadeia em ordem alfabética,\n",
    "    também separada por hífens.\n",
    "    \n",
    "    :param cadeia: Cadeia de caracteres separada por hífens\n",
    "    :return: Cadeia de caracteres em ordem alfabética separada por hífens\n",
    "    \"\"\"\n",
    "    # Divide a cadeia em partes usando o hífen como separador\n",
    "    partes = cadeia.split('-')\n",
    "    \n",
    "    # Ordena as partes em ordem alfabética\n",
    "    partes_ordenadas = sorted(partes)\n",
    "    \n",
    "    # Junta as partes ordenadas com hífens\n",
    "    cadeia_ordenada = '-'.join(partes_ordenadas)\n",
    "    \n",
    "    return cadeia_ordenada"
   ]
  },
  {
   "cell_type": "code",
   "execution_count": 106,
   "metadata": {},
   "outputs": [
    {
     "name": "stdin",
     "output_type": "stream",
     "text": [
      "Digite uma cadeia de caracteres separada por hífens:  A-H-U-O-P-I-L-U-W-K-E-I-B-H-L-PW-Q-P\n"
     ]
    },
    {
     "name": "stdout",
     "output_type": "stream",
     "text": [
      "Cadeia em ordem alfabética: A-B-E-H-H-I-I-K-L-L-O-P-P-PW-Q-U-U-W\n"
     ]
    }
   ],
   "source": [
    "# Exemplo de uso da função\n",
    "cadeia = input(\"Digite uma cadeia de caracteres separada por hífens: \")\n",
    "cadeia_ordenada = ordenar_cadeia(cadeia)\n",
    "\n",
    "print(f\"Cadeia em ordem alfabética: {cadeia_ordenada}\")"
   ]
  },
  {
   "cell_type": "markdown",
   "metadata": {
    "id": "079kJGKivdu3"
   },
   "source": [
    "### Exercício-024\n",
    "Escreva uma função em python que checa se um número é primo ou não."
   ]
  },
  {
   "cell_type": "code",
   "execution_count": 98,
   "metadata": {},
   "outputs": [],
   "source": [
    "def eh_primo(numero):\n",
    "    \"\"\"\n",
    "    Verifica se um número é primo.\n",
    "    \n",
    "    :param numero: Número inteiro a ser verificado\n",
    "    :return: True se o número for primo, False caso contrário\n",
    "    \"\"\"\n",
    "    # Verifica se o número é menor ou igual a 1\n",
    "    if numero <= 1:\n",
    "        return False\n",
    "    # Verifica se o número é 2 ou 3, que são primos\n",
    "    if numero <= 3:\n",
    "        return True\n",
    "    # Elimina múltiplos de 2 e 3\n",
    "    if numero % 2 == 0 or numero % 3 == 0:\n",
    "        return False\n",
    "    # Verifica divisores de 5 até a raiz quadrada do número\n",
    "    i = 5\n",
    "    while i * i <= numero:\n",
    "        if numero % i == 0 or numero % (i + 2) == 0:\n",
    "            return False\n",
    "        i += 6\n",
    "    return True"
   ]
  },
  {
   "cell_type": "code",
   "execution_count": 100,
   "metadata": {},
   "outputs": [
    {
     "name": "stdin",
     "output_type": "stream",
     "text": [
      "Digite um número para verificar se é primo:  85\n"
     ]
    },
    {
     "name": "stdout",
     "output_type": "stream",
     "text": [
      "O número 85 não é primo.\n"
     ]
    }
   ],
   "source": [
    "# Exemplo de uso da função\n",
    "numero = int(input(\"Digite um número para verificar se é primo: \"))\n",
    "if eh_primo(numero):\n",
    "    print(f\"O número {numero} é primo.\")\n",
    "else:\n",
    "    print(f\"O número {numero} não é primo.\")\n"
   ]
  },
  {
   "cell_type": "markdown",
   "metadata": {
    "id": "6FpHcjlcwQhX"
   },
   "source": [
    "### Exercício-025\n",
    "Escreva uma função em python que aceita uma cadeida de caracteres e calcula o número de letras maiúsculas e minúsculas."
   ]
  },
  {
   "cell_type": "code",
   "execution_count": 101,
   "metadata": {},
   "outputs": [],
   "source": [
    "def contar_maiusculas_minusculas(cadeia):\n",
    "    \"\"\"\n",
    "    Conta o número de letras maiúsculas e minúsculas em uma cadeia de caracteres.\n",
    "    \n",
    "    :param cadeia: Cadeia de caracteres para análise\n",
    "    :return: Um dicionário com a contagem de maiúsculas e minúsculas\n",
    "    \"\"\"\n",
    "    contagem = {\n",
    "        'maiusculas': 0,\n",
    "        'minusculas': 0\n",
    "    }\n",
    "    \n",
    "    for char in cadeia:\n",
    "        if char.isupper():\n",
    "            contagem['maiusculas'] += 1\n",
    "        elif char.islower():\n",
    "            contagem['minusculas'] += 1\n",
    "    \n",
    "    return contagem"
   ]
  },
  {
   "cell_type": "code",
   "execution_count": 102,
   "metadata": {},
   "outputs": [
    {
     "name": "stdin",
     "output_type": "stream",
     "text": [
      "Digite uma cadeia de caracteres:  HBFAHFHDBSHBDVDsbvjdvajVDHVDAH mndsfadjfhdbbhdbvadb dsjBFHDSBGVDHAB \n"
     ]
    }
   ],
   "source": [
    "# Exemplo de uso da função\n",
    "cadeia = input(\"Digite uma cadeia de caracteres: \")\n",
    "resultado = contar_maiusculas_minusculas(cadeia)"
   ]
  },
  {
   "cell_type": "code",
   "execution_count": 103,
   "metadata": {},
   "outputs": [
    {
     "name": "stdout",
     "output_type": "stream",
     "text": [
      "Número de letras maiúsculas: 34\n",
      "Número de letras minúsculas: 31\n"
     ]
    }
   ],
   "source": [
    "print(f\"Número de letras maiúsculas: {resultado['maiusculas']}\")\n",
    "print(f\"Número de letras minúsculas: {resultado['minusculas']}\")"
   ]
  }
 ],
 "metadata": {
  "colab": {
   "name": "lista_1.ipynb",
   "provenance": []
  },
  "kernelspec": {
   "display_name": "Python 3 (ipykernel)",
   "language": "python",
   "name": "python3"
  },
  "language_info": {
   "codemirror_mode": {
    "name": "ipython",
    "version": 3
   },
   "file_extension": ".py",
   "mimetype": "text/x-python",
   "name": "python",
   "nbconvert_exporter": "python",
   "pygments_lexer": "ipython3",
   "version": "3.10.11"
  }
 },
 "nbformat": 4,
 "nbformat_minor": 4
}
