{
 "cells": [
  {
   "cell_type": "code",
   "execution_count": 23,
   "metadata": {
    "id": "lIYdn1woOS1n"
   },
   "outputs": [],
   "source": [
    "import pandas as pd\n",
    "import numpy as np\n",
    "from sklearn.feature_extraction.text import CountVectorizer\n",
    "from sklearn.model_selection import train_test_split\n",
    "from sklearn.naive_bayes import BernoulliNB\n",
    "from sklearn.naive_bayes import MultinomialNB\n",
    "import seaborn as sns\n",
    "import matplotlib.pyplot as plt\n",
    "from sklearn import metrics\n",
    "from sklearn.metrics import confusion_matrix\n",
    "\n",
    "from sklearn import datasets"
   ]
  },
  {
   "cell_type": "markdown",
   "metadata": {
    "id": "XeS2N2CKVGh_"
   },
   "source": [
    "## Exercício - 001\n",
    "Importe o conjunto de dados abaixo e utilize o método [`CountVectorizer`](https://scikit-learn.org/stable/modules/generated/sklearn.feature_extraction.text.CountVectorizer.html) para transformar a coluna _CONTENT_ em uma matriz de contagem de palavras.\n",
    "\n",
    "https://raw.githubusercontent.com/amankharwal/Website-data/master/Youtube01-Psy.csv\n"
   ]
  },
  {
   "cell_type": "code",
   "execution_count": 24,
   "metadata": {},
   "outputs": [
    {
     "name": "stdout",
     "output_type": "stream",
     "text": [
      "                                    COMMENT_ID            AUTHOR  \\\n",
      "0  LZQPQhLyRh80UYxNuaDWhIGQYNQ96IuCg-AYWqNPjpU         Julius NM   \n",
      "1  LZQPQhLyRh_C2cTtd9MvFRJedxydaVW-2sNg5Diuo4A       adam riyati   \n",
      "2  LZQPQhLyRh9MSZYnf8djyk0gEF9BHDPYrrK-qCczIY8  Evgeny Murashkin   \n",
      "3          z13jhp0bxqncu512g22wvzkasxmvvzjaz04   ElNino Melendez   \n",
      "4          z13fwbwp1oujthgqj04chlngpvzmtt3r3dw            GsMega   \n",
      "\n",
      "                  DATE                                            CONTENT  \\\n",
      "0  2013-11-07T06:20:48  Huh, anyway check out this you[tube] channel: ...   \n",
      "1  2013-11-07T12:37:15  Hey guys check out my new channel and our firs...   \n",
      "2  2013-11-08T17:34:21             just for test I have to say murdev.com   \n",
      "3  2013-11-09T08:28:43   me shaking my sexy ass on my channel enjoy ^_^ ﻿   \n",
      "4  2013-11-10T16:05:38            watch?v=vtaRGgvGtWQ   Check this out .﻿   \n",
      "\n",
      "   CLASS  \n",
      "0      1  \n",
      "1      1  \n",
      "2      1  \n",
      "3      1  \n",
      "4      1  \n"
     ]
    }
   ],
   "source": [
    "# Carregando o conjunto de dados e conferindo suas primeiras linhas\n",
    "url = 'https://raw.githubusercontent.com/amankharwal/Website-data/master/Youtube01-Psy.csv'\n",
    "df = pd.read_csv(url)\n",
    "print(df.head())"
   ]
  },
  {
   "cell_type": "code",
   "execution_count": 25,
   "metadata": {},
   "outputs": [
    {
     "name": "stdout",
     "output_type": "stream",
     "text": [
      "[[0 0 0 ... 0 0 0]\n",
      " [0 0 0 ... 0 0 0]\n",
      " [0 0 0 ... 0 0 0]\n",
      " ...\n",
      " [0 0 0 ... 0 0 0]\n",
      " [0 0 0 ... 0 0 0]\n",
      " [0 0 0 ... 0 0 0]]\n",
      "['00' '000' '02' ... 'ｆａｎｃy' 'ｉｓ' 'ｔｈｉｓ']\n"
     ]
    }
   ],
   "source": [
    "# Transformar a coluna CONTENT em uma matriz de contagem de palavras\n",
    "vectorizer = CountVectorizer() # Criando uma instância de CountVectorizer\n",
    "\n",
    "x = vectorizer.fit_transform(df['CONTENT']) # Aplicando o CountVectorizer à coluna 'CONTENT'\n",
    "\n",
    "## Visualizar matriz de contagem de palavras e as palavras extraídas \n",
    "print(x.toarray())\n",
    " \n",
    "print(vectorizer.get_feature_names_out())"
   ]
  },
  {
   "cell_type": "markdown",
   "metadata": {
    "id": "6O6yUEJDWZsI"
   },
   "source": [
    "## Exercício - 002\n",
    "Utilize a variável _CLASS_ como variável resposta e a matriz criada acima, como variáveis preditoras, para ajustar um modelo de classificação com o método [_BernoulliNB_](https://scikit-learn.org/stable/modules/generated/sklearn.naive_bayes.BernoulliNB.html) dividindo o conjunto de dados em treinamento e teste."
   ]
  },
  {
   "cell_type": "code",
   "execution_count": 26,
   "metadata": {},
   "outputs": [],
   "source": [
    "# Pre-processamento antes de fazer o modelo \n",
    "\n",
    "## Dividir os dados em variáveis independentes (x) e dependentes (y)\n",
    "y = df['CLASS']  # Variável dependente\n",
    "\n",
    "## Dividir os dados em treinamento e teste \n",
    "x_train, x_test, y_train, y_test = train_test_split(x, y, random_state=1234)"
   ]
  },
  {
   "cell_type": "code",
   "execution_count": 27,
   "metadata": {},
   "outputs": [
    {
     "data": {
      "text/html": [
       "<style>#sk-container-id-2 {\n",
       "  /* Definition of color scheme common for light and dark mode */\n",
       "  --sklearn-color-text: black;\n",
       "  --sklearn-color-line: gray;\n",
       "  /* Definition of color scheme for unfitted estimators */\n",
       "  --sklearn-color-unfitted-level-0: #fff5e6;\n",
       "  --sklearn-color-unfitted-level-1: #f6e4d2;\n",
       "  --sklearn-color-unfitted-level-2: #ffe0b3;\n",
       "  --sklearn-color-unfitted-level-3: chocolate;\n",
       "  /* Definition of color scheme for fitted estimators */\n",
       "  --sklearn-color-fitted-level-0: #f0f8ff;\n",
       "  --sklearn-color-fitted-level-1: #d4ebff;\n",
       "  --sklearn-color-fitted-level-2: #b3dbfd;\n",
       "  --sklearn-color-fitted-level-3: cornflowerblue;\n",
       "\n",
       "  /* Specific color for light theme */\n",
       "  --sklearn-color-text-on-default-background: var(--sg-text-color, var(--theme-code-foreground, var(--jp-content-font-color1, black)));\n",
       "  --sklearn-color-background: var(--sg-background-color, var(--theme-background, var(--jp-layout-color0, white)));\n",
       "  --sklearn-color-border-box: var(--sg-text-color, var(--theme-code-foreground, var(--jp-content-font-color1, black)));\n",
       "  --sklearn-color-icon: #696969;\n",
       "\n",
       "  @media (prefers-color-scheme: dark) {\n",
       "    /* Redefinition of color scheme for dark theme */\n",
       "    --sklearn-color-text-on-default-background: var(--sg-text-color, var(--theme-code-foreground, var(--jp-content-font-color1, white)));\n",
       "    --sklearn-color-background: var(--sg-background-color, var(--theme-background, var(--jp-layout-color0, #111)));\n",
       "    --sklearn-color-border-box: var(--sg-text-color, var(--theme-code-foreground, var(--jp-content-font-color1, white)));\n",
       "    --sklearn-color-icon: #878787;\n",
       "  }\n",
       "}\n",
       "\n",
       "#sk-container-id-2 {\n",
       "  color: var(--sklearn-color-text);\n",
       "}\n",
       "\n",
       "#sk-container-id-2 pre {\n",
       "  padding: 0;\n",
       "}\n",
       "\n",
       "#sk-container-id-2 input.sk-hidden--visually {\n",
       "  border: 0;\n",
       "  clip: rect(1px 1px 1px 1px);\n",
       "  clip: rect(1px, 1px, 1px, 1px);\n",
       "  height: 1px;\n",
       "  margin: -1px;\n",
       "  overflow: hidden;\n",
       "  padding: 0;\n",
       "  position: absolute;\n",
       "  width: 1px;\n",
       "}\n",
       "\n",
       "#sk-container-id-2 div.sk-dashed-wrapped {\n",
       "  border: 1px dashed var(--sklearn-color-line);\n",
       "  margin: 0 0.4em 0.5em 0.4em;\n",
       "  box-sizing: border-box;\n",
       "  padding-bottom: 0.4em;\n",
       "  background-color: var(--sklearn-color-background);\n",
       "}\n",
       "\n",
       "#sk-container-id-2 div.sk-container {\n",
       "  /* jupyter's `normalize.less` sets `[hidden] { display: none; }`\n",
       "     but bootstrap.min.css set `[hidden] { display: none !important; }`\n",
       "     so we also need the `!important` here to be able to override the\n",
       "     default hidden behavior on the sphinx rendered scikit-learn.org.\n",
       "     See: https://github.com/scikit-learn/scikit-learn/issues/21755 */\n",
       "  display: inline-block !important;\n",
       "  position: relative;\n",
       "}\n",
       "\n",
       "#sk-container-id-2 div.sk-text-repr-fallback {\n",
       "  display: none;\n",
       "}\n",
       "\n",
       "div.sk-parallel-item,\n",
       "div.sk-serial,\n",
       "div.sk-item {\n",
       "  /* draw centered vertical line to link estimators */\n",
       "  background-image: linear-gradient(var(--sklearn-color-text-on-default-background), var(--sklearn-color-text-on-default-background));\n",
       "  background-size: 2px 100%;\n",
       "  background-repeat: no-repeat;\n",
       "  background-position: center center;\n",
       "}\n",
       "\n",
       "/* Parallel-specific style estimator block */\n",
       "\n",
       "#sk-container-id-2 div.sk-parallel-item::after {\n",
       "  content: \"\";\n",
       "  width: 100%;\n",
       "  border-bottom: 2px solid var(--sklearn-color-text-on-default-background);\n",
       "  flex-grow: 1;\n",
       "}\n",
       "\n",
       "#sk-container-id-2 div.sk-parallel {\n",
       "  display: flex;\n",
       "  align-items: stretch;\n",
       "  justify-content: center;\n",
       "  background-color: var(--sklearn-color-background);\n",
       "  position: relative;\n",
       "}\n",
       "\n",
       "#sk-container-id-2 div.sk-parallel-item {\n",
       "  display: flex;\n",
       "  flex-direction: column;\n",
       "}\n",
       "\n",
       "#sk-container-id-2 div.sk-parallel-item:first-child::after {\n",
       "  align-self: flex-end;\n",
       "  width: 50%;\n",
       "}\n",
       "\n",
       "#sk-container-id-2 div.sk-parallel-item:last-child::after {\n",
       "  align-self: flex-start;\n",
       "  width: 50%;\n",
       "}\n",
       "\n",
       "#sk-container-id-2 div.sk-parallel-item:only-child::after {\n",
       "  width: 0;\n",
       "}\n",
       "\n",
       "/* Serial-specific style estimator block */\n",
       "\n",
       "#sk-container-id-2 div.sk-serial {\n",
       "  display: flex;\n",
       "  flex-direction: column;\n",
       "  align-items: center;\n",
       "  background-color: var(--sklearn-color-background);\n",
       "  padding-right: 1em;\n",
       "  padding-left: 1em;\n",
       "}\n",
       "\n",
       "\n",
       "/* Toggleable style: style used for estimator/Pipeline/ColumnTransformer box that is\n",
       "clickable and can be expanded/collapsed.\n",
       "- Pipeline and ColumnTransformer use this feature and define the default style\n",
       "- Estimators will overwrite some part of the style using the `sk-estimator` class\n",
       "*/\n",
       "\n",
       "/* Pipeline and ColumnTransformer style (default) */\n",
       "\n",
       "#sk-container-id-2 div.sk-toggleable {\n",
       "  /* Default theme specific background. It is overwritten whether we have a\n",
       "  specific estimator or a Pipeline/ColumnTransformer */\n",
       "  background-color: var(--sklearn-color-background);\n",
       "}\n",
       "\n",
       "/* Toggleable label */\n",
       "#sk-container-id-2 label.sk-toggleable__label {\n",
       "  cursor: pointer;\n",
       "  display: block;\n",
       "  width: 100%;\n",
       "  margin-bottom: 0;\n",
       "  padding: 0.5em;\n",
       "  box-sizing: border-box;\n",
       "  text-align: center;\n",
       "}\n",
       "\n",
       "#sk-container-id-2 label.sk-toggleable__label-arrow:before {\n",
       "  /* Arrow on the left of the label */\n",
       "  content: \"▸\";\n",
       "  float: left;\n",
       "  margin-right: 0.25em;\n",
       "  color: var(--sklearn-color-icon);\n",
       "}\n",
       "\n",
       "#sk-container-id-2 label.sk-toggleable__label-arrow:hover:before {\n",
       "  color: var(--sklearn-color-text);\n",
       "}\n",
       "\n",
       "/* Toggleable content - dropdown */\n",
       "\n",
       "#sk-container-id-2 div.sk-toggleable__content {\n",
       "  max-height: 0;\n",
       "  max-width: 0;\n",
       "  overflow: hidden;\n",
       "  text-align: left;\n",
       "  /* unfitted */\n",
       "  background-color: var(--sklearn-color-unfitted-level-0);\n",
       "}\n",
       "\n",
       "#sk-container-id-2 div.sk-toggleable__content.fitted {\n",
       "  /* fitted */\n",
       "  background-color: var(--sklearn-color-fitted-level-0);\n",
       "}\n",
       "\n",
       "#sk-container-id-2 div.sk-toggleable__content pre {\n",
       "  margin: 0.2em;\n",
       "  border-radius: 0.25em;\n",
       "  color: var(--sklearn-color-text);\n",
       "  /* unfitted */\n",
       "  background-color: var(--sklearn-color-unfitted-level-0);\n",
       "}\n",
       "\n",
       "#sk-container-id-2 div.sk-toggleable__content.fitted pre {\n",
       "  /* unfitted */\n",
       "  background-color: var(--sklearn-color-fitted-level-0);\n",
       "}\n",
       "\n",
       "#sk-container-id-2 input.sk-toggleable__control:checked~div.sk-toggleable__content {\n",
       "  /* Expand drop-down */\n",
       "  max-height: 200px;\n",
       "  max-width: 100%;\n",
       "  overflow: auto;\n",
       "}\n",
       "\n",
       "#sk-container-id-2 input.sk-toggleable__control:checked~label.sk-toggleable__label-arrow:before {\n",
       "  content: \"▾\";\n",
       "}\n",
       "\n",
       "/* Pipeline/ColumnTransformer-specific style */\n",
       "\n",
       "#sk-container-id-2 div.sk-label input.sk-toggleable__control:checked~label.sk-toggleable__label {\n",
       "  color: var(--sklearn-color-text);\n",
       "  background-color: var(--sklearn-color-unfitted-level-2);\n",
       "}\n",
       "\n",
       "#sk-container-id-2 div.sk-label.fitted input.sk-toggleable__control:checked~label.sk-toggleable__label {\n",
       "  background-color: var(--sklearn-color-fitted-level-2);\n",
       "}\n",
       "\n",
       "/* Estimator-specific style */\n",
       "\n",
       "/* Colorize estimator box */\n",
       "#sk-container-id-2 div.sk-estimator input.sk-toggleable__control:checked~label.sk-toggleable__label {\n",
       "  /* unfitted */\n",
       "  background-color: var(--sklearn-color-unfitted-level-2);\n",
       "}\n",
       "\n",
       "#sk-container-id-2 div.sk-estimator.fitted input.sk-toggleable__control:checked~label.sk-toggleable__label {\n",
       "  /* fitted */\n",
       "  background-color: var(--sklearn-color-fitted-level-2);\n",
       "}\n",
       "\n",
       "#sk-container-id-2 div.sk-label label.sk-toggleable__label,\n",
       "#sk-container-id-2 div.sk-label label {\n",
       "  /* The background is the default theme color */\n",
       "  color: var(--sklearn-color-text-on-default-background);\n",
       "}\n",
       "\n",
       "/* On hover, darken the color of the background */\n",
       "#sk-container-id-2 div.sk-label:hover label.sk-toggleable__label {\n",
       "  color: var(--sklearn-color-text);\n",
       "  background-color: var(--sklearn-color-unfitted-level-2);\n",
       "}\n",
       "\n",
       "/* Label box, darken color on hover, fitted */\n",
       "#sk-container-id-2 div.sk-label.fitted:hover label.sk-toggleable__label.fitted {\n",
       "  color: var(--sklearn-color-text);\n",
       "  background-color: var(--sklearn-color-fitted-level-2);\n",
       "}\n",
       "\n",
       "/* Estimator label */\n",
       "\n",
       "#sk-container-id-2 div.sk-label label {\n",
       "  font-family: monospace;\n",
       "  font-weight: bold;\n",
       "  display: inline-block;\n",
       "  line-height: 1.2em;\n",
       "}\n",
       "\n",
       "#sk-container-id-2 div.sk-label-container {\n",
       "  text-align: center;\n",
       "}\n",
       "\n",
       "/* Estimator-specific */\n",
       "#sk-container-id-2 div.sk-estimator {\n",
       "  font-family: monospace;\n",
       "  border: 1px dotted var(--sklearn-color-border-box);\n",
       "  border-radius: 0.25em;\n",
       "  box-sizing: border-box;\n",
       "  margin-bottom: 0.5em;\n",
       "  /* unfitted */\n",
       "  background-color: var(--sklearn-color-unfitted-level-0);\n",
       "}\n",
       "\n",
       "#sk-container-id-2 div.sk-estimator.fitted {\n",
       "  /* fitted */\n",
       "  background-color: var(--sklearn-color-fitted-level-0);\n",
       "}\n",
       "\n",
       "/* on hover */\n",
       "#sk-container-id-2 div.sk-estimator:hover {\n",
       "  /* unfitted */\n",
       "  background-color: var(--sklearn-color-unfitted-level-2);\n",
       "}\n",
       "\n",
       "#sk-container-id-2 div.sk-estimator.fitted:hover {\n",
       "  /* fitted */\n",
       "  background-color: var(--sklearn-color-fitted-level-2);\n",
       "}\n",
       "\n",
       "/* Specification for estimator info (e.g. \"i\" and \"?\") */\n",
       "\n",
       "/* Common style for \"i\" and \"?\" */\n",
       "\n",
       ".sk-estimator-doc-link,\n",
       "a:link.sk-estimator-doc-link,\n",
       "a:visited.sk-estimator-doc-link {\n",
       "  float: right;\n",
       "  font-size: smaller;\n",
       "  line-height: 1em;\n",
       "  font-family: monospace;\n",
       "  background-color: var(--sklearn-color-background);\n",
       "  border-radius: 1em;\n",
       "  height: 1em;\n",
       "  width: 1em;\n",
       "  text-decoration: none !important;\n",
       "  margin-left: 1ex;\n",
       "  /* unfitted */\n",
       "  border: var(--sklearn-color-unfitted-level-1) 1pt solid;\n",
       "  color: var(--sklearn-color-unfitted-level-1);\n",
       "}\n",
       "\n",
       ".sk-estimator-doc-link.fitted,\n",
       "a:link.sk-estimator-doc-link.fitted,\n",
       "a:visited.sk-estimator-doc-link.fitted {\n",
       "  /* fitted */\n",
       "  border: var(--sklearn-color-fitted-level-1) 1pt solid;\n",
       "  color: var(--sklearn-color-fitted-level-1);\n",
       "}\n",
       "\n",
       "/* On hover */\n",
       "div.sk-estimator:hover .sk-estimator-doc-link:hover,\n",
       ".sk-estimator-doc-link:hover,\n",
       "div.sk-label-container:hover .sk-estimator-doc-link:hover,\n",
       ".sk-estimator-doc-link:hover {\n",
       "  /* unfitted */\n",
       "  background-color: var(--sklearn-color-unfitted-level-3);\n",
       "  color: var(--sklearn-color-background);\n",
       "  text-decoration: none;\n",
       "}\n",
       "\n",
       "div.sk-estimator.fitted:hover .sk-estimator-doc-link.fitted:hover,\n",
       ".sk-estimator-doc-link.fitted:hover,\n",
       "div.sk-label-container:hover .sk-estimator-doc-link.fitted:hover,\n",
       ".sk-estimator-doc-link.fitted:hover {\n",
       "  /* fitted */\n",
       "  background-color: var(--sklearn-color-fitted-level-3);\n",
       "  color: var(--sklearn-color-background);\n",
       "  text-decoration: none;\n",
       "}\n",
       "\n",
       "/* Span, style for the box shown on hovering the info icon */\n",
       ".sk-estimator-doc-link span {\n",
       "  display: none;\n",
       "  z-index: 9999;\n",
       "  position: relative;\n",
       "  font-weight: normal;\n",
       "  right: .2ex;\n",
       "  padding: .5ex;\n",
       "  margin: .5ex;\n",
       "  width: min-content;\n",
       "  min-width: 20ex;\n",
       "  max-width: 50ex;\n",
       "  color: var(--sklearn-color-text);\n",
       "  box-shadow: 2pt 2pt 4pt #999;\n",
       "  /* unfitted */\n",
       "  background: var(--sklearn-color-unfitted-level-0);\n",
       "  border: .5pt solid var(--sklearn-color-unfitted-level-3);\n",
       "}\n",
       "\n",
       ".sk-estimator-doc-link.fitted span {\n",
       "  /* fitted */\n",
       "  background: var(--sklearn-color-fitted-level-0);\n",
       "  border: var(--sklearn-color-fitted-level-3);\n",
       "}\n",
       "\n",
       ".sk-estimator-doc-link:hover span {\n",
       "  display: block;\n",
       "}\n",
       "\n",
       "/* \"?\"-specific style due to the `<a>` HTML tag */\n",
       "\n",
       "#sk-container-id-2 a.estimator_doc_link {\n",
       "  float: right;\n",
       "  font-size: 1rem;\n",
       "  line-height: 1em;\n",
       "  font-family: monospace;\n",
       "  background-color: var(--sklearn-color-background);\n",
       "  border-radius: 1rem;\n",
       "  height: 1rem;\n",
       "  width: 1rem;\n",
       "  text-decoration: none;\n",
       "  /* unfitted */\n",
       "  color: var(--sklearn-color-unfitted-level-1);\n",
       "  border: var(--sklearn-color-unfitted-level-1) 1pt solid;\n",
       "}\n",
       "\n",
       "#sk-container-id-2 a.estimator_doc_link.fitted {\n",
       "  /* fitted */\n",
       "  border: var(--sklearn-color-fitted-level-1) 1pt solid;\n",
       "  color: var(--sklearn-color-fitted-level-1);\n",
       "}\n",
       "\n",
       "/* On hover */\n",
       "#sk-container-id-2 a.estimator_doc_link:hover {\n",
       "  /* unfitted */\n",
       "  background-color: var(--sklearn-color-unfitted-level-3);\n",
       "  color: var(--sklearn-color-background);\n",
       "  text-decoration: none;\n",
       "}\n",
       "\n",
       "#sk-container-id-2 a.estimator_doc_link.fitted:hover {\n",
       "  /* fitted */\n",
       "  background-color: var(--sklearn-color-fitted-level-3);\n",
       "}\n",
       "</style><div id=\"sk-container-id-2\" class=\"sk-top-container\"><div class=\"sk-text-repr-fallback\"><pre>BernoulliNB()</pre><b>In a Jupyter environment, please rerun this cell to show the HTML representation or trust the notebook. <br />On GitHub, the HTML representation is unable to render, please try loading this page with nbviewer.org.</b></div><div class=\"sk-container\" hidden><div class=\"sk-item\"><div class=\"sk-estimator fitted sk-toggleable\"><input class=\"sk-toggleable__control sk-hidden--visually\" id=\"sk-estimator-id-2\" type=\"checkbox\" checked><label for=\"sk-estimator-id-2\" class=\"sk-toggleable__label fitted sk-toggleable__label-arrow fitted\">&nbsp;&nbsp;BernoulliNB<a class=\"sk-estimator-doc-link fitted\" rel=\"noreferrer\" target=\"_blank\" href=\"https://scikit-learn.org/1.5/modules/generated/sklearn.naive_bayes.BernoulliNB.html\">?<span>Documentation for BernoulliNB</span></a><span class=\"sk-estimator-doc-link fitted\">i<span>Fitted</span></span></label><div class=\"sk-toggleable__content fitted\"><pre>BernoulliNB()</pre></div> </div></div></div></div>"
      ],
      "text/plain": [
       "BernoulliNB()"
      ]
     },
     "execution_count": 27,
     "metadata": {},
     "output_type": "execute_result"
    }
   ],
   "source": [
    "# Criar o modelo de BernoulliNB e ajusta-lo aos dados de treinamento\n",
    "modelo_bernoulli = BernoulliNB()\n",
    "modelo_bernoulli.fit(x_train, y_train)"
   ]
  },
  {
   "cell_type": "code",
   "execution_count": 28,
   "metadata": {},
   "outputs": [
    {
     "name": "stdout",
     "output_type": "stream",
     "text": [
      "[0 0 1 0 1 0 1 0 0 0 1 0 1 0 0 1 1 1 1 1 1 0 1 0 0 1 0 1 0 1 0 0 1 1 1 0 0\n",
      " 1 0 1 0 0 0 1 0 1 0 0 1 0 1 1 1 1 0 1 1 1 0 0 1 0 0 1 0 0 0 1 1 0 1 1 1 0\n",
      " 0 0 1 0 1 0 1 1 1 1 1 0 0 1]\n"
     ]
    }
   ],
   "source": [
    "# Fazer predições nos dados de teste\n",
    "y_pred = modelo_bernoulli.predict(x_test)\n",
    "print(y_pred)"
   ]
  },
  {
   "cell_type": "code",
   "execution_count": 29,
   "metadata": {},
   "outputs": [
    {
     "name": "stdout",
     "output_type": "stream",
     "text": [
      "Acurácia do modelo BernoulliNB: 0.9773\n",
      "\n",
      "Relatório de Classificação:\n",
      "              precision    recall  f1-score   support\n",
      "\n",
      "           0       0.95      1.00      0.98        41\n",
      "           1       1.00      0.96      0.98        47\n",
      "\n",
      "    accuracy                           0.98        88\n",
      "   macro avg       0.98      0.98      0.98        88\n",
      "weighted avg       0.98      0.98      0.98        88\n",
      "\n"
     ]
    }
   ],
   "source": [
    "# Avaliar o modelo\n",
    "from sklearn.metrics import accuracy_score, classification_report\n",
    "\n",
    "accuracy = accuracy_score(y_test, y_pred)\n",
    "print(f'Acurácia do modelo BernoulliNB: {accuracy:.4f}')\n",
    "\n",
    "print(\"\\nRelatório de Classificação:\") # e mostrar relatório de classificação\n",
    "print(classification_report(y_test, y_pred))"
   ]
  },
  {
   "cell_type": "markdown",
   "metadata": {
    "id": "Puj9rtDcX8OY"
   },
   "source": [
    "## Exercício - 003\n",
    "Crie uma matriz de confusão, realizando a predição no conjundo de teste gerado acima, e gere uma visualização de mapa de calor com a matriz gerada."
   ]
  },
  {
   "cell_type": "code",
   "execution_count": 30,
   "metadata": {},
   "outputs": [
    {
     "data": {
      "image/png": "[encoded data removed]",
      "text/plain": [
       "<Figure size 800x600 with 1 Axes>"
      ]
     },
     "metadata": {},
     "output_type": "display_data"
    }
   ],
   "source": [
    "# Gerando a matriz de confusão\n",
    "conf_matrix = confusion_matrix(y_test, y_pred)\n",
    "\n",
    "# Visualizando a matriz de confusão com um mapa de calor\n",
    "plt.figure(figsize=(8, 6))\n",
    "sns.heatmap(conf_matrix, annot=True, fmt='d', cmap='Blues', cbar=False)\n",
    "plt.title('Matriz de Confusão - BernoulliNB')\n",
    "plt.xlabel('Classe Predita')\n",
    "plt.ylabel('Classe Real')\n",
    "plt.show()"
   ]
  },
  {
   "cell_type": "markdown",
   "metadata": {
    "id": "Xwb3FmgzZL74"
   },
   "source": [
    "## Exercício - 004\n",
    "\n",
    "Crie uma curva ROC e calcule a área abaixo da curva utilizando o método [`roc_curve`](http://lijiancheng0614.github.io/scikit-learn/auto_examples/model_selection/plot_roc.html#example-model-selection-plot-roc-py)."
   ]
  },
  {
   "cell_type": "code",
   "execution_count": 31,
   "metadata": {},
   "outputs": [
    {
     "data": {
      "image/png": "[encoded data removed]",
      "text/plain": [
       "<Figure size 800x600 with 1 Axes>"
      ]
     },
     "metadata": {},
     "output_type": "display_data"
    },
    {
     "name": "stdout",
     "output_type": "stream",
     "text": [
      "AUC: 1.00\n",
      "Atenção: AUC=1 pode sugerir overfitting, i.e., modelo está ajustado de forma tão precisa aos dados de treino que pode não generalizar bem a novos dados\n"
     ]
    }
   ],
   "source": [
    "from sklearn.metrics import roc_curve, roc_auc_score\n",
    "\n",
    "# Calculando as probabilidades de predição para a classe positiva\n",
    "y_probs = modelo_bernoulli.predict_proba(x_test)[:, 1]\n",
    "\n",
    "# Gerando os valores da curva ROC\n",
    "fpr, tpr, thresholds = roc_curve(y_test, y_probs)\n",
    "\n",
    "# Calculando a área abaixo da curva (AUC)\n",
    "auc = roc_auc_score(y_test, y_probs)\n",
    "\n",
    "# Plotando a curva ROC\n",
    "plt.figure(figsize=(8, 6))\n",
    "plt.plot(fpr, tpr, color='blue', label=f'Curva ROC (AUC = {auc:.2f})')\n",
    "plt.plot([0, 1], [0, 1], color='red', linestyle='--')  # Linha diagonal\n",
    "plt.title('Curva ROC - BernoulliNB')\n",
    "plt.xlabel('Taxa de Falsos Positivos (FPR)')\n",
    "plt.ylabel('Taxa de Verdadeiros Positivos (TPR)')\n",
    "plt.legend()\n",
    "plt.show()\n",
    "\n",
    "# Exibindo o valor da AUC\n",
    "print(f'AUC: {auc:.2f}')\n",
    "print(\"Atenção: AUC=1 pode sugerir overfitting, i.e., modelo está ajustado de forma tão precisa aos dados de treino que pode não generalizar bem a novos dados\")"
   ]
  },
  {
   "cell_type": "markdown",
   "metadata": {
    "id": "PjXkj6QkadX-"
   },
   "source": [
    "## Exercício - 005\n",
    "Repita o ajuste do modelo acima, contando as palavras na coluna _title_ e utilizando a coluna _category_ (variável resposta) para ajustar o modelo `MultinomialNB` para o seguinte conjunto de dados\n",
    "\n",
    "https://raw.githubusercontent.com/amankharwal/Website-data/master/bbc-news-data.csv\n",
    "\n",
    "Descreva com suas palavras que informações esse modelo fornece."
   ]
  },
  {
   "cell_type": "code",
   "execution_count": 37,
   "metadata": {},
   "outputs": [
    {
     "name": "stdout",
     "output_type": "stream",
     "text": [
      "   category filename                              title  \\\n",
      "0  business  001.txt  Ad sales boost Time Warner profit   \n",
      "1  business  002.txt   Dollar gains on Greenspan speech   \n",
      "2  business  003.txt  Yukos unit buyer faces loan claim   \n",
      "3  business  004.txt  High fuel prices hit BA's profits   \n",
      "4  business  005.txt  Pernod takeover talk lifts Domecq   \n",
      "\n",
      "                                             content  \n",
      "0   Quarterly profits at US media giant TimeWarne...  \n",
      "1   The dollar has hit its highest level against ...  \n",
      "2   The owners of embattled Russian oil giant Yuk...  \n",
      "3   British Airways has blamed high fuel prices f...  \n",
      "4   Shares in UK drinks and food firm Allied Dome...  \n"
     ]
    }
   ],
   "source": [
    "# Carregar o conjunto de dados e conferir \n",
    "url = \"https://raw.githubusercontent.com/amankharwal/Website-data/master/bbc-news-data.csv\"\n",
    "df = pd.read_csv(url, sep='\\t') \n",
    "print(df.head())"
   ]
  },
  {
   "cell_type": "markdown",
   "metadata": {},
   "source": [
    "OBS.: Apesar de ser um arquivo em csv, a última coluna é de texto e isso causa problemas \n",
    "ao colocar diretamente vírgula como separador\n",
    "Por isso, vou ler como um arquivo .tsv para resolver isso."
   ]
  },
  {
   "cell_type": "code",
   "execution_count": 39,
   "metadata": {},
   "outputs": [],
   "source": [
    "# Pre-processamento antes de fazer o modelo \n",
    "## Transformar a coluna 'title' em matriz de contagem de palavras (i.e. Vetorização da coluna 'title')\n",
    "vectorizer = CountVectorizer()\n",
    "X = vectorizer.fit_transform(df['title'])  \n",
    "\n",
    "## Variável independente\n",
    "y = df['category']\n",
    "\n",
    "## Dividir os dados em treino e teste\n",
    "X_train, X_test, y_train, y_test = train_test_split(X, y, random_state=1234)"
   ]
  },
  {
   "cell_type": "code",
   "execution_count": 40,
   "metadata": {},
   "outputs": [],
   "source": [
    "# Ajustar o modelo MultinomialNB\n",
    "modelo = MultinomialNB()\n",
    "modelo.fit(X_train, y_train)\n",
    "\n",
    "# Realizar predições no conjunto de teste\n",
    "y_pred = modelo.predict(X_test)"
   ]
  },
  {
   "cell_type": "code",
   "execution_count": 41,
   "metadata": {},
   "outputs": [
    {
     "name": "stdout",
     "output_type": "stream",
     "text": [
      "Relatório de Classificação:\n",
      "               precision    recall  f1-score   support\n",
      "\n",
      "     business       0.86      0.78      0.82       146\n",
      "entertainment       0.82      0.75      0.78        96\n",
      "     politics       0.74      0.79      0.76        98\n",
      "        sport       0.77      0.86      0.81       116\n",
      "         tech       0.81      0.82      0.82       101\n",
      "\n",
      "     accuracy                           0.80       557\n",
      "    macro avg       0.80      0.80      0.80       557\n",
      " weighted avg       0.80      0.80      0.80       557\n",
      "\n"
     ]
    }
   ],
   "source": [
    "# Imprimir o relatório de classificação\n",
    "print(\"Relatório de Classificação:\")\n",
    "print(classification_report(y_test, y_pred))"
   ]
  },
  {
   "cell_type": "code",
   "execution_count": 43,
   "metadata": {},
   "outputs": [
    {
     "data": {
      "image/png": "[encoded data removed]",
      "text/plain": [
       "<Figure size 800x600 with 2 Axes>"
      ]
     },
     "metadata": {},
     "output_type": "display_data"
    }
   ],
   "source": [
    "# Gerar matriz de confusão\n",
    "cm = confusion_matrix(y_test, y_pred)\n",
    "\n",
    "# Visualizar a matriz de confusão como um mapa de calor\n",
    "plt.figure(figsize=(8,6))\n",
    "sns.heatmap(cm, annot=True, fmt='d', cmap='Blues', xticklabels=modelo.classes_, yticklabels=modelo.classes_)\n",
    "plt.title('Matriz de Confusão')\n",
    "plt.xlabel('Predito')\n",
    "plt.ylabel('Verdadeiro')\n",
    "plt.show()"
   ]
  },
  {
   "cell_type": "markdown",
   "metadata": {},
   "source": [
    "**Informações geradas pelo Modelo**\n",
    "- Relatório de Classificação: apresenta métricas importantes que avaliam como o modelo se comporta em termos de:\n",
    "- 1. Precisão: \"Quantos exemplos classificados como positivos realmente são positivos?\"\n",
    "  2. Recall: \"Quantos exemplos da classe positiva foram corretamente identificados pelo modelo?\"\n",
    "  3. F1-score: Combinação de precisão e recall\n",
    "- Matriz de Confusão: oferece uma visão detalhada das classificações corretas e incorretas. As células na diagonal representam os acertos, e as células fora da diagonal indicam os erros de classificação, mostrando como o modelo se confunde entre as diferentes categorias.\n",
    "- Modelo MultinomialNB: útil para dados de contagem como os vetores de palavras. Ele estima as probabilidades das classes com base na frequência das palavras em cada título, o que permite inferir a categoria do texto com base nos padrões de palavras encontradas em diferentes categorias de notícias. É ideal para lidar com texto onde a frequência de palavras é um indicador importante.\n",
    "Em suma, esse modelo ajuda a entender quais palavras ou padrões de palavras aparecem com maior frequência em cada categoria de notícia, permitindo ao modelo prever a categoria de uma notícia nova a partir de seu título."
   ]
  },
  {
   "cell_type": "markdown",
   "metadata": {
    "id": "G0HjyYuedSot"
   },
   "source": [
    "### Exercício - 006\n",
    "Crie um programa que recebe um título de uma reportagem de jornal (em inglês) e utiliza o modelo ajustado acima para predizer qual a categoria da reportagem."
   ]
  },
  {
   "cell_type": "code",
   "execution_count": 45,
   "metadata": {},
   "outputs": [],
   "source": [
    "# OBS.: Se o modelo realizado não estiver no mesmo script,  você pode salvá-lo e carregá-lo usando joblib)\n",
    "import joblib\n",
    "## após fazer o modelo como anteriormente demonstrado (vetorizar, ajustar, etc), salve o modelo e o vetorizer\n",
    "#joblib.dump(model, 'multinomial_nb_model.pkl')\n",
    "#joblib.dump(vectorizer, 'vectorizer.pkl')"
   ]
  },
  {
   "cell_type": "code",
   "execution_count": 53,
   "metadata": {},
   "outputs": [],
   "source": [
    "# Função para prever a categoria de uma nova reportagem\n",
    "def predict_category(title):\n",
    "    # Carregar o modelo e o vetorizer\n",
    "    ##model = joblib.load('multinomial_nb_model.pkl')\n",
    "    ##vectorizer = joblib.load('vectorizer.pkl') # se for usar um modelo de outro script, adicione essas linhas no código \n",
    "\n",
    "    # Transformar o título em uma matriz de contagem\n",
    "    title_vector = vectorizer.transform([title])\n",
    "\n",
    "    # Fazer a predição\n",
    "    predicted_category = modelo.predict(title_vector)\n",
    "\n",
    "    return predicted_category[0]"
   ]
  },
  {
   "cell_type": "code",
   "execution_count": 54,
   "metadata": {},
   "outputs": [
    {
     "name": "stdout",
     "output_type": "stream",
     "text": [
      "['business' 'entertainment' 'politics' 'sport' 'tech']\n"
     ]
    }
   ],
   "source": [
    "# Listar e imprimir as categorias únicas\n",
    "unique_categories = df['category'].unique() # preciso saber quais categorias existem para não fugir mt do tema\n",
    "print(unique_categories)"
   ]
  },
  {
   "cell_type": "code",
   "execution_count": 55,
   "metadata": {},
   "outputs": [
    {
     "name": "stdin",
     "output_type": "stream",
     "text": [
      "Digite o título da reportagem (em inglês):  Madonna and Lady Gaga announce a joint concert free of charge for all their queer fans.\n"
     ]
    },
    {
     "name": "stdout",
     "output_type": "stream",
     "text": [
      "A categoria prevista para a reportagem é: entertainment\n"
     ]
    }
   ],
   "source": [
    "new_title = input(\"Digite o título da reportagem (em inglês): \")\n",
    "predicted_category = predict_category(new_title)\n",
    "print(f'A categoria prevista para a reportagem é: {predicted_category}')"
   ]
  },
  {
   "cell_type": "markdown",
   "metadata": {
    "id": "KGNCtxqKwXVD"
   },
   "source": [
    "### Exercício - 007\n",
    "\n",
    "Crie uma função para calcular a distância euclideana:\n",
    "\n",
    "$d(p,q)=\\sqrt{(p_1-q_1)^2+(p_2-q_2)^2+...(p_n-q_n)^2}$\n",
    "\n",
    "Onde p e q representam dois objetos para os quais se quer calcular a distância e $p_1/q_1$ até $p_n/q_n$ as características (_features_) desses objetos.\n",
    "\n",
    "Compare o resultado da sua função com a biblioteca _scipy_. Use o conjunto de dados das _iris_ carregado abaixo.\n",
    "\n",
    "OBS.: distancia de p e q = raiz quadrada do somatório da diferença quadrada de cada característica de p e q"
   ]
  },
  {
   "cell_type": "code",
   "execution_count": 63,
   "metadata": {},
   "outputs": [],
   "source": [
    "import numpy as np\n",
    "from scipy.spatial.distance import euclidean\n",
    "from sklearn.datasets import load_iris"
   ]
  },
  {
   "cell_type": "code",
   "execution_count": 64,
   "metadata": {
    "colab": {
     "base_uri": "https://localhost:8080/"
    },
    "id": "W_yQGm0pD0vq",
    "outputId": "47e2477e-9256-48ed-c6d2-bc36cb170054"
   },
   "outputs": [
    {
     "data": {
      "text/plain": [
       "array([[5.1, 3.5, 1.4, 0.2],\n",
       "       [4.9, 3. , 1.4, 0.2],\n",
       "       [4.7, 3.2, 1.3, 0.2],\n",
       "       [4.6, 3.1, 1.5, 0.2],\n",
       "       [5. , 3.6, 1.4, 0.2],\n",
       "       [5.4, 3.9, 1.7, 0.4],\n",
       "       [4.6, 3.4, 1.4, 0.3],\n",
       "       [5. , 3.4, 1.5, 0.2],\n",
       "       [4.4, 2.9, 1.4, 0.2],\n",
       "       [4.9, 3.1, 1.5, 0.1],\n",
       "       [5.4, 3.7, 1.5, 0.2],\n",
       "       [4.8, 3.4, 1.6, 0.2],\n",
       "       [4.8, 3. , 1.4, 0.1],\n",
       "       [4.3, 3. , 1.1, 0.1],\n",
       "       [5.8, 4. , 1.2, 0.2],\n",
       "       [5.7, 4.4, 1.5, 0.4],\n",
       "       [5.4, 3.9, 1.3, 0.4],\n",
       "       [5.1, 3.5, 1.4, 0.3],\n",
       "       [5.7, 3.8, 1.7, 0.3],\n",
       "       [5.1, 3.8, 1.5, 0.3],\n",
       "       [5.4, 3.4, 1.7, 0.2],\n",
       "       [5.1, 3.7, 1.5, 0.4],\n",
       "       [4.6, 3.6, 1. , 0.2],\n",
       "       [5.1, 3.3, 1.7, 0.5],\n",
       "       [4.8, 3.4, 1.9, 0.2],\n",
       "       [5. , 3. , 1.6, 0.2],\n",
       "       [5. , 3.4, 1.6, 0.4],\n",
       "       [5.2, 3.5, 1.5, 0.2],\n",
       "       [5.2, 3.4, 1.4, 0.2],\n",
       "       [4.7, 3.2, 1.6, 0.2],\n",
       "       [4.8, 3.1, 1.6, 0.2],\n",
       "       [5.4, 3.4, 1.5, 0.4],\n",
       "       [5.2, 4.1, 1.5, 0.1],\n",
       "       [5.5, 4.2, 1.4, 0.2],\n",
       "       [4.9, 3.1, 1.5, 0.2],\n",
       "       [5. , 3.2, 1.2, 0.2],\n",
       "       [5.5, 3.5, 1.3, 0.2],\n",
       "       [4.9, 3.6, 1.4, 0.1],\n",
       "       [4.4, 3. , 1.3, 0.2],\n",
       "       [5.1, 3.4, 1.5, 0.2],\n",
       "       [5. , 3.5, 1.3, 0.3],\n",
       "       [4.5, 2.3, 1.3, 0.3],\n",
       "       [4.4, 3.2, 1.3, 0.2],\n",
       "       [5. , 3.5, 1.6, 0.6],\n",
       "       [5.1, 3.8, 1.9, 0.4],\n",
       "       [4.8, 3. , 1.4, 0.3],\n",
       "       [5.1, 3.8, 1.6, 0.2],\n",
       "       [4.6, 3.2, 1.4, 0.2],\n",
       "       [5.3, 3.7, 1.5, 0.2],\n",
       "       [5. , 3.3, 1.4, 0.2],\n",
       "       [7. , 3.2, 4.7, 1.4],\n",
       "       [6.4, 3.2, 4.5, 1.5],\n",
       "       [6.9, 3.1, 4.9, 1.5],\n",
       "       [5.5, 2.3, 4. , 1.3],\n",
       "       [6.5, 2.8, 4.6, 1.5],\n",
       "       [5.7, 2.8, 4.5, 1.3],\n",
       "       [6.3, 3.3, 4.7, 1.6],\n",
       "       [4.9, 2.4, 3.3, 1. ],\n",
       "       [6.6, 2.9, 4.6, 1.3],\n",
       "       [5.2, 2.7, 3.9, 1.4],\n",
       "       [5. , 2. , 3.5, 1. ],\n",
       "       [5.9, 3. , 4.2, 1.5],\n",
       "       [6. , 2.2, 4. , 1. ],\n",
       "       [6.1, 2.9, 4.7, 1.4],\n",
       "       [5.6, 2.9, 3.6, 1.3],\n",
       "       [6.7, 3.1, 4.4, 1.4],\n",
       "       [5.6, 3. , 4.5, 1.5],\n",
       "       [5.8, 2.7, 4.1, 1. ],\n",
       "       [6.2, 2.2, 4.5, 1.5],\n",
       "       [5.6, 2.5, 3.9, 1.1],\n",
       "       [5.9, 3.2, 4.8, 1.8],\n",
       "       [6.1, 2.8, 4. , 1.3],\n",
       "       [6.3, 2.5, 4.9, 1.5],\n",
       "       [6.1, 2.8, 4.7, 1.2],\n",
       "       [6.4, 2.9, 4.3, 1.3],\n",
       "       [6.6, 3. , 4.4, 1.4],\n",
       "       [6.8, 2.8, 4.8, 1.4],\n",
       "       [6.7, 3. , 5. , 1.7],\n",
       "       [6. , 2.9, 4.5, 1.5],\n",
       "       [5.7, 2.6, 3.5, 1. ],\n",
       "       [5.5, 2.4, 3.8, 1.1],\n",
       "       [5.5, 2.4, 3.7, 1. ],\n",
       "       [5.8, 2.7, 3.9, 1.2],\n",
       "       [6. , 2.7, 5.1, 1.6],\n",
       "       [5.4, 3. , 4.5, 1.5],\n",
       "       [6. , 3.4, 4.5, 1.6],\n",
       "       [6.7, 3.1, 4.7, 1.5],\n",
       "       [6.3, 2.3, 4.4, 1.3],\n",
       "       [5.6, 3. , 4.1, 1.3],\n",
       "       [5.5, 2.5, 4. , 1.3],\n",
       "       [5.5, 2.6, 4.4, 1.2],\n",
       "       [6.1, 3. , 4.6, 1.4],\n",
       "       [5.8, 2.6, 4. , 1.2],\n",
       "       [5. , 2.3, 3.3, 1. ],\n",
       "       [5.6, 2.7, 4.2, 1.3],\n",
       "       [5.7, 3. , 4.2, 1.2],\n",
       "       [5.7, 2.9, 4.2, 1.3],\n",
       "       [6.2, 2.9, 4.3, 1.3],\n",
       "       [5.1, 2.5, 3. , 1.1],\n",
       "       [5.7, 2.8, 4.1, 1.3],\n",
       "       [6.3, 3.3, 6. , 2.5],\n",
       "       [5.8, 2.7, 5.1, 1.9],\n",
       "       [7.1, 3. , 5.9, 2.1],\n",
       "       [6.3, 2.9, 5.6, 1.8],\n",
       "       [6.5, 3. , 5.8, 2.2],\n",
       "       [7.6, 3. , 6.6, 2.1],\n",
       "       [4.9, 2.5, 4.5, 1.7],\n",
       "       [7.3, 2.9, 6.3, 1.8],\n",
       "       [6.7, 2.5, 5.8, 1.8],\n",
       "       [7.2, 3.6, 6.1, 2.5],\n",
       "       [6.5, 3.2, 5.1, 2. ],\n",
       "       [6.4, 2.7, 5.3, 1.9],\n",
       "       [6.8, 3. , 5.5, 2.1],\n",
       "       [5.7, 2.5, 5. , 2. ],\n",
       "       [5.8, 2.8, 5.1, 2.4],\n",
       "       [6.4, 3.2, 5.3, 2.3],\n",
       "       [6.5, 3. , 5.5, 1.8],\n",
       "       [7.7, 3.8, 6.7, 2.2],\n",
       "       [7.7, 2.6, 6.9, 2.3],\n",
       "       [6. , 2.2, 5. , 1.5],\n",
       "       [6.9, 3.2, 5.7, 2.3],\n",
       "       [5.6, 2.8, 4.9, 2. ],\n",
       "       [7.7, 2.8, 6.7, 2. ],\n",
       "       [6.3, 2.7, 4.9, 1.8],\n",
       "       [6.7, 3.3, 5.7, 2.1],\n",
       "       [7.2, 3.2, 6. , 1.8],\n",
       "       [6.2, 2.8, 4.8, 1.8],\n",
       "       [6.1, 3. , 4.9, 1.8],\n",
       "       [6.4, 2.8, 5.6, 2.1],\n",
       "       [7.2, 3. , 5.8, 1.6],\n",
       "       [7.4, 2.8, 6.1, 1.9],\n",
       "       [7.9, 3.8, 6.4, 2. ],\n",
       "       [6.4, 2.8, 5.6, 2.2],\n",
       "       [6.3, 2.8, 5.1, 1.5],\n",
       "       [6.1, 2.6, 5.6, 1.4],\n",
       "       [7.7, 3. , 6.1, 2.3],\n",
       "       [6.3, 3.4, 5.6, 2.4],\n",
       "       [6.4, 3.1, 5.5, 1.8],\n",
       "       [6. , 3. , 4.8, 1.8],\n",
       "       [6.9, 3.1, 5.4, 2.1],\n",
       "       [6.7, 3.1, 5.6, 2.4],\n",
       "       [6.9, 3.1, 5.1, 2.3],\n",
       "       [5.8, 2.7, 5.1, 1.9],\n",
       "       [6.8, 3.2, 5.9, 2.3],\n",
       "       [6.7, 3.3, 5.7, 2.5],\n",
       "       [6.7, 3. , 5.2, 2.3],\n",
       "       [6.3, 2.5, 5. , 1.9],\n",
       "       [6.5, 3. , 5.2, 2. ],\n",
       "       [6.2, 3.4, 5.4, 2.3],\n",
       "       [5.9, 3. , 5.1, 1.8]])"
      ]
     },
     "execution_count": 64,
     "metadata": {},
     "output_type": "execute_result"
    }
   ],
   "source": [
    "iris = datasets.load_iris()\n",
    "data = iris.data\n",
    "data"
   ]
  },
  {
   "cell_type": "code",
   "execution_count": 65,
   "metadata": {
    "colab": {
     "base_uri": "https://localhost:8080/"
    },
    "id": "6hcEx1voD31q",
    "outputId": "78cb6555-b048-49c6-c936-3a9b3f36b2eb"
   },
   "outputs": [
    {
     "data": {
      "text/plain": [
       "array([0, 0, 0, 0, 0, 0, 0, 0, 0, 0, 0, 0, 0, 0, 0, 0, 0, 0, 0, 0, 0, 0,\n",
       "       0, 0, 0, 0, 0, 0, 0, 0, 0, 0, 0, 0, 0, 0, 0, 0, 0, 0, 0, 0, 0, 0,\n",
       "       0, 0, 0, 0, 0, 0, 1, 1, 1, 1, 1, 1, 1, 1, 1, 1, 1, 1, 1, 1, 1, 1,\n",
       "       1, 1, 1, 1, 1, 1, 1, 1, 1, 1, 1, 1, 1, 1, 1, 1, 1, 1, 1, 1, 1, 1,\n",
       "       1, 1, 1, 1, 1, 1, 1, 1, 1, 1, 1, 1, 2, 2, 2, 2, 2, 2, 2, 2, 2, 2,\n",
       "       2, 2, 2, 2, 2, 2, 2, 2, 2, 2, 2, 2, 2, 2, 2, 2, 2, 2, 2, 2, 2, 2,\n",
       "       2, 2, 2, 2, 2, 2, 2, 2, 2, 2, 2, 2, 2, 2, 2, 2, 2, 2])"
      ]
     },
     "execution_count": 65,
     "metadata": {},
     "output_type": "execute_result"
    }
   ],
   "source": [
    "iris.target"
   ]
  },
  {
   "cell_type": "code",
   "execution_count": 66,
   "metadata": {},
   "outputs": [],
   "source": [
    "# Função para calcular a distância euclidiana\n",
    "def euclidean_distance(p, q):\n",
    "    return np.sqrt(np.sum((p - q) ** 2))"
   ]
  },
  {
   "cell_type": "code",
   "execution_count": 67,
   "metadata": {},
   "outputs": [
    {
     "data": {
      "text/plain": [
       "(0.5385164807134502, 0.5385164807134502)"
      ]
     },
     "execution_count": 67,
     "metadata": {},
     "output_type": "execute_result"
    }
   ],
   "source": [
    "# Selecionando dois exemplos do conjunto de dados\n",
    "p = data[0]  # Primeira amostra\n",
    "q = data[1]  # Segunda amostra\n",
    "\n",
    "# Calculando a distância euclidiana usando a função definida\n",
    "dist_custom = euclidean_distance(p, q)\n",
    "\n",
    "# Calculando a distância euclidiana usando scipy\n",
    "dist_scipy = euclidean(p, q)\n",
    "\n",
    "dist_custom, dist_scipy  # Retorna as distâncias calculadas para comparação"
   ]
  },
  {
   "cell_type": "markdown",
   "metadata": {},
   "source": [
    "A função personalizada para calcular a distância euclidiana produziu o mesmo resultado que a função da biblioteca scipy. Ambas calcularam a distância entre as duas amostras selecionadas do conjunto de dados Iris como aproximadamente 0.5385. Isso confirma que a implementação da função está correta. ​​"
   ]
  },
  {
   "cell_type": "markdown",
   "metadata": {
    "id": "9ji_0viV0VIs"
   },
   "source": [
    "### Exercício - 008\n",
    "Divida o conjunto de dados em treinamento e teste. Crie uma nova função, para calcular a distância (use função descrita acima) entre uma amostra no conjunto de teste para todas as amostras no conjunto de treinamento, ordernar as distâncias e retornar as amostras de _k_ menores distâncias, com o seu rótulo (_label_ ou _target_), onde _k_ é um parâmetro ajustavel pelo usuário da sua função."
   ]
  },
  {
   "cell_type": "code",
   "execution_count": 72,
   "metadata": {},
   "outputs": [
    {
     "name": "stdout",
     "output_type": "stream",
     "text": [
      "[[5.1 3.5 1.4 0.2]\n",
      " [4.9 3.  1.4 0.2]\n",
      " [4.7 3.2 1.3 0.2]\n",
      " [4.6 3.1 1.5 0.2]\n",
      " [5.  3.6 1.4 0.2]\n",
      " [5.4 3.9 1.7 0.4]\n",
      " [4.6 3.4 1.4 0.3]\n",
      " [5.  3.4 1.5 0.2]\n",
      " [4.4 2.9 1.4 0.2]\n",
      " [4.9 3.1 1.5 0.1]\n",
      " [5.4 3.7 1.5 0.2]\n",
      " [4.8 3.4 1.6 0.2]\n",
      " [4.8 3.  1.4 0.1]\n",
      " [4.3 3.  1.1 0.1]\n",
      " [5.8 4.  1.2 0.2]\n",
      " [5.7 4.4 1.5 0.4]\n",
      " [5.4 3.9 1.3 0.4]\n",
      " [5.1 3.5 1.4 0.3]\n",
      " [5.7 3.8 1.7 0.3]\n",
      " [5.1 3.8 1.5 0.3]\n",
      " [5.4 3.4 1.7 0.2]\n",
      " [5.1 3.7 1.5 0.4]\n",
      " [4.6 3.6 1.  0.2]\n",
      " [5.1 3.3 1.7 0.5]\n",
      " [4.8 3.4 1.9 0.2]\n",
      " [5.  3.  1.6 0.2]\n",
      " [5.  3.4 1.6 0.4]\n",
      " [5.2 3.5 1.5 0.2]\n",
      " [5.2 3.4 1.4 0.2]\n",
      " [4.7 3.2 1.6 0.2]\n",
      " [4.8 3.1 1.6 0.2]\n",
      " [5.4 3.4 1.5 0.4]\n",
      " [5.2 4.1 1.5 0.1]\n",
      " [5.5 4.2 1.4 0.2]\n",
      " [4.9 3.1 1.5 0.2]\n",
      " [5.  3.2 1.2 0.2]\n",
      " [5.5 3.5 1.3 0.2]\n",
      " [4.9 3.6 1.4 0.1]\n",
      " [4.4 3.  1.3 0.2]\n",
      " [5.1 3.4 1.5 0.2]\n",
      " [5.  3.5 1.3 0.3]\n",
      " [4.5 2.3 1.3 0.3]\n",
      " [4.4 3.2 1.3 0.2]\n",
      " [5.  3.5 1.6 0.6]\n",
      " [5.1 3.8 1.9 0.4]\n",
      " [4.8 3.  1.4 0.3]\n",
      " [5.1 3.8 1.6 0.2]\n",
      " [4.6 3.2 1.4 0.2]\n",
      " [5.3 3.7 1.5 0.2]\n",
      " [5.  3.3 1.4 0.2]\n",
      " [7.  3.2 4.7 1.4]\n",
      " [6.4 3.2 4.5 1.5]\n",
      " [6.9 3.1 4.9 1.5]\n",
      " [5.5 2.3 4.  1.3]\n",
      " [6.5 2.8 4.6 1.5]\n",
      " [5.7 2.8 4.5 1.3]\n",
      " [6.3 3.3 4.7 1.6]\n",
      " [4.9 2.4 3.3 1. ]\n",
      " [6.6 2.9 4.6 1.3]\n",
      " [5.2 2.7 3.9 1.4]\n",
      " [5.  2.  3.5 1. ]\n",
      " [5.9 3.  4.2 1.5]\n",
      " [6.  2.2 4.  1. ]\n",
      " [6.1 2.9 4.7 1.4]\n",
      " [5.6 2.9 3.6 1.3]\n",
      " [6.7 3.1 4.4 1.4]\n",
      " [5.6 3.  4.5 1.5]\n",
      " [5.8 2.7 4.1 1. ]\n",
      " [6.2 2.2 4.5 1.5]\n",
      " [5.6 2.5 3.9 1.1]\n",
      " [5.9 3.2 4.8 1.8]\n",
      " [6.1 2.8 4.  1.3]\n",
      " [6.3 2.5 4.9 1.5]\n",
      " [6.1 2.8 4.7 1.2]\n",
      " [6.4 2.9 4.3 1.3]\n",
      " [6.6 3.  4.4 1.4]\n",
      " [6.8 2.8 4.8 1.4]\n",
      " [6.7 3.  5.  1.7]\n",
      " [6.  2.9 4.5 1.5]\n",
      " [5.7 2.6 3.5 1. ]\n",
      " [5.5 2.4 3.8 1.1]\n",
      " [5.5 2.4 3.7 1. ]\n",
      " [5.8 2.7 3.9 1.2]\n",
      " [6.  2.7 5.1 1.6]\n",
      " [5.4 3.  4.5 1.5]\n",
      " [6.  3.4 4.5 1.6]\n",
      " [6.7 3.1 4.7 1.5]\n",
      " [6.3 2.3 4.4 1.3]\n",
      " [5.6 3.  4.1 1.3]\n",
      " [5.5 2.5 4.  1.3]\n",
      " [5.5 2.6 4.4 1.2]\n",
      " [6.1 3.  4.6 1.4]\n",
      " [5.8 2.6 4.  1.2]\n",
      " [5.  2.3 3.3 1. ]\n",
      " [5.6 2.7 4.2 1.3]\n",
      " [5.7 3.  4.2 1.2]\n",
      " [5.7 2.9 4.2 1.3]\n",
      " [6.2 2.9 4.3 1.3]\n",
      " [5.1 2.5 3.  1.1]\n",
      " [5.7 2.8 4.1 1.3]\n",
      " [6.3 3.3 6.  2.5]\n",
      " [5.8 2.7 5.1 1.9]\n",
      " [7.1 3.  5.9 2.1]\n",
      " [6.3 2.9 5.6 1.8]\n",
      " [6.5 3.  5.8 2.2]\n",
      " [7.6 3.  6.6 2.1]\n",
      " [4.9 2.5 4.5 1.7]\n",
      " [7.3 2.9 6.3 1.8]\n",
      " [6.7 2.5 5.8 1.8]\n",
      " [7.2 3.6 6.1 2.5]\n",
      " [6.5 3.2 5.1 2. ]\n",
      " [6.4 2.7 5.3 1.9]\n",
      " [6.8 3.  5.5 2.1]\n",
      " [5.7 2.5 5.  2. ]\n",
      " [5.8 2.8 5.1 2.4]\n",
      " [6.4 3.2 5.3 2.3]\n",
      " [6.5 3.  5.5 1.8]\n",
      " [7.7 3.8 6.7 2.2]\n",
      " [7.7 2.6 6.9 2.3]\n",
      " [6.  2.2 5.  1.5]\n",
      " [6.9 3.2 5.7 2.3]\n",
      " [5.6 2.8 4.9 2. ]\n",
      " [7.7 2.8 6.7 2. ]\n",
      " [6.3 2.7 4.9 1.8]\n",
      " [6.7 3.3 5.7 2.1]\n",
      " [7.2 3.2 6.  1.8]\n",
      " [6.2 2.8 4.8 1.8]\n",
      " [6.1 3.  4.9 1.8]\n",
      " [6.4 2.8 5.6 2.1]\n",
      " [7.2 3.  5.8 1.6]\n",
      " [7.4 2.8 6.1 1.9]\n",
      " [7.9 3.8 6.4 2. ]\n",
      " [6.4 2.8 5.6 2.2]\n",
      " [6.3 2.8 5.1 1.5]\n",
      " [6.1 2.6 5.6 1.4]\n",
      " [7.7 3.  6.1 2.3]\n",
      " [6.3 3.4 5.6 2.4]\n",
      " [6.4 3.1 5.5 1.8]\n",
      " [6.  3.  4.8 1.8]\n",
      " [6.9 3.1 5.4 2.1]\n",
      " [6.7 3.1 5.6 2.4]\n",
      " [6.9 3.1 5.1 2.3]\n",
      " [5.8 2.7 5.1 1.9]\n",
      " [6.8 3.2 5.9 2.3]\n",
      " [6.7 3.3 5.7 2.5]\n",
      " [6.7 3.  5.2 2.3]\n",
      " [6.3 2.5 5.  1.9]\n",
      " [6.5 3.  5.2 2. ]\n",
      " [6.2 3.4 5.4 2.3]\n",
      " [5.9 3.  5.1 1.8]]\n",
      "[0 0 0 0 0 0 0 0 0 0 0 0 0 0 0 0 0 0 0 0 0 0 0 0 0 0 0 0 0 0 0 0 0 0 0 0 0\n",
      " 0 0 0 0 0 0 0 0 0 0 0 0 0 1 1 1 1 1 1 1 1 1 1 1 1 1 1 1 1 1 1 1 1 1 1 1 1\n",
      " 1 1 1 1 1 1 1 1 1 1 1 1 1 1 1 1 1 1 1 1 1 1 1 1 1 1 2 2 2 2 2 2 2 2 2 2 2\n",
      " 2 2 2 2 2 2 2 2 2 2 2 2 2 2 2 2 2 2 2 2 2 2 2 2 2 2 2 2 2 2 2 2 2 2 2 2 2\n",
      " 2 2]\n"
     ]
    }
   ],
   "source": [
    "X = iris.data  # features\n",
    "y = iris.target  # rótulos\n",
    "print(X)\n",
    "print(y)"
   ]
  },
  {
   "cell_type": "code",
   "execution_count": 73,
   "metadata": {},
   "outputs": [],
   "source": [
    "# Dividindo o conjunto de dados em treinamento e teste\n",
    "X_train, X_test, y_train, y_test = train_test_split(X, y, random_state=1234)"
   ]
  },
  {
   "cell_type": "code",
   "execution_count": 74,
   "metadata": {},
   "outputs": [],
   "source": [
    "# Função para calcular a distância e retornar as k amostras mais próximas\n",
    "def k_nearest_neighbors(test_sample, X_train, y_train, k=3):\n",
    "    distances = []\n",
    "    # Calculando a distância da amostra de teste para cada amostra de treinamento\n",
    "    for i, train_sample in enumerate(X_train):\n",
    "        dist = euclidean_distance(test_sample, train_sample)\n",
    "        distances.append((dist, y_train[i]))  # Guardar a distância e o rótulo correspondente\n",
    "\n",
    "    # Ordenando as distâncias em ordem crescente\n",
    "    distances.sort(key=lambda x: x[0])\n",
    "    \n",
    "    # Retornando as k menores distâncias com os rótulos correspondentes\n",
    "    return distances[:k]"
   ]
  },
  {
   "cell_type": "code",
   "execution_count": 75,
   "metadata": {},
   "outputs": [
    {
     "data": {
      "text/plain": [
       "[(0.19999999999999973, 1),\n",
       " (0.34641016151377546, 1),\n",
       " (0.4242640687119287, 1),\n",
       " (0.45825756949558416, 2),\n",
       " (0.4690415759823425, 1)]"
      ]
     },
     "execution_count": 75,
     "metadata": {},
     "output_type": "execute_result"
    }
   ],
   "source": [
    "# Testando a função para a primeira amostra de teste\n",
    "test_sample = X_test[0]\n",
    "k_nearest_neighbors(test_sample, X_train, y_train, k=5)"
   ]
  },
  {
   "cell_type": "markdown",
   "metadata": {
    "id": "TgkS8Jx16kRP"
   },
   "source": [
    "### Exercício - 009\n",
    "Crie uma função, que a partir dos vizinhos mais próximos de uma amostra, atribuí a classe da amostra, como a classe mais frequente entre os vizinhos. Utilize as funções criadas acima."
   ]
  },
  {
   "cell_type": "code",
   "execution_count": 76,
   "metadata": {},
   "outputs": [],
   "source": [
    "import numpy as np\n",
    "from scipy.stats import mode"
   ]
  },
  {
   "cell_type": "code",
   "execution_count": 91,
   "metadata": {},
   "outputs": [],
   "source": [
    "# Definir função  que atribui a classe de uma amostra com base na classe mais frequente entre os vizinhos mais próximos\n",
    "def assign_class(test_sample, X_train, y_train, k=3):\n",
    "    # Obter os k vizinhos mais próximos\n",
    "    neighbors = k_nearest_neighbors(test_sample, X_train, y_train, k=k)\n",
    "\n",
    "    # Exibir as distâncias e os rótulos dos vizinhos\n",
    "    print(\"Vizinhos mais próximos:\")\n",
    "    for dist, label in neighbors:\n",
    "        print(f\"Distância: {dist:.4f}, Rótulo: {label}\") # para conferir se o output faz sentido\n",
    "\n",
    "    # Extrair os rótulos dos vizinhos\n",
    "    neighbor_labels = [label for _, label in neighbors]\n",
    "    \n",
    "    # Encontrar a classe mais frequente entre os vizinhos\n",
    "    most_common_label = mode(neighbor_labels).mode\n",
    "    \n",
    "    return most_common_label"
   ]
  },
  {
   "cell_type": "code",
   "execution_count": 92,
   "metadata": {},
   "outputs": [
    {
     "name": "stdout",
     "output_type": "stream",
     "text": [
      "Vizinhos mais próximos:\n",
      "Distância: 0.2000, Rótulo: 1\n",
      "Distância: 0.3464, Rótulo: 1\n",
      "Distância: 0.4243, Rótulo: 1\n",
      "Distância: 0.4583, Rótulo: 2\n",
      "Distância: 0.4690, Rótulo: 1\n",
      "A classe atribuída à amostra de teste é: 1\n"
     ]
    }
   ],
   "source": [
    "# Testando a função para a primeira amostra de teste\n",
    "test_sample = X_test[0]\n",
    "predicted_class = assign_class(test_sample, X_train, y_train, k=5)\n",
    "print(f\"A classe atribuída à amostra de teste é: {predicted_class}\")"
   ]
  },
  {
   "cell_type": "markdown",
   "metadata": {
    "id": "j--po3eU8YAz"
   },
   "source": [
    "### Exercício - 010\n",
    "Obtenha a acurácia do seu modelo, e compare com a implementação do _sklearn_."
   ]
  },
  {
   "cell_type": "code",
   "execution_count": 93,
   "metadata": {},
   "outputs": [
    {
     "name": "stdout",
     "output_type": "stream",
     "text": [
      "Vizinhos mais próximos:\n",
      "Distância: 0.2000, Rótulo: 1\n",
      "Distância: 0.3464, Rótulo: 1\n",
      "Distância: 0.4243, Rótulo: 1\n",
      "Vizinhos mais próximos:\n",
      "Distância: 0.2449, Rótulo: 1\n",
      "Distância: 0.4243, Rótulo: 1\n",
      "Distância: 0.4359, Rótulo: 2\n",
      "Vizinhos mais próximos:\n",
      "Distância: 0.2449, Rótulo: 2\n",
      "Distância: 0.2449, Rótulo: 2\n",
      "Distância: 0.3317, Rótulo: 2\n",
      "Vizinhos mais próximos:\n",
      "Distância: 0.2236, Rótulo: 0\n",
      "Distância: 0.2646, Rótulo: 0\n",
      "Distância: 0.3317, Rótulo: 0\n",
      "Vizinhos mais próximos:\n",
      "Distância: 0.3873, Rótulo: 1\n",
      "Distância: 0.5196, Rótulo: 1\n",
      "Distância: 0.5292, Rótulo: 1\n",
      "Vizinhos mais próximos:\n",
      "Distância: 0.1414, Rótulo: 0\n",
      "Distância: 0.1732, Rótulo: 0\n",
      "Distância: 0.2236, Rótulo: 0\n",
      "Vizinhos mais próximos:\n",
      "Distância: 0.1414, Rótulo: 0\n",
      "Distância: 0.1414, Rótulo: 0\n",
      "Distância: 0.1414, Rótulo: 0\n",
      "Vizinhos mais próximos:\n",
      "Distância: 0.2236, Rótulo: 0\n",
      "Distância: 0.3000, Rótulo: 0\n",
      "Distância: 0.3162, Rótulo: 0\n",
      "Vizinhos mais próximos:\n",
      "Distância: 0.1414, Rótulo: 1\n",
      "Distância: 0.2236, Rótulo: 1\n",
      "Distância: 0.2449, Rótulo: 1\n",
      "Vizinhos mais próximos:\n",
      "Distância: 0.2646, Rótulo: 2\n",
      "Distância: 0.4123, Rótulo: 2\n",
      "Distância: 0.6083, Rótulo: 2\n",
      "Vizinhos mais próximos:\n",
      "Distância: 0.2828, Rótulo: 1\n",
      "Distância: 0.3000, Rótulo: 1\n",
      "Distância: 0.3464, Rótulo: 1\n",
      "Vizinhos mais próximos:\n",
      "Distância: 0.2000, Rótulo: 0\n",
      "Distância: 0.2236, Rótulo: 0\n",
      "Distância: 0.3000, Rótulo: 0\n",
      "Vizinhos mais próximos:\n",
      "Distância: 0.4123, Rótulo: 2\n",
      "Distância: 0.8185, Rótulo: 2\n",
      "Distância: 1.0050, Rótulo: 2\n",
      "Vizinhos mais próximos:\n",
      "Distância: 0.3000, Rótulo: 1\n",
      "Distância: 0.3317, Rótulo: 1\n",
      "Distância: 0.3606, Rótulo: 1\n",
      "Vizinhos mais próximos:\n",
      "Distância: 0.2236, Rótulo: 0\n",
      "Distância: 0.2646, Rótulo: 0\n",
      "Distância: 0.3162, Rótulo: 0\n",
      "Vizinhos mais próximos:\n",
      "Distância: 0.3464, Rótulo: 1\n",
      "Distância: 0.4243, Rótulo: 1\n",
      "Distância: 0.4359, Rótulo: 1\n",
      "Vizinhos mais próximos:\n",
      "Distância: 0.4243, Rótulo: 2\n",
      "Distância: 0.5000, Rótulo: 2\n",
      "Distância: 0.5099, Rótulo: 2\n",
      "Vizinhos mais próximos:\n",
      "Distância: 0.1732, Rótulo: 0\n",
      "Distância: 0.2000, Rótulo: 0\n",
      "Distância: 0.2236, Rótulo: 0\n",
      "Vizinhos mais próximos:\n",
      "Distância: 0.5568, Rótulo: 2\n",
      "Distância: 0.6164, Rótulo: 2\n",
      "Distância: 0.6164, Rótulo: 2\n",
      "Vizinhos mais próximos:\n",
      "Distância: 0.2236, Rótulo: 1\n",
      "Distância: 0.2646, Rótulo: 1\n",
      "Distância: 0.3000, Rótulo: 1\n",
      "Vizinhos mais próximos:\n",
      "Distância: 0.2000, Rótulo: 1\n",
      "Distância: 0.2646, Rótulo: 1\n",
      "Distância: 0.3606, Rótulo: 1\n",
      "Vizinhos mais próximos:\n",
      "Distância: 0.2449, Rótulo: 1\n",
      "Distância: 0.3162, Rótulo: 1\n",
      "Distância: 0.3742, Rótulo: 1\n",
      "Vizinhos mais próximos:\n",
      "Distância: 0.2646, Rótulo: 1\n",
      "Distância: 0.3162, Rótulo: 1\n",
      "Distância: 0.3464, Rótulo: 1\n",
      "Vizinhos mais próximos:\n",
      "Distância: 0.3873, Rótulo: 1\n",
      "Distância: 0.4359, Rótulo: 1\n",
      "Distância: 0.4583, Rótulo: 1\n",
      "Vizinhos mais próximos:\n",
      "Distância: 0.6325, Rótulo: 2\n",
      "Distância: 0.6708, Rótulo: 2\n",
      "Distância: 0.7071, Rótulo: 2\n",
      "Vizinhos mais próximos:\n",
      "Distância: 0.1000, Rótulo: 0\n",
      "Distância: 0.2449, Rótulo: 0\n",
      "Distância: 0.2449, Rótulo: 0\n",
      "Vizinhos mais próximos:\n",
      "Distância: 0.2449, Rótulo: 2\n",
      "Distância: 0.3606, Rótulo: 2\n",
      "Distância: 0.3606, Rótulo: 1\n",
      "Vizinhos mais próximos:\n",
      "Distância: 0.2449, Rótulo: 1\n",
      "Distância: 0.2646, Rótulo: 1\n",
      "Distância: 0.3317, Rótulo: 1\n",
      "Vizinhos mais próximos:\n",
      "Distância: 0.3873, Rótulo: 2\n",
      "Distância: 0.4000, Rótulo: 2\n",
      "Distância: 0.4123, Rótulo: 2\n",
      "Vizinhos mais próximos:\n",
      "Distância: 0.2236, Rótulo: 0\n",
      "Distância: 0.2828, Rótulo: 0\n",
      "Distância: 0.3000, Rótulo: 0\n",
      "Vizinhos mais próximos:\n",
      "Distância: 0.3873, Rótulo: 1\n",
      "Distância: 0.3873, Rótulo: 1\n",
      "Distância: 0.7211, Rótulo: 1\n",
      "Vizinhos mais próximos:\n",
      "Distância: 0.2449, Rótulo: 2\n",
      "Distância: 0.2828, Rótulo: 2\n",
      "Distância: 0.3873, Rótulo: 2\n",
      "Vizinhos mais próximos:\n",
      "Distância: 0.1414, Rótulo: 0\n",
      "Distância: 0.1732, Rótulo: 0\n",
      "Distância: 0.1732, Rótulo: 0\n",
      "Vizinhos mais próximos:\n",
      "Distância: 0.3317, Rótulo: 1\n",
      "Distância: 0.3606, Rótulo: 1\n",
      "Distância: 0.4583, Rótulo: 2\n",
      "Vizinhos mais próximos:\n",
      "Distância: 0.3162, Rótulo: 1\n",
      "Distância: 0.3742, Rótulo: 1\n",
      "Distância: 0.4123, Rótulo: 2\n",
      "Vizinhos mais próximos:\n",
      "Distância: 0.4123, Rótulo: 0\n",
      "Distância: 0.4243, Rótulo: 0\n",
      "Distância: 0.4472, Rótulo: 0\n",
      "Vizinhos mais próximos:\n",
      "Distância: 0.1414, Rótulo: 0\n",
      "Distância: 0.3000, Rótulo: 0\n",
      "Distância: 0.3464, Rótulo: 0\n",
      "Vizinhos mais próximos:\n",
      "Distância: 0.2828, Rótulo: 0\n",
      "Distância: 0.3606, Rótulo: 0\n",
      "Distância: 0.3606, Rótulo: 0\n",
      "Acurácia do modelo implementado: 0.9737\n"
     ]
    }
   ],
   "source": [
    "# Para o modelo implementado\n",
    "## Definir função \n",
    "def calculate_accuracy(X_test, y_test, X_train, y_train, k=3):\n",
    "    correct_predictions = 0\n",
    "    \n",
    "    # Para cada amostra de teste\n",
    "    for i, test_sample in enumerate(X_test):\n",
    "        predicted_class = assign_class(test_sample, X_train, y_train, k)\n",
    "        if predicted_class == y_test[i]:\n",
    "            correct_predictions += 1\n",
    "    \n",
    "    # Calculando a acurácia\n",
    "    accuracy = correct_predictions / len(y_test)\n",
    "    return accuracy\n",
    "## Calcular acurácia\n",
    "accuracy_model = calculate_accuracy(X_test, y_test, X_train, y_train, k=3)\n",
    "print(f\"Acurácia do modelo implementado: {accuracy_model:.4f}\")"
   ]
  },
  {
   "cell_type": "code",
   "execution_count": 94,
   "metadata": {},
   "outputs": [
    {
     "name": "stdout",
     "output_type": "stream",
     "text": [
      "Acurácia do modelo sklearn: 0.9737\n"
     ]
    }
   ],
   "source": [
    "# Para o modelo com sklearn\n",
    "from sklearn.neighbors import KNeighborsClassifier\n",
    "from sklearn.metrics import accuracy_score\n",
    "\n",
    "## Criando e treinando o classificador k-NN do sklearn\n",
    "knn = KNeighborsClassifier(n_neighbors=3)\n",
    "knn.fit(X_train, y_train)\n",
    "\n",
    "## Prevendo as classes para as amostras de teste\n",
    "y_pred = knn.predict(X_test)\n",
    "\n",
    "## Calculando a acurácia usando o sklearn\n",
    "accuracy_sklearn = accuracy_score(y_test, y_pred)\n",
    "print(f\"Acurácia do modelo sklearn: {accuracy_sklearn:.4f}\")"
   ]
  },
  {
   "cell_type": "markdown",
   "metadata": {
    "id": "VN4G71ht9yUn"
   },
   "source": [
    "### Exercício - 011\n",
    "Crie uma função que recebe um conjunto de treinamento (com duas dimensões, duas características), um ponto para teste (com duas dimensões, duas características), utiliza o programa criado acima para atribuir a classe e produz um gráfico em 2 dimensões com o novo ponto classificado."
   ]
  },
  {
   "cell_type": "code",
   "execution_count": 96,
   "metadata": {},
   "outputs": [],
   "source": [
    "import matplotlib.pyplot as plt\n",
    "\n",
    "# Função para plotar os pontos e classificar um novo ponto de teste\n",
    "def plot_classification_2D(X_train, y_train, test_point, k=3):\n",
    "    # Classificar o novo ponto de teste\n",
    "    classified_label = assign_class(test_point, X_train, y_train, k)\n",
    "    \n",
    "    # Mapear as classes para cores\n",
    "    colors = ['r', 'g', 'b']  # Definindo cores para cada classe\n",
    "    class_names = ['Classe 0', 'Classe 1', 'Classe 2']\n",
    "\n",
    "    # Criando o gráfico\n",
    "    plt.figure(figsize=(8, 6))\n",
    "    \n",
    "    # Plotar os pontos de treinamento\n",
    "    for class_value in set(y_train):\n",
    "        plt.scatter(X_train[y_train == class_value, 0], \n",
    "                    X_train[y_train == class_value, 1], \n",
    "                    c=colors[class_value], label=class_names[class_value])\n",
    "    \n",
    "    # Plotar o novo ponto classificado\n",
    "    plt.scatter(test_point[0], test_point[1], c='k', marker='x', s=200, label=f'Novo Ponto (Classe {classified_label})')\n",
    "    \n",
    "    # Adicionar legendas e título\n",
    "    plt.legend()\n",
    "    plt.title(f'Classificação do Ponto Novo com k={k}')\n",
    "    plt.xlabel('Característica 1')\n",
    "    plt.ylabel('Característica 2')\n",
    "    \n",
    "    # Mostrar o gráfico\n",
    "    plt.show()"
   ]
  },
  {
   "cell_type": "code",
   "execution_count": 97,
   "metadata": {},
   "outputs": [
    {
     "name": "stdout",
     "output_type": "stream",
     "text": [
      "Vizinhos mais próximos:\n",
      "Distância: 0.0000, Rótulo: 2\n",
      "Distância: 0.1000, Rótulo: 2\n",
      "Distância: 0.1414, Rótulo: 1\n",
      "Distância: 0.1414, Rótulo: 1\n",
      "Distância: 0.2000, Rótulo: 2\n"
     ]
    },
    {
     "data": {
      "image/png": "[encoded data removed]",
      "text/plain": [
       "<Figure size 800x600 with 1 Axes>"
      ]
     },
     "metadata": {},
     "output_type": "display_data"
    }
   ],
   "source": [
    "# Testar a função com as primeiras 2 características do conjunto iris (X_train com duas dimensões)\n",
    "X_train_2D = X_train[:, :2]  # Pegando apenas as duas primeiras características\n",
    "test_point = X_test[0, :2]   # Pegando o primeiro ponto de teste com duas características\n",
    "\n",
    "# Chamar a função para plotar e classificar\n",
    "plot_classification_2D(X_train_2D, y_train, test_point, k=5)"
   ]
  }
 ],
 "metadata": {
  "colab": {
   "provenance": []
  },
  "kernelspec": {
   "display_name": "Python 3 (ipykernel)",
   "language": "python",
   "name": "python3"
  },
  "language_info": {
   "codemirror_mode": {
    "name": "ipython",
    "version": 3
   },
   "file_extension": ".py",
   "mimetype": "text/x-python",
   "name": "python",
   "nbconvert_exporter": "python",
   "pygments_lexer": "ipython3",
   "version": "3.10.11"
  }
 },
 "nbformat": 4,
 "nbformat_minor": 4
}
