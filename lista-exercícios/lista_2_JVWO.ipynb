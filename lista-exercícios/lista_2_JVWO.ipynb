{
 "cells": [
  {
   "cell_type": "code",
   "execution_count": 2,
   "metadata": {},
   "outputs": [
    {
     "data": {
      "text/plain": [
       "'2.1.1'"
      ]
     },
     "execution_count": 2,
     "metadata": {},
     "output_type": "execute_result"
    }
   ],
   "source": [
    "import numpy as np\n",
    "np.__version__\n",
    "\n",
    "!pip install --upgrade numpy # it was on v1.25 so I had to update it\n",
    "\n",
    "# Import the upgraded version of NumPy and print the version again - do this after restarting the kernel\n",
    "import numpy as np\n",
    "print(np.__version__)"
   ]
  },
  {
   "cell_type": "code",
   "execution_count": 5,
   "metadata": {},
   "outputs": [
    {
     "name": "stdout",
     "output_type": "stream",
     "text": [
      "Collecting pandas\n",
      "  Downloading pandas-2.2.2-cp310-cp310-manylinux_2_17_x86_64.manylinux2014_x86_64.whl (13.0 MB)\n",
      "\u001b[2K     \u001b[38;2;114;156;31m━━━━━━━━━━━━━━━━━━━━━━━━━━━━━━━━━━━━━━━━\u001b[0m \u001b[32m13.0/13.0 MB\u001b[0m \u001b[31m4.7 MB/s\u001b[0m eta \u001b[36m0:00:00\u001b[0mm eta \u001b[36m0:00:01\u001b[0m[36m0:00:01\u001b[0m\n",
      "\u001b[?25hCollecting tzdata>=2022.7\n",
      "  Downloading tzdata-2024.1-py2.py3-none-any.whl (345 kB)\n",
      "\u001b[2K     \u001b[38;2;114;156;31m━━━━━━━━━━━━━━━━━━━━━━━━━━━━━━━━━━━━━\u001b[0m \u001b[32m345.4/345.4 kB\u001b[0m \u001b[31m356.4 kB/s\u001b[0m eta \u001b[36m0:00:00\u001b[0m[36m0:00:01\u001b[0mm eta \u001b[36m0:00:01\u001b[0m\n",
      "\u001b[?25hCollecting pytz>=2020.1\n",
      "  Downloading pytz-2024.1-py2.py3-none-any.whl (505 kB)\n",
      "\u001b[2K     \u001b[38;2;114;156;31m━━━━━━━━━━━━━━━━━━━━━━━━━━━━━━━━━━━━━━━\u001b[0m \u001b[32m505.5/505.5 kB\u001b[0m \u001b[31m2.5 MB/s\u001b[0m eta \u001b[36m0:00:00\u001b[0mm eta \u001b[36m0:00:01\u001b[0m[36m0:00:01\u001b[0m\n",
      "\u001b[?25hRequirement already satisfied: numpy>=1.22.4 in /home/joao/miniconda3/lib/python3.10/site-packages (from pandas) (2.1.1)\n",
      "Requirement already satisfied: python-dateutil>=2.8.2 in /home/joao/miniconda3/lib/python3.10/site-packages (from pandas) (2.8.2)\n",
      "Requirement already satisfied: six>=1.5 in /home/joao/miniconda3/lib/python3.10/site-packages (from python-dateutil>=2.8.2->pandas) (1.16.0)\n",
      "Installing collected packages: pytz, tzdata, pandas\n",
      "Successfully installed pandas-2.2.2 pytz-2024.1 tzdata-2024.1\n"
     ]
    },
    {
     "data": {
      "text/plain": [
       "'2.2.2'"
      ]
     },
     "execution_count": 5,
     "metadata": {},
     "output_type": "execute_result"
    }
   ],
   "source": [
    "# importar biblioteca e inspecionar versão\n",
    "!pip install pandas\n",
    "import pandas as pd\n",
    "pd.__version__"
   ]
  },
  {
   "cell_type": "markdown",
   "metadata": {
    "id": "S8_6xYPQISUF"
   },
   "source": [
    "### Exercício-001\n",
    "Crie uma matriz 3x3 com valores variando de 0 a 8:"
   ]
  },
  {
   "cell_type": "code",
   "execution_count": 6,
   "metadata": {},
   "outputs": [
    {
     "name": "stdout",
     "output_type": "stream",
     "text": [
      "[[0 1 2]\n",
      " [3 4 5]\n",
      " [6 7 8]]\n"
     ]
    }
   ],
   "source": [
    "import numpy as np\n",
    "\n",
    "matrix = np.arange(9).reshape(3, 3)\n",
    "print(matrix)"
   ]
  },
  {
   "cell_type": "markdown",
   "metadata": {
    "id": "ieFoeUD9JAEp"
   },
   "source": [
    "### Exercício-002\n",
    "Adicione uma borda ao redor de uma matriz numpy. Utilize _fancy indexing_."
   ]
  },
  {
   "cell_type": "code",
   "execution_count": 11,
   "metadata": {},
   "outputs": [
    {
     "name": "stdout",
     "output_type": "stream",
     "text": [
      "Original matrix: [[0 1 2]\n",
      " [3 4 5]\n",
      " [6 7 8]]\n",
      "Bordered matrix: [[0 0 0 0 0]\n",
      " [0 0 0 0 0]\n",
      " [0 0 0 0 0]\n",
      " [0 0 0 0 0]\n",
      " [0 0 0 0 0]]\n"
     ]
    }
   ],
   "source": [
    "import numpy as np\n",
    "\n",
    "# Create a 3x3 matrix with values ranging from 0 to 8\n",
    "original_matrix = np.arange(9).reshape(3, 3)\n",
    "print(\"Original matrix:\", original_matrix)\n",
    "\n",
    "# Create a larger 5x5 matrix filled with the border value (e.g., 0)\n",
    "border_value = 0\n",
    "bordered_matrix = np.full((5, 5), border_value)\n",
    "print(\"Bordered matrix:\", bordered_matrix)"
   ]
  },
  {
   "cell_type": "code",
   "execution_count": 12,
   "metadata": {},
   "outputs": [
    {
     "name": "stdout",
     "output_type": "stream",
     "text": [
      "Original 3x3 Matrix:\n",
      "Original matrix: [[0 1 2]\n",
      " [3 4 5]\n",
      " [6 7 8]]\n",
      "\n",
      "5x5 Matrix with Border Added:\n",
      "Bordered matrix: [[0 0 0 0 0]\n",
      " [0 0 1 2 0]\n",
      " [0 3 4 5 0]\n",
      " [0 6 7 8 0]\n",
      " [0 0 0 0 0]]\n"
     ]
    }
   ],
   "source": [
    "# Use fancy indexing to place the original matrix in the center of the bordered matrix\n",
    "bordered_matrix[1:-1, 1:-1] = original_matrix\n",
    "\n",
    "print(\"Original 3x3 Matrix:\")\n",
    "print(\"Original matrix:\", original_matrix)\n",
    "\n",
    "print(\"\\n5x5 Matrix with Border Added:\")\n",
    "print(\"Bordered matrix:\", bordered_matrix)"
   ]
  },
  {
   "cell_type": "markdown",
   "metadata": {
    "id": "RcyKxi_oJ3E2"
   },
   "source": [
    "### Exercício-003\n",
    "Mude a escala uma matriz numpy de dimensões 5x5 com a seguinte formulação:\n",
    "\n",
    "$z=\\frac{x_i-\\bar{x}}{std(x)}$"
   ]
  },
  {
   "cell_type": "code",
   "execution_count": 13,
   "metadata": {},
   "outputs": [
    {
     "name": "stdout",
     "output_type": "stream",
     "text": [
      "Média: 49.68\n",
      "Desvio padrão: 21.342389744356183\n"
     ]
    }
   ],
   "source": [
    "import numpy as np\n",
    "\n",
    "# Criando uma matriz 5x5 com valores aleatórios\n",
    "np.random.seed(1234)  # reprodutibilidade\n",
    "matrix = np.random.randint(1, 100, size=(5, 5))\n",
    "\n",
    "# Calculando a média e o desvio padrão da matriz\n",
    "mean_value = np.mean(matrix)\n",
    "std_value = np.std(matrix)\n",
    "\n",
    "print(\"Média:\", mean_value)\n",
    "print(\"Desvio padrão:\", std_value)"
   ]
  },
  {
   "cell_type": "code",
   "execution_count": 14,
   "metadata": {},
   "outputs": [
    {
     "name": "stdout",
     "output_type": "stream",
     "text": [
      "Matriz original:\n",
      "[[48 84 39 54 77]\n",
      " [25 16 50 24 27]\n",
      " [31 44 31 27 59]\n",
      " [93 70 81 74 48]\n",
      " [51 77 38 35 39]]\n",
      "\n",
      "Matriz escalada:\n",
      "[[-0.07871658  1.60806734 -0.50041257  0.20241407  1.28008158]\n",
      " [-1.15638409 -1.57808007  0.01499363 -1.2032392  -1.06267387]\n",
      " [-0.87525344 -0.26613702 -0.87525344 -1.06267387  0.43668962]\n",
      " [ 2.02976333  0.95209582  1.46750202  1.13951625 -0.07871658]\n",
      " [ 0.06184874  1.28008158 -0.54726767 -0.687833   -0.50041257]]\n"
     ]
    }
   ],
   "source": [
    "# Aplicando a formulação para mudar a escala\n",
    "scaled_matrix = (matrix - mean_value) / std_value\n",
    "\n",
    "print(\"Matriz original:\")\n",
    "print(matrix)\n",
    "\n",
    "print(\"\\nMatriz escalada:\")\n",
    "print(scaled_matrix)"
   ]
  },
  {
   "cell_type": "markdown",
   "metadata": {
    "id": "odIjR_hULsrJ"
   },
   "source": [
    "### Exercício-004\n",
    "Crie um `array` numpy aleatório com 10 elementos e ordene utilizando um método da biblioteca numpy.\n"
   ]
  },
  {
   "cell_type": "code",
   "execution_count": 17,
   "metadata": {},
   "outputs": [
    {
     "name": "stdout",
     "output_type": "stream",
     "text": [
      "Array Aleatório:\n",
      "[0.19151945 0.62210877 0.43772774 0.78535858 0.77997581 0.27259261\n",
      " 0.27646426 0.80187218 0.95813935 0.87593263]\n",
      "Array Ordenado:\n",
      "[0.19151945 0.27259261 0.27646426 0.43772774 0.62210877 0.77997581\n",
      " 0.78535858 0.80187218 0.87593263 0.95813935]\n"
     ]
    }
   ],
   "source": [
    "import numpy as np\n",
    "\n",
    "# Cria um array numpy com 10 elementos aleatórios\n",
    "np.random.seed(1234)  # reprodutibilidade\n",
    "array_aleatorio = np.random.rand(10)\n",
    "\n",
    "# Ordena o array\n",
    "array_ordenado = np.sort(array_aleatorio)\n",
    "\n",
    "print(\"Array Aleatório:\")\n",
    "print(array_aleatorio)\n",
    "\n",
    "print(\"Array Ordenado:\")\n",
    "print(array_ordenado)"
   ]
  },
  {
   "cell_type": "markdown",
   "metadata": {
    "id": "ld-aK2J1M6Te"
   },
   "source": [
    "### Exercícios-005\n",
    "Considerando 2 `arrays` numpy unidimensionais com 10 valores execute as operações: `np.sum(A)`, `A * B`, `np.inner(A, B)`, `np.outer(A, B)`\n",
    "\n",
    "\n",
    "e explique o funcionamento de cada operação"
   ]
  },
  {
   "cell_type": "code",
   "execution_count": 19,
   "metadata": {},
   "outputs": [
    {
     "name": "stdout",
     "output_type": "stream",
     "text": [
      "Array A: [0.19151945 0.62210877 0.43772774 0.78535858 0.77997581 0.27259261\n",
      " 0.27646426 0.80187218 0.95813935 0.87593263]\n",
      "Array B: [0.35781727 0.50099513 0.68346294 0.71270203 0.37025075 0.56119619\n",
      " 0.50308317 0.01376845 0.77282662 0.88264119]\n"
     ]
    }
   ],
   "source": [
    "import numpy as np\n",
    "\n",
    "# Define o seed para garantir a reprodutibilidade\n",
    "np.random.seed(1234)\n",
    "\n",
    "# Cria dois arrays numpy unidimensionais com 10 valores aleatórios\n",
    "A = np.random.rand(10)\n",
    "B = np.random.rand(10)\n",
    "print(\"Array A:\", A)\n",
    "print(\"Array B:\", B)"
   ]
  },
  {
   "cell_type": "code",
   "execution_count": 24,
   "metadata": {},
   "outputs": [
    {
     "name": "stdout",
     "output_type": "stream",
     "text": [
      "Soma dos elementos de A: 6.00169137864497\n",
      "Multiplicação elemento a elemento de A e B:\n",
      "[0.06852897 0.31167346 0.29917069 0.55972665 0.28878663 0.15297793\n",
      " 0.13908451 0.01104054 0.7404756  0.77313422]\n",
      "Produto interno de A e B: 3.344599203266037\n",
      "Produto externo de A e B:\n",
      "[[0.06852897 0.09595031 0.13089645 0.1364963  0.07091022 0.10747999\n",
      "  0.09635021 0.00263693 0.14801133 0.16904296]\n",
      " [0.22260126 0.31167346 0.42518829 0.44337818 0.23033624 0.34912507\n",
      "  0.31297245 0.00856547 0.48078222 0.54909883]\n",
      " [0.15662654 0.21929946 0.29917069 0.31196945 0.16206903 0.24565114\n",
      "  0.22021346 0.00602683 0.33828765 0.38635653]\n",
      " [0.28101486 0.39346082 0.53676348 0.55972665 0.29077961 0.44074024\n",
      "  0.39510068 0.01081317 0.60694602 0.69318984]\n",
      " [0.27908881 0.39076408 0.53308456 0.55589034 0.28878663 0.43771945\n",
      "  0.3923927  0.01073906 0.60278607 0.68843878]\n",
      " [0.09753834 0.13656757 0.18630694 0.1942773  0.10092762 0.15297793\n",
      "  0.13713675 0.00375318 0.21066682 0.24060146]\n",
      " [0.09892369 0.13850724 0.18895307 0.19703664 0.1023611  0.15515069\n",
      "  0.13908451 0.00380648 0.21365894 0.24401874]\n",
      " [0.28692371 0.40173405 0.54804991 0.57149593 0.29689378 0.45000761\n",
      "  0.40340839 0.01104054 0.61970817 0.70776541]\n",
      " [0.34283881 0.48002315 0.65485273 0.68286786 0.35475182 0.53770415\n",
      "  0.48202378 0.01319209 0.7404756  0.84569326]\n",
      " [0.31342382 0.43883798 0.59866749 0.62427896 0.32431472 0.49157005\n",
      "  0.44066696 0.01206023 0.67694406 0.77313422]]\n"
     ]
    }
   ],
   "source": [
    "# Cálculos requeridos\n",
    "## Calcula a soma dos elementos de A\n",
    "soma_A = np.sum(A)\n",
    "\n",
    "## Multiplicação elemento a elemento de A e B\n",
    "multiplicacao_elementos = np.multiply(A, B)\n",
    "\n",
    "## Produto interno de A e B *\n",
    "produto_interno = np.inner(A, B)\n",
    "\n",
    "## Produto externo de A e B *\n",
    "produto_externo = np.outer(A, B)\n",
    "\n",
    "print(\"Soma dos elementos de A:\", soma_A)\n",
    "\n",
    "print(\"Multiplicação elemento a elemento de A e B:\")\n",
    "print(multiplicacao_elementos)\n",
    "\n",
    "print(\"Produto interno de A e B:\", produto_interno)\n",
    "\n",
    "print(\"Produto externo de A e B:\") \n",
    "print(produto_externo)"
   ]
  },
  {
   "cell_type": "markdown",
   "metadata": {},
   "source": [
    "### * Explicações: \n",
    "1. Produto interno (ou produto escalar) entre dois vetores é uma operação que resulta em um único número. É calculado multiplicando-se os elementos correspondentes dos vetores e somando esses produtos.\n",
    "\n",
    "2. Produto Externo (ou produto tensorial) entre dois vetores resulta em uma matriz. Cada elemento da matriz é o produto dos elementos dos vetores."
   ]
  },
  {
   "cell_type": "markdown",
   "metadata": {
    "id": "FGn9Vy8uQKYL"
   },
   "source": [
    "### Exercícios-006\n",
    "Crie uma matriz no formato 10x3, extraia linhas com valores diferentes (exemplo: `[2, 2, 3]`):"
   ]
  },
  {
   "cell_type": "code",
   "execution_count": 26,
   "metadata": {},
   "outputs": [
    {
     "name": "stdout",
     "output_type": "stream",
     "text": [
      "Matriz original:\n",
      "[[4 5 5]\n",
      " [1 2 2]\n",
      " [2 3 4]\n",
      " [5 5 3]\n",
      " [3 1 1]\n",
      " [5 1 2]\n",
      " [3 1 4]\n",
      " [5 3 3]\n",
      " [4 4 1]\n",
      " [2 4 1]]\n",
      "\n",
      "Linhas com valores diferentes:\n",
      "[[2 3 4]\n",
      " [5 1 2]\n",
      " [3 1 4]\n",
      " [2 4 1]]\n"
     ]
    }
   ],
   "source": [
    "import numpy as np\n",
    "\n",
    "np.random.seed(1234)\n",
    "\n",
    "# Cria uma matriz numpy 10x3 com valores aleatórios inteiros entre 1 e 5\n",
    "matriz = np.random.randint(1, 6, size=(10, 3))\n",
    "\n",
    "# Função para verificar se todos os elementos da linha são diferentes\n",
    "def todos_diferentes(linha):\n",
    "    return len(np.unique(linha)) == len(linha)\n",
    "## Compara o número de valores únicos com o comprimento da linha para determinar se todos \n",
    "## os valores são diferentes.\n",
    "\n",
    "# Extrai as linhas com valores diferentes\n",
    "linhas_diferentes = np.array([linha for linha in matriz if todos_diferentes(linha)])\n",
    "## cria uma lista de linhas que atendem ao critério de ter valores diferentes entre si \n",
    "## e a converte em array numpy\n",
    "\n",
    "print(\"Matriz original:\")\n",
    "print(matriz)\n",
    "\n",
    "print(\"\\nLinhas com valores diferentes:\")\n",
    "print(linhas_diferentes)"
   ]
  },
  {
   "cell_type": "markdown",
   "metadata": {
    "id": "JvVV9_-4VizW"
   },
   "source": [
    "### Exercícios-007\n",
    "Crie duas matrizes com números aleatórios no formato 2x3, e multiplique a primeira matriz pela transposta da segunda. Explique como o resultado da multiplicação das matrizes foi obtido."
   ]
  },
  {
   "cell_type": "code",
   "execution_count": 27,
   "metadata": {},
   "outputs": [
    {
     "name": "stdout",
     "output_type": "stream",
     "text": [
      "Matriz 1:\n",
      "[[4 5 5]\n",
      " [1 2 2]]\n",
      "\n",
      "Matriz 2:\n",
      "[[2 3 4]\n",
      " [5 5 3]]\n"
     ]
    }
   ],
   "source": [
    "import numpy as np\n",
    "\n",
    "np.random.seed(1234)\n",
    "\n",
    "# Cria duas matrizes 2x3 com valores aleatórios inteiros entre 1 e 5\n",
    "matriz1 = np.random.randint(1, 6, size=(2, 3))\n",
    "matriz2 = np.random.randint(1, 6, size=(2, 3))\n",
    "\n",
    "print(\"Matriz 1:\")\n",
    "print(matriz1)\n",
    "\n",
    "print(\"\\nMatriz 2:\")\n",
    "print(matriz2)"
   ]
  },
  {
   "cell_type": "code",
   "execution_count": 29,
   "metadata": {},
   "outputs": [
    {
     "name": "stdout",
     "output_type": "stream",
     "text": [
      "\n",
      "Transposta da Matriz 2:\n",
      "[[2 5]\n",
      " [3 5]\n",
      " [4 3]]\n",
      "\n",
      "Resultado da multiplicação de Matriz 1 pela transposta de Matriz 2:\n",
      "[[43 60]\n",
      " [16 21]]\n"
     ]
    }
   ],
   "source": [
    "# Calcula a transposta da segunda matriz, i.e. trocar colunas por linhas\n",
    "matriz2_transposta = np.transpose(matriz2)\n",
    "\n",
    "# Multiplica a primeira matriz pela transposta da segunda matriz\n",
    "resultado = np.dot(matriz1, matriz2_transposta)\n",
    "\n",
    "print(\"\\nTransposta da Matriz 2:\")\n",
    "print(matriz2_transposta)\n",
    "\n",
    "print(\"\\nResultado da multiplicação de Matriz 1 pela transposta de Matriz 2:\")\n",
    "print(resultado)"
   ]
  },
  {
   "cell_type": "markdown",
   "metadata": {
    "id": "KvbfGxCWYMtt"
   },
   "source": [
    "### Exercício-008\n",
    "\n",
    "Calcule o percentil de 80% no segundo eixo (_axis_) de uma matriz numpy."
   ]
  },
  {
   "cell_type": "code",
   "execution_count": 30,
   "metadata": {},
   "outputs": [
    {
     "name": "stdout",
     "output_type": "stream",
     "text": [
      "Matriz:\n",
      "[[ 4  7  6  5  9]\n",
      " [10  2  8 10  7]\n",
      " [ 9  1  6  1 10]\n",
      " [ 7  3  1  6  3]]\n"
     ]
    }
   ],
   "source": [
    "import numpy as np\n",
    "np.random.seed(1234)\n",
    "\n",
    "# Cria uma matriz numpy 4x5 com valores aleatórios inteiros entre 1 e 10\n",
    "matriz = np.random.randint(1, 11, size=(4, 5))\n",
    "\n",
    "print(\"Matriz:\")\n",
    "print(matriz)"
   ]
  },
  {
   "cell_type": "code",
   "execution_count": 32,
   "metadata": {},
   "outputs": [
    {
     "name": "stdout",
     "output_type": "stream",
     "text": [
      "\n",
      "Percentil de 80% ao longo do eixo 1 (colunas):\n",
      "[ 7.4 10.   9.2  6.2]\n",
      "\n",
      "Para a linha 1, 80% dos valores estão abaixo de 7.4.\n",
      "\n",
      "Para a linha 2, 80% dos valores estão abaixo de 10.0.\n",
      "\n",
      "Para a linha 3, 80% dos valores estão abaixo de 9.2.\n",
      "\n",
      "Para a linha 4, 80% dos valores estão abaixo de 6.2.\n"
     ]
    }
   ],
   "source": [
    "# Calcula o percentil de 80% ao longo do eixo 1 (colunas)\n",
    "percentil_80 = np.percentile(matriz, 80, axis=1)\n",
    "\n",
    "print(\"\\nPercentil de 80% ao longo do eixo 1 (colunas):\")\n",
    "print(percentil_80) \n",
    "\n",
    "# Explicação do resultado\n",
    "for i, valor in enumerate(percentil_80):\n",
    "    print(f\"\\nPara a linha {i+1}, 80% dos valores estão abaixo de {valor}.\")"
   ]
  },
  {
   "cell_type": "markdown",
   "metadata": {},
   "source": [
    "### Explicações\n",
    "- O primeiro eixo (axis=0) refere-se às linhas (\"y\").\n",
    "- O segundo eixo (axis=1) refere-se às colunas (\"x\").\n",
    "- Como o Percentil é Calculado:\n",
    "- - Para uma linha específica da matriz: (1) Ordena os valores da linha. (2) Encontra o valor que está na posição correspondente ao percentil desejado. Se a posição não for um índice exato, é interpolada entre os valores adjacentes."
   ]
  },
  {
   "cell_type": "markdown",
   "metadata": {
    "id": "C9xGebpXZ5sZ"
   },
   "source": [
    "### Exercício-009\n",
    "\n",
    "Crie um programa utilizando pandas para disponibilizar um sumário básico de informações contidas em um _dataframe_:\n",
    "\n",
    "Informações que devem constar no _dataframe_:\n",
    "\n",
    "nome - ['Ana', 'Dilma', 'Catarina', 'João', 'Emilia', 'Michel', 'Mateus','Laura', 'Kevin', 'Jonas']\n",
    "\n",
    "nota - [12.5, 9, 16.5, np.nan, 9, 20, 14.5, np.nan, 8, 19]\n",
    "\n",
    "tentativas - [1, 3, 2, 3, 2, 3, 1, 1, 2, 1]\n",
    "\n",
    "qualicacao - ['yes', 'no', 'yes', 'no', 'no', 'yes', 'yes', 'no', 'no', 'yes']\n",
    "\n",
    "rotulos - ['a', 'b', 'c', 'd', 'e', 'f', 'g', 'h', 'i', 'j']"
   ]
  },
  {
   "cell_type": "code",
   "execution_count": 36,
   "metadata": {},
   "outputs": [],
   "source": [
    "import pandas as pd\n",
    "import numpy as np\n",
    "\n",
    "# Dados fornecidos\n",
    "dados = {\n",
    "    'Nome': ['Ana', 'Dilma', 'Catarina', 'João', 'Emilia', 'Michel', 'Mateus', 'Laura', 'Kevin', 'Jonas'],\n",
    "    'Nota': [12.5, 9, 16.5, np.nan, 9, 20, 14.5, np.nan, 8, 19],\n",
    "    'Tentativas': [1, 3, 2, 3, 2, 3, 1, 1, 2, 1],\n",
    "    'Qualificacao': ['yes', 'no', 'yes', 'no', 'no', 'yes', 'yes', 'no', 'no', 'yes'],\n",
    "    'Rotulos': ['a', 'b', 'c', 'd', 'e', 'f', 'g', 'h', 'i', 'j']\n",
    "}"
   ]
  },
  {
   "cell_type": "code",
   "execution_count": 44,
   "metadata": {},
   "outputs": [
    {
     "name": "stdout",
     "output_type": "stream",
     "text": [
      "DataFrame:\n",
      "             Nome  Nota  Tentativas Qualificacao\n",
      "Rotulos                                         \n",
      "a             Ana  12.5           1          yes\n",
      "c        Catarina  16.5           2          yes\n",
      "b           Dilma   9.0           3           no\n",
      "e          Emilia   9.0           2           no\n",
      "j           Jonas  19.0           1          yes\n",
      "d            João   NaN           3           no\n",
      "i           Kevin   8.0           2           no\n",
      "h           Laura   NaN           1           no\n",
      "g          Mateus  14.5           1          yes\n",
      "f          Michel  20.0           3          yes\n"
     ]
    }
   ],
   "source": [
    "# Criação do DataFrame \n",
    "df = pd.DataFrame(dados)\n",
    "df.set_index('Rotulos', inplace=True) # definição da coluna 'rotulos' como índice\n",
    "\n",
    "df_ord = df.sort_values(by=\"Nome\") # colocar os nomes em ordem alfabética\n",
    "\n",
    "print(\"DataFrame:\")\n",
    "print(df_ord)"
   ]
  },
  {
   "cell_type": "code",
   "execution_count": 40,
   "metadata": {},
   "outputs": [
    {
     "name": "stdout",
     "output_type": "stream",
     "text": [
      "\n",
      "Sumário Básico:\n",
      "       Nome       Nota  Tentativas Qualificacao Rotulos\n",
      "count    10   8.000000   10.000000           10      10\n",
      "unique   10        NaN         NaN            2      10\n",
      "top     Ana        NaN         NaN          yes       a\n",
      "freq      1        NaN         NaN            5       1\n",
      "mean    NaN  13.562500    1.900000          NaN     NaN\n",
      "std     NaN   4.693746    0.875595          NaN     NaN\n",
      "min     NaN   8.000000    1.000000          NaN     NaN\n",
      "25%     NaN   9.000000    1.000000          NaN     NaN\n",
      "50%     NaN  13.500000    2.000000          NaN     NaN\n",
      "75%     NaN  17.125000    2.750000          NaN     NaN\n",
      "max     NaN  20.000000    3.000000          NaN     NaN\n",
      "\n",
      "Informações Adicionais:\n",
      "<class 'pandas.core.frame.DataFrame'>\n",
      "RangeIndex: 10 entries, 0 to 9\n",
      "Data columns (total 5 columns):\n",
      " #   Column        Non-Null Count  Dtype  \n",
      "---  ------        --------------  -----  \n",
      " 0   Nome          10 non-null     object \n",
      " 1   Nota          8 non-null      float64\n",
      " 2   Tentativas    10 non-null     int64  \n",
      " 3   Qualificacao  10 non-null     object \n",
      " 4   Rotulos       10 non-null     object \n",
      "dtypes: float64(1), int64(1), object(3)\n",
      "memory usage: 528.0+ bytes\n",
      "None\n"
     ]
    }
   ],
   "source": [
    "# Sumário básico de informações\n",
    "print(\"\\nSumário Básico:\")\n",
    "print(df.describe(include='all'))\n",
    "\n",
    "# Verificar informações adicionais\n",
    "print(\"\\nInformações Adicionais:\")\n",
    "print(df.info())"
   ]
  },
  {
   "cell_type": "markdown",
   "metadata": {
    "id": "lx9Kxh_rdOwS"
   },
   "source": [
    "### Exercício-010\n",
    "Escreva num programa para encontras os _n_ menores valores em um _dataframe_ pandas."
   ]
  },
  {
   "cell_type": "code",
   "execution_count": 45,
   "metadata": {},
   "outputs": [
    {
     "name": "stdout",
     "output_type": "stream",
     "text": [
      "             Nome  Nota  Tentativas Qualificacao\n",
      "Rotulos                                         \n",
      "a             Ana  12.5           1          yes\n",
      "c        Catarina  16.5           2          yes\n",
      "b           Dilma   9.0           3           no\n",
      "e          Emilia   9.0           2           no\n",
      "j           Jonas  19.0           1          yes\n",
      "d            João   NaN           3           no\n",
      "i           Kevin   8.0           2           no\n",
      "h           Laura   NaN           1           no\n",
      "g          Mateus  14.5           1          yes\n",
      "f          Michel  20.0           3          yes\n"
     ]
    }
   ],
   "source": [
    "import pandas as pd\n",
    "import numpy as np\n",
    "\n",
    "# Dados fornecidos\n",
    "dados = {\n",
    "    'Nome': ['Ana', 'Dilma', 'Catarina', 'João', 'Emilia', 'Michel', 'Mateus', 'Laura', 'Kevin', 'Jonas'],\n",
    "    'Nota': [12.5, 9, 16.5, np.nan, 9, 20, 14.5, np.nan, 8, 19],\n",
    "    'Tentativas': [1, 3, 2, 3, 2, 3, 1, 1, 2, 1],\n",
    "    'Qualificacao': ['yes', 'no', 'yes', 'no', 'no', 'yes', 'yes', 'no', 'no', 'yes'],\n",
    "    'Rotulos': ['a', 'b', 'c', 'd', 'e', 'f', 'g', 'h', 'i', 'j']\n",
    "}\n",
    "\n",
    "# Criação do DataFrame\n",
    "df = pd.DataFrame(dados)\n",
    "df.set_index('Rotulos', inplace=True) # definição da coluna 'rotulos' como índice\n",
    "\n",
    "df_ord = df.sort_values(by=\"Nome\") # colocar os nomes em ordem alfabética\n",
    "\n",
    "print(df_ord)"
   ]
  },
  {
   "cell_type": "code",
   "execution_count": 47,
   "metadata": {},
   "outputs": [
    {
     "name": "stdin",
     "output_type": "stream",
     "text": [
      "Digite o número de menores valores que você deseja encontrar:  -5\n"
     ]
    },
    {
     "name": "stdout",
     "output_type": "stream",
     "text": [
      "Por favor, insira um número inteiro válido.\n"
     ]
    },
    {
     "name": "stdin",
     "output_type": "stream",
     "text": [
      "Digite o número de menores valores que você deseja encontrar:  2.3\n"
     ]
    },
    {
     "name": "stdout",
     "output_type": "stream",
     "text": [
      "Por favor, insira um número inteiro válido.\n"
     ]
    },
    {
     "name": "stdin",
     "output_type": "stream",
     "text": [
      "Digite o número de menores valores que você deseja encontrar:  2\n"
     ]
    },
    {
     "name": "stdout",
     "output_type": "stream",
     "text": [
      "\n",
      "Os 2 menores valores na coluna 'Nota':\n",
      "          Nome  Nota  Tentativas Qualificacao\n",
      "Rotulos                                      \n",
      "i        Kevin   8.0           2           no\n",
      "b        Dilma   9.0           3           no\n"
     ]
    }
   ],
   "source": [
    "while True:\n",
    "    entrada = input(\"Digite o número de menores valores que você deseja encontrar: \")\n",
    "    \n",
    "    # Verificar se a entrada é um número inteiro\n",
    "    if entrada.isdigit():\n",
    "        n = int(entrada)\n",
    "        \n",
    "        if n <= 0:\n",
    "            print(\"O número de menores valores deve ser maior que zero.\")\n",
    "        else:\n",
    "            # Encontrar os n menores valores na coluna 'nota'\n",
    "            menores_notas = df.nsmallest(n, 'Nota')\n",
    "            \n",
    "            # Exibir os n menores valores\n",
    "            print(f\"\\nOs {n} menores valores na coluna 'Nota':\")\n",
    "            print(menores_notas)\n",
    "            break  # Sai do loop após exibir os resultados\n",
    "    else:\n",
    "        print(\"Por favor, insira um número inteiro válido.\")"
   ]
  },
  {
   "cell_type": "markdown",
   "metadata": {
    "id": "BuCMREBgkQKj"
   },
   "source": [
    "### Exercício-011\n",
    "Escreva um programa para encontrar dentro de um intervalo fixado (exemplo: $a<x<b$) e substituí-los por 0."
   ]
  },
  {
   "cell_type": "code",
   "execution_count": 48,
   "metadata": {},
   "outputs": [
    {
     "name": "stdout",
     "output_type": "stream",
     "text": [
      "DataFrame original:\n",
      "    A   B   C\n",
      "0  16  17   8\n",
      "1   7  10  12\n",
      "2  13  16   1\n",
      "3  16  19  10\n",
      "4  18  17  12\n",
      "5  10  13  17\n",
      "6  12   6   4\n",
      "7  13   3   3\n",
      "8  17   7  13\n",
      "9   6   4   2\n"
     ]
    }
   ],
   "source": [
    "import pandas as pd\n",
    "import numpy as np\n",
    "\n",
    "np.random.seed(1234)\n",
    "\n",
    "# Criar um DataFrame com valores aleatórios\n",
    "df = pd.DataFrame({\n",
    "    'A': np.random.randint(1, 20, size=10),\n",
    "    'B': np.random.randint(1, 20, size=10),\n",
    "    'C': np.random.randint(1, 20, size=10)\n",
    "})\n",
    "\n",
    "print(\"DataFrame original:\")\n",
    "print(df)"
   ]
  },
  {
   "cell_type": "code",
   "execution_count": 49,
   "metadata": {},
   "outputs": [],
   "source": [
    "# Definir o intervalo\n",
    "a = 5\n",
    "b = 15"
   ]
  },
  {
   "cell_type": "code",
   "execution_count": 52,
   "metadata": {},
   "outputs": [
    {
     "name": "stdout",
     "output_type": "stream",
     "text": [
      "\n",
      "DataFrame após substituição:\n",
      "    A   B   C\n",
      "0  16  17   0\n",
      "1   0   0   0\n",
      "2   0  16   1\n",
      "3  16  19   0\n",
      "4  18  17   0\n",
      "5   0   0  17\n",
      "6   0   0   4\n",
      "7   0   3   3\n",
      "8  17   0   0\n",
      "9   0   4   2\n"
     ]
    }
   ],
   "source": [
    "# Converter DataFrame para um array NumPy\n",
    "df_array = df.to_numpy()\n",
    "\n",
    "# Substituir valores no intervalo (a < x < b) por 0 usando operações vetorizadas do NumPy\n",
    "df_array[(df_array > a) & (df_array < b)] = 0\n",
    "\n",
    "# Converter o array de volta para DataFrame\n",
    "df = pd.DataFrame(df_array, columns=df.columns)\n",
    "\n",
    "print(\"\\nDataFrame após substituição:\")\n",
    "print(df)"
   ]
  },
  {
   "cell_type": "markdown",
   "metadata": {
    "id": "KgthBsthoAwp"
   },
   "source": [
    "### Exercício-012\n",
    "Utilize os métodos `max` para encontrar o máximo de uma coluna em _dataframe_ pandas e depois `query` para encontrar onde os valores na coluna referida são menores que o máximo."
   ]
  },
  {
   "cell_type": "code",
   "execution_count": 53,
   "metadata": {},
   "outputs": [
    {
     "name": "stdout",
     "output_type": "stream",
     "text": [
      "DataFrame original:\n",
      "    A   B   C\n",
      "0  16  17   8\n",
      "1   7  10  12\n",
      "2  13  16   1\n",
      "3  16  19  10\n",
      "4  18  17  12\n",
      "5  10  13  17\n",
      "6  12   6   4\n",
      "7  13   3   3\n",
      "8  17   7  13\n",
      "9   6   4   2\n"
     ]
    }
   ],
   "source": [
    "import pandas as pd\n",
    "import numpy as np\n",
    "\n",
    "np.random.seed(1234)\n",
    "\n",
    "# Criar um DataFrame com valores aleatórios\n",
    "df = pd.DataFrame({\n",
    "    'A': np.random.randint(1, 20, size=10),\n",
    "    'B': np.random.randint(1, 20, size=10),\n",
    "    'C': np.random.randint(1, 20, size=10)\n",
    "})\n",
    "\n",
    "print(\"DataFrame original:\")\n",
    "print(df)"
   ]
  },
  {
   "cell_type": "code",
   "execution_count": 54,
   "metadata": {},
   "outputs": [
    {
     "name": "stdout",
     "output_type": "stream",
     "text": [
      "\n",
      "Valor máximo na coluna 'A': 18\n"
     ]
    }
   ],
   "source": [
    "# Encontrar o valor máximo na coluna 'A'\n",
    "max_val = df['A'].max()\n",
    "\n",
    "print(f\"\\nValor máximo na coluna 'A': {max_val}\")"
   ]
  },
  {
   "cell_type": "code",
   "execution_count": 55,
   "metadata": {},
   "outputs": [
    {
     "name": "stdout",
     "output_type": "stream",
     "text": [
      "\n",
      "DataFrame onde os valores na coluna 'A' são menores que o valor máximo:\n",
      "    A   B   C\n",
      "0  16  17   8\n",
      "1   7  10  12\n",
      "2  13  16   1\n",
      "3  16  19  10\n",
      "5  10  13  17\n",
      "6  12   6   4\n",
      "7  13   3   3\n",
      "8  17   7  13\n",
      "9   6   4   2\n"
     ]
    }
   ],
   "source": [
    "# Usar query para encontrar onde os valores na coluna 'A' são menores que o valor máximo\n",
    "df_filtered = df.query('A < @max_val')\n",
    "\n",
    "print(\"\\nDataFrame onde os valores na coluna 'A' são menores que o valor máximo:\")\n",
    "print(df_filtered)"
   ]
  },
  {
   "cell_type": "code",
   "execution_count": 56,
   "metadata": {},
   "outputs": [
    {
     "name": "stdout",
     "output_type": "stream",
     "text": [
      "\n",
      "Linhas removidas:\n",
      "    A   B   C\n",
      "4  18  17  12\n"
     ]
    }
   ],
   "source": [
    "# Encontrar as linhas removidas\n",
    "df_removed = df[~df.index.isin(df_filtered.index)]\n",
    "\n",
    "print(\"\\nLinhas removidas:\")\n",
    "print(df_removed)"
   ]
  },
  {
   "cell_type": "markdown",
   "metadata": {
    "id": "36iz1oN7p1H4"
   },
   "source": [
    "### Exercício-013\n",
    "Remova os espaços na extremidade dos nomes das colunas e transforme em minúsculo utilizando o método `.str` para o conjunto de dados listado abaixo."
   ]
  },
  {
   "cell_type": "code",
   "execution_count": 57,
   "metadata": {
    "id": "kjCnot90rbUq"
   },
   "outputs": [
    {
     "name": "stdout",
     "output_type": "stream",
     "text": [
      "DataFrame original:\n",
      "                Nome Data_de_Nascimento   Idade\n",
      "0     Alberto Franco          17/05/2002   18.5\n",
      "1    Giovane Pereira          16/02/1999   21.2\n",
      "2  Reinaldo Oliveira          25/09/1998   22.5\n",
      "3    Elen Cavalcanti          11/05/2002   22.0\n",
      "4       Paulo Freire          15/09/1997   23.0\n"
     ]
    }
   ],
   "source": [
    "import pandas as pd\n",
    "\n",
    "df = pd.DataFrame({\n",
    "    'Nome': ['Alberto Franco','Giovane Pereira','Reinaldo Oliveira', 'Elen Cavalcanti', 'Paulo Freire'],\n",
    "    'Data_de_Nascimento ': ['17/05/2002','16/02/1999','25/09/1998','11/05/2002','15/09/1997'],\n",
    "    'Idade': [18.5, 21.2, 22.5, 22, 23]\n",
    "})\n",
    "\n",
    "print(\"DataFrame original:\")\n",
    "print(df)"
   ]
  },
  {
   "cell_type": "code",
   "execution_count": 58,
   "metadata": {},
   "outputs": [
    {
     "name": "stdout",
     "output_type": "stream",
     "text": [
      "\n",
      "DataFrame com nomes de colunas ajustados:\n",
      "                nome data_de_nascimento  idade\n",
      "0     Alberto Franco         17/05/2002   18.5\n",
      "1    Giovane Pereira         16/02/1999   21.2\n",
      "2  Reinaldo Oliveira         25/09/1998   22.5\n",
      "3    Elen Cavalcanti         11/05/2002   22.0\n",
      "4       Paulo Freire         15/09/1997   23.0\n"
     ]
    }
   ],
   "source": [
    "# Ajustar os nomes das colunas\n",
    "df.columns = df.columns.str.strip().str.lower() # obs. further check str - interesting to fix stuff \n",
    "\n",
    "print(\"\\nDataFrame com nomes de colunas ajustados:\")\n",
    "print(df)"
   ]
  },
  {
   "cell_type": "markdown",
   "metadata": {
    "id": "Q-9b53bArwEG"
   },
   "source": [
    "### Exercício-014\n",
    "Preencha os dados de um _dataframe_ nas posições em que os dados são nulos com um segundo _dataframe_ para o conjunto de dados listado abaixo."
   ]
  },
  {
   "cell_type": "code",
   "execution_count": 2,
   "metadata": {},
   "outputs": [
    {
     "name": "stdout",
     "output_type": "stream",
     "text": [
      "DataFrame 1 com valores nulos:\n",
      "     A  B\n",
      "0  NaN  3\n",
      "1  0.0  4\n",
      "2  NaN  5\n",
      "\n",
      "DataFrame 2 com valores para preencher:\n",
      "   A    B\n",
      "0  1  3.0\n",
      "1  1  NaN\n",
      "2  3  3.0\n"
     ]
    }
   ],
   "source": [
    "import pandas as pd\n",
    "\n",
    "# Criar o primeiro DataFrame com valores nulos\n",
    "df1 = pd.DataFrame({'A': [None, 0, None], 'B': [3, 4, 5]})\n",
    "\n",
    "# Criar o segundo DataFrame com valores para preencher os nulos\n",
    "df2 = pd.DataFrame({'A': [1, 1, 3], 'B': [3, None, 3]})\n",
    "\n",
    "print(\"DataFrame 1 com valores nulos:\")\n",
    "print(df1)\n",
    "\n",
    "print(\"\\nDataFrame 2 com valores para preencher:\")\n",
    "print(df2)"
   ]
  },
  {
   "cell_type": "code",
   "execution_count": 60,
   "metadata": {},
   "outputs": [
    {
     "name": "stdout",
     "output_type": "stream",
     "text": [
      "\n",
      "DataFrame 1 após preenchimento dos valores nulos:\n",
      "     A  B\n",
      "0  1.0  3\n",
      "1  0.0  4\n",
      "2  3.0  5\n"
     ]
    }
   ],
   "source": [
    "# Preencher valores nulos em df1 com valores de df2\n",
    "df1_filled = df1.fillna(df2)\n",
    "\n",
    "print(\"\\nDataFrame 1 após preenchimento dos valores nulos:\")\n",
    "print(df1_filled)"
   ]
  },
  {
   "cell_type": "markdown",
   "metadata": {
    "id": "8UmKSJKNtK8u"
   },
   "source": [
    "### Exercício-015\n",
    "Escreva um programa que primeiro concatena dois _dataframe_ e depois faz operação de união (`merge`) com um terceiro em uma coluna especificada para o conjunto de dados listado abaixo."
   ]
  },
  {
   "cell_type": "code",
   "execution_count": 67,
   "metadata": {
    "id": "QOxNqkwItgX8"
   },
   "outputs": [],
   "source": [
    "import pandas as pd\n",
    "\n",
    "# Dados fornecidos\n",
    "dados_estudante1 = pd.DataFrame({\n",
    "        'codigo': ['S1', 'S2', 'S3', 'S4', 'S5'],\n",
    "         'name': ['Daniela', 'Riobaldo', 'Bruno', 'Eduardo', 'Monica'],\n",
    "        'notas': [200, 210, 190, 222, 199]})\n",
    "\n",
    "dados_estudante2 = pd.DataFrame({\n",
    "        'codigo': ['S4', 'S5', 'S6', 'S7', 'S8'],\n",
    "        'name': ['Isabela', 'Carla', 'Denise', 'Carmen', 'Madalena'],\n",
    "        'notas': [201, 200, 198, 219, 201]})\n",
    "\n",
    "exam_data = pd.DataFrame({\n",
    "        'codigo': ['S1', 'S2', 'S3', 'S4', 'S5', 'S7', 'S8', 'S9', 'S10', 'S11', 'S12', 'S13'],\n",
    "        'id_prova': [23, 45, 12, 67, 21, 55, 33, 14, 56, 83, 88, 12]})"
   ]
  },
  {
   "cell_type": "code",
   "execution_count": 68,
   "metadata": {},
   "outputs": [
    {
     "name": "stdout",
     "output_type": "stream",
     "text": [
      "Dados Estudante 1:\n",
      "  codigo      name  notas\n",
      "0     S1   Daniela    200\n",
      "1     S2  Riobaldo    210\n",
      "2     S3     Bruno    190\n",
      "3     S4   Eduardo    222\n",
      "4     S5    Monica    199\n",
      "\n",
      "Dados Estudante 2:\n",
      "  codigo      name  notas\n",
      "0     S4   Isabela    201\n",
      "1     S5     Carla    200\n",
      "2     S6    Denise    198\n",
      "3     S7    Carmen    219\n",
      "4     S8  Madalena    201\n",
      "\n",
      "Dados de Exames:\n",
      "   codigo  id_prova\n",
      "0      S1        23\n",
      "1      S2        45\n",
      "2      S3        12\n",
      "3      S4        67\n",
      "4      S5        21\n",
      "5      S7        55\n",
      "6      S8        33\n",
      "7      S9        14\n",
      "8     S10        56\n",
      "9     S11        83\n",
      "10    S12        88\n",
      "11    S13        12\n"
     ]
    }
   ],
   "source": [
    "print(\"Dados Estudante 1:\")\n",
    "print(dados_estudante1)\n",
    "\n",
    "print(\"\\nDados Estudante 2:\")\n",
    "print(dados_estudante2)\n",
    "\n",
    "print(\"\\nDados de Exames:\")\n",
    "print(exam_data)"
   ]
  },
  {
   "cell_type": "code",
   "execution_count": 69,
   "metadata": {},
   "outputs": [
    {
     "name": "stdout",
     "output_type": "stream",
     "text": [
      "\n",
      "Dados Estudantes Concatenados:\n",
      "  codigo      name  notas\n",
      "0     S1   Daniela    200\n",
      "1     S2  Riobaldo    210\n",
      "2     S3     Bruno    190\n",
      "3     S4   Eduardo    222\n",
      "4     S5    Monica    199\n",
      "5     S4   Isabela    201\n",
      "6     S5     Carla    200\n",
      "7     S6    Denise    198\n",
      "8     S7    Carmen    219\n",
      "9     S8  Madalena    201\n"
     ]
    }
   ],
   "source": [
    "# Concatenar dados_estudante1 e dados_estudante2\n",
    "dados_concatenados = pd.concat([dados_estudante1, dados_estudante2], ignore_index=True)\n",
    "\n",
    "print(\"\\nDados Estudantes Concatenados:\")\n",
    "print(dados_concatenados)"
   ]
  },
  {
   "cell_type": "code",
   "execution_count": 70,
   "metadata": {},
   "outputs": [
    {
     "name": "stdout",
     "output_type": "stream",
     "text": [
      "\n",
      "Dados Estudantes e Exames Unidos:\n",
      "  codigo      name  notas  id_prova\n",
      "0     S1   Daniela    200      23.0\n",
      "1     S2  Riobaldo    210      45.0\n",
      "2     S3     Bruno    190      12.0\n",
      "3     S4   Eduardo    222      67.0\n",
      "4     S5    Monica    199      21.0\n",
      "5     S4   Isabela    201      67.0\n",
      "6     S5     Carla    200      21.0\n",
      "7     S6    Denise    198       NaN\n",
      "8     S7    Carmen    219      55.0\n",
      "9     S8  Madalena    201      33.0\n"
     ]
    }
   ],
   "source": [
    "# Realizar a união (merge) com exam_data baseado na coluna 'codigo'\n",
    "dados_unidos = pd.merge(dados_concatenados, exam_data, on='codigo', how='left')\n",
    "\n",
    "print(\"\\nDados Estudantes e Exames Unidos:\")\n",
    "print(dados_unidos)"
   ]
  },
  {
   "cell_type": "markdown",
   "metadata": {
    "id": "VKcRsX1Zvnyr"
   },
   "source": [
    "### Exercício-016\n",
    "Escreva um programa que faz operação de união (`merge`) utilizando mais de uma coluna para o conjunto de dados listado abaixo."
   ]
  },
  {
   "cell_type": "code",
   "execution_count": 72,
   "metadata": {
    "id": "faN_Y-P8u9Fu"
   },
   "outputs": [],
   "source": [
    "import pandas as pd\n",
    "data1 = pd.DataFrame({'key1': ['K0', 'K0', 'K1', 'K2'],\n",
    "                     'key2': ['K0', 'K1', 'K0', 'K1'],\n",
    "                     'P': ['P0', 'P1', 'P2', 'P3'],\n",
    "                     'Q': ['Q0', 'Q1', 'Q2', 'Q3']})\n",
    "data2 = pd.DataFrame({'key1': ['K0', 'K1', 'K1', 'K2'],\n",
    "                      'key2': ['K0', 'K0', 'K0', 'K0'],\n",
    "                      'R': ['R0', 'R1', 'R2', 'R3'],\n",
    "                      'S': ['S0', 'S1', 'S2', 'S3']})"
   ]
  },
  {
   "cell_type": "code",
   "execution_count": 73,
   "metadata": {},
   "outputs": [
    {
     "name": "stdout",
     "output_type": "stream",
     "text": [
      "Data1:\n",
      "  key1 key2   P   Q\n",
      "0   K0   K0  P0  Q0\n",
      "1   K0   K1  P1  Q1\n",
      "2   K1   K0  P2  Q2\n",
      "3   K2   K1  P3  Q3\n",
      "\n",
      "Data2:\n",
      "  key1 key2   R   S\n",
      "0   K0   K0  R0  S0\n",
      "1   K1   K0  R1  S1\n",
      "2   K1   K0  R2  S2\n",
      "3   K2   K0  R3  S3\n"
     ]
    }
   ],
   "source": [
    "print(\"Data1:\")\n",
    "print(data1)\n",
    "\n",
    "print(\"\\nData2:\")\n",
    "print(data2)"
   ]
  },
  {
   "cell_type": "code",
   "execution_count": 74,
   "metadata": {},
   "outputs": [
    {
     "name": "stdout",
     "output_type": "stream",
     "text": [
      "\n",
      "Data após a união (merge):\n",
      "  key1 key2   P   Q   R   S\n",
      "0   K0   K0  P0  Q0  R0  S0\n",
      "1   K1   K0  P2  Q2  R1  S1\n",
      "2   K1   K0  P2  Q2  R2  S2\n"
     ]
    }
   ],
   "source": [
    "# Realizar a união (merge) com base nas colunas 'key1' e 'key2'\n",
    "merged_data = pd.merge(data1, data2, on=['key1', 'key2'], how='inner')\n",
    "\n",
    "print(\"\\nData após a união (merge):\")\n",
    "print(merged_data)"
   ]
  }
 ],
 "metadata": {
  "colab": {
   "name": "lista_2_resolvida.ipynb",
   "provenance": []
  },
  "kernelspec": {
   "display_name": "Python 3 (ipykernel)",
   "language": "python",
   "name": "python3"
  },
  "language_info": {
   "codemirror_mode": {
    "name": "ipython",
    "version": 3
   },
   "file_extension": ".py",
   "mimetype": "text/x-python",
   "name": "python",
   "nbconvert_exporter": "python",
   "pygments_lexer": "ipython3",
   "version": "3.10.11"
  }
 },
 "nbformat": 4,
 "nbformat_minor": 4
}
